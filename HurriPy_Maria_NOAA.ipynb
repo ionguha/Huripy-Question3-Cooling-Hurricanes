{
 "cells": [
  {
   "cell_type": "markdown",
   "metadata": {},
   "source": [
    "![Hurricane Maria](Images/Hurricane_Maria_Satellite.jpg)"
   ]
  },
  {
   "cell_type": "markdown",
   "metadata": {},
   "source": [
    "# Hurricane Maria"
   ]
  },
  {
   "cell_type": "code",
   "execution_count": 1,
   "metadata": {
    "scrolled": true
   },
   "outputs": [
    {
     "name": "stdout",
     "output_type": "stream",
     "text": [
      "All necessary libraries installed\n"
     ]
    }
   ],
   "source": [
    "# Import the necessary libraries\n",
    "import matplotlib.pyplot as plt # Plotting library\n",
    "import pandas as pd\n",
    "import numpy as np\n",
    "import requests\n",
    "import datetime\n",
    "import sys\n",
    "# Import API key\n",
    "from api_keys import noaa_key\n",
    "print(\"All necessary libraries installed\")"
   ]
  },
  {
   "cell_type": "markdown",
   "metadata": {},
   "source": [
    "### Hurricane Maria was a deadly Category 5 hurricane that devastated Dominica, St Croix, and Puerto Rico in September 2017\n",
    "**_Worst natural disaster in recorded history to affect those islands and was also the deadliest Atlantic hurricane since Jeanne in 2004. The tenth-most intense Atlantic hurricane on record and the most intense tropical cyclone worldwide in 2017.The hurricane reached Category 5 strength on September 18 just before making landfall on Dominica, becoming the first Category 5 hurricane on record to strike the island.On September 20, an eyewall replacement cycle took place, weakening Maria to a high-end Category 4 hurricane by the time it struck Puerto Rico.On August 28, 2018 (almost a year after the hurricane), Puerto Rico revised its official tally of 64 killed in the hurricane up to 2,975, making the total death toll 3,059._**"
   ]
  },
  {
   "cell_type": "markdown",
   "metadata": {},
   "source": [
    "## Location id:  Puerto Rico (\"FIPS:43\")"
   ]
  },
  {
   "cell_type": "markdown",
   "metadata": {},
   "source": [
    "### Dataset id: \"GHCND\" (name: \"Daily Summaries\")"
   ]
  },
  {
   "cell_type": "markdown",
   "metadata": {},
   "source": [
    "![Maria landfall](Images/Hurricane_Maria_landfall.jpg)"
   ]
  },
  {
   "cell_type": "markdown",
   "metadata": {},
   "source": [
    "## Let's see all the stations that returned \"GHCND\" data in Puerto Rico "
   ]
  },
  {
   "cell_type": "code",
   "execution_count": 2,
   "metadata": {
    "scrolled": true
   },
   "outputs": [
    {
     "name": "stdout",
     "output_type": "stream",
     "text": [
      "\u001b[1mZipcode :ZIP:00653\u001b[0m\n",
      "Request status code: 200\n",
      "\u001b[1mZipcode :ZIP:00602\u001b[0m\n",
      "Request status code: 200\n",
      "\u001b[1mZipcode :ZIP:00705\u001b[0m\n",
      "Request status code: 200\n",
      "\u001b[1mZipcode :ZIP:00612\u001b[0m\n",
      "Request status code: 200\n",
      "\u001b[1mZipcode :ZIP:00685\u001b[0m\n",
      "Request status code: 200\n",
      "\u001b[1mZipcode :ZIP:00637\u001b[0m\n",
      "Request status code: 200\n",
      "\u001b[1mZipcode :ZIP:00716\u001b[0m\n",
      "Request status code: 200\n",
      "\u001b[1mZipcode :ZIP:00765\u001b[0m\n",
      "Request status code: 200\n",
      "\u001b[1mZipcode :ZIP:00976\u001b[0m\n",
      "Request status code: 200\n",
      "\u001b[1mZipcode :ZIP:00641\u001b[0m\n",
      "Request status code: 200\n",
      "\u001b[1mZipcode :ZIP:00606\u001b[0m\n",
      "Request status code: 200\n",
      "\u001b[1mZipcode :ZIP:00623\u001b[0m\n",
      "Request status code: 200\n",
      "\u001b[1mZipcode :ZIP:00949\u001b[0m\n",
      "Request status code: 200\n",
      "\u001b[1mZipcode :ZIP:00907\u001b[0m\n",
      "Request status code: 200\n",
      "\u001b[1mZipcode :ZIP:00924\u001b[0m\n",
      "Request status code: 200\n"
     ]
    }
   ],
   "source": [
    "import json\n",
    "# Let's get fetch all the stations near Yabucoa, Puerto Rico\n",
    "mytoken = noaa_key\n",
    "location_id = \"FIPS:43\"\n",
    "dataset_id = \"GHCND\"\n",
    "zipcodes = [\"ZIP:00653\",\"ZIP:00602\",\"ZIP:00705\",\"ZIP:00612\",\"ZIP:00685\",\"ZIP:00637\",\"ZIP:00716\",\"ZIP:00765\",\"ZIP:00976\",\"ZIP:00641\",\"ZIP:00606\",\"ZIP:00623\",\"ZIP:00949\",\"ZIP:00907\",\"ZIP:00924\"]\n",
    "# Define base url to get weather summaries\n",
    "base_url = \"https://www.ncdc.noaa.gov/cdo-web/api/v2/stations?\"\n",
    "# Let's create a list to hold the responses from API call\n",
    "station_id = []\n",
    "station_name = []\n",
    "latitude = []\n",
    "longitude = []\n",
    "for zipcode in zipcodes:\n",
    "    # Create a query_url\n",
    "    query_url = base_url+\"datasetid=GHCND\"+\"&\"+\"locationid=\"+str(zipcode)+\"&\"+\"limit=800\"\n",
    "    # Create the request query\n",
    "    response = requests.get(query_url, headers = {\"token\":mytoken})\n",
    "    # Print the response url \n",
    "    print('\\033[1m'+\"Zipcode :{}\".format(zipcode)+'\\033[0m')\n",
    "    print(\"Request status code: \"+str(response.status_code))\n",
    "    response_json = response.json()\n",
    "    # Let's fill the dictionaries from the response file\n",
    "    for i in range(len(response_json[\"results\"])):\n",
    "        try:\n",
    "            station_id.append(response_json[\"results\"][i][\"id\"])\n",
    "            station_name.append(response_json[\"results\"][i][\"name\"])\n",
    "            latitude.append(response_json[\"results\"][i][\"latitude\"])\n",
    "            longitude.append(response_json[\"results\"][i][\"longitude\"])\n",
    "            # Handle exceptions for data not found in the response file\n",
    "        except(KeyError, ValueError):\n",
    "            # Print error message\n",
    "            print(\"Index {} : Data Not found ! Skipping..\".format(i))\n",
    "            pass"
   ]
  },
  {
   "cell_type": "markdown",
   "metadata": {},
   "source": [
    "## Creating a dataframe from the response"
   ]
  },
  {
   "cell_type": "code",
   "execution_count": 3,
   "metadata": {},
   "outputs": [
    {
     "name": "stdout",
     "output_type": "stream",
     "text": [
      "\u001b[1mThe shape of the df_PrtoRcoStations dataframe is: (46, 4)\u001b[0m\n"
     ]
    },
    {
     "data": {
      "text/html": [
       "<div>\n",
       "<style scoped>\n",
       "    .dataframe tbody tr th:only-of-type {\n",
       "        vertical-align: middle;\n",
       "    }\n",
       "\n",
       "    .dataframe tbody tr th {\n",
       "        vertical-align: top;\n",
       "    }\n",
       "\n",
       "    .dataframe thead th {\n",
       "        text-align: right;\n",
       "    }\n",
       "</style>\n",
       "<table border=\"1\" class=\"dataframe\">\n",
       "  <thead>\n",
       "    <tr style=\"text-align: right;\">\n",
       "      <th></th>\n",
       "      <th>Station id</th>\n",
       "      <th>Station name</th>\n",
       "      <th>Latitude</th>\n",
       "      <th>Longitude</th>\n",
       "    </tr>\n",
       "  </thead>\n",
       "  <tbody>\n",
       "    <tr>\n",
       "      <th>0</th>\n",
       "      <td>GHCND:RQC00663532</td>\n",
       "      <td>ENSENADA 1 W, US</td>\n",
       "      <td>17.9727</td>\n",
       "      <td>-66.94580</td>\n",
       "    </tr>\n",
       "    <tr>\n",
       "      <th>1</th>\n",
       "      <td>GHCND:RQC00664211</td>\n",
       "      <td>GUAYANILLA, US</td>\n",
       "      <td>18.0000</td>\n",
       "      <td>-66.86667</td>\n",
       "    </tr>\n",
       "    <tr>\n",
       "      <th>2</th>\n",
       "      <td>GHCND:RQC00668955</td>\n",
       "      <td>SANTA RITA, US</td>\n",
       "      <td>18.0097</td>\n",
       "      <td>-66.88470</td>\n",
       "    </tr>\n",
       "    <tr>\n",
       "      <th>3</th>\n",
       "      <td>GHCND:RQC00662801</td>\n",
       "      <td>COLOSO, US</td>\n",
       "      <td>18.3808</td>\n",
       "      <td>-67.15690</td>\n",
       "    </tr>\n",
       "    <tr>\n",
       "      <th>4</th>\n",
       "      <td>GHCND:RQC00660158</td>\n",
       "      <td>AIBONITO 1 S, US</td>\n",
       "      <td>18.1280</td>\n",
       "      <td>-66.26410</td>\n",
       "    </tr>\n",
       "  </tbody>\n",
       "</table>\n",
       "</div>"
      ],
      "text/plain": [
       "          Station id      Station name  Latitude  Longitude\n",
       "0  GHCND:RQC00663532  ENSENADA 1 W, US   17.9727  -66.94580\n",
       "1  GHCND:RQC00664211    GUAYANILLA, US   18.0000  -66.86667\n",
       "2  GHCND:RQC00668955    SANTA RITA, US   18.0097  -66.88470\n",
       "3  GHCND:RQC00662801        COLOSO, US   18.3808  -67.15690\n",
       "4  GHCND:RQC00660158  AIBONITO 1 S, US   18.1280  -66.26410"
      ]
     },
     "execution_count": 3,
     "metadata": {},
     "output_type": "execute_result"
    }
   ],
   "source": [
    "# Let's create a DataFrame with the lists\n",
    "df_PrtoRcoStations = pd.DataFrame({\n",
    "    \"Station id\": station_id,\n",
    "    \"Station name\": station_name,\n",
    "    \"Latitude\": latitude,\n",
    "    \"Longitude\": longitude\n",
    "})\n",
    "print('\\033[1m'+\"The shape of the {} dataframe is: {}\" .format(\"df_PrtoRcoStations\",df_PrtoRcoStations.shape)+'\\033[0m')\n",
    "df_PrtoRcoStations.head() # Display the DataFrame"
   ]
  },
  {
   "cell_type": "code",
   "execution_count": 4,
   "metadata": {},
   "outputs": [],
   "source": [
    "# Let's create a list of stations \n",
    "PrtoRcoStations = pd.Series(df_PrtoRcoStations[\"Station id\"])"
   ]
  },
  {
   "cell_type": "markdown",
   "metadata": {},
   "source": [
    "## Let's collect data from the selected stations close to the dates Maria hit Puerto Rico "
   ]
  },
  {
   "cell_type": "markdown",
   "metadata": {},
   "source": [
    "### Collect response from the selected zipcodes "
   ]
  },
  {
   "cell_type": "code",
   "execution_count": 5,
   "metadata": {
    "scrolled": true
   },
   "outputs": [
    {
     "name": "stdout",
     "output_type": "stream",
     "text": [
      "\u001b[1mZipcode :ZIP:00653\u001b[0m\n",
      "Request status code: 200\n",
      "\u001b[1mZipcode :ZIP:00602\u001b[0m\n",
      "Request status code: 200\n",
      "\u001b[1mZipcode :ZIP:00705\u001b[0m\n",
      "Request status code: 200\n",
      "\u001b[1mZipcode :ZIP:00612\u001b[0m\n",
      "Request status code: 200\n",
      "\u001b[1mZipcode :ZIP:00685\u001b[0m\n",
      "Request status code: 200\n",
      "\u001b[1mZipcode :ZIP:00637\u001b[0m\n",
      "Request status code: 200\n",
      "\u001b[1mZipcode :ZIP:00716\u001b[0m\n",
      "Request status code: 200\n",
      "\u001b[1mZipcode :ZIP:00765\u001b[0m\n",
      "Request status code: 200\n",
      "\u001b[1mZipcode :ZIP:00976\u001b[0m\n",
      "Request status code: 200\n",
      "\u001b[1mZipcode :ZIP:00641\u001b[0m\n",
      "Request status code: 200\n",
      "\u001b[1mZipcode :ZIP:00606\u001b[0m\n",
      "Request status code: 200\n",
      "\u001b[1mZipcode :ZIP:00623\u001b[0m\n",
      "Request status code: 200\n",
      "\u001b[1mZipcode :ZIP:00949\u001b[0m\n",
      "Request status code: 200\n",
      "\u001b[1mZipcode :ZIP:00907\u001b[0m\n",
      "Request status code: 200\n",
      "\u001b[1mZipcode :ZIP:00924\u001b[0m\n",
      "Request status code: 200\n"
     ]
    }
   ],
   "source": [
    "import json\n",
    "# Let's get fetch data from all the selected stations in Puerto Rico\n",
    "mytoken = noaa_key\n",
    "location_id = \"FIPS:43\"\n",
    "dataset_id = \"GHCND\"\n",
    "zipcodes = [\"ZIP:00653\",\"ZIP:00602\",\"ZIP:00705\",\"ZIP:00612\",\"ZIP:00685\",\"ZIP:00637\",\"ZIP:00716\",\"ZIP:00765\",\"ZIP:00976\",\"ZIP:00641\",\"ZIP:00606\",\"ZIP:00623\",\"ZIP:00949\",\"ZIP:00907\",\"ZIP:00924\"]\n",
    "start_date = \"2017-09-15\"\n",
    "end_date = \"2017-09-26\"\n",
    "# Define base url to get weather summaries\n",
    "base_url = \"https://www.ncdc.noaa.gov/cdo-web/api/v2/data?\"\n",
    "# Let's create a list of dictionaries\n",
    "weather_data = []\n",
    "# Display the start of Data Retrieval\n",
    "#print(f\"****** Beginning Data Retrieval *********\")\n",
    "# Let's fill the dictionaries from the response file\n",
    "for zipcode in zipcodes:\n",
    "    # Create a query_url\n",
    "    query_url = base_url+\"datasetid=\"+str(dataset_id)+\"&\"+\"locationid=\"+str(zipcode)+\"&\"+\"startdate=\"+str(start_date)+\"&\"+\"enddate=\"+str(end_date)+\"&\"+\"limit=800\"+\"&\"+\"units=standard\"\n",
    "    # Create the request query\n",
    "    response = requests.get(query_url, headers = {\"token\":mytoken})\n",
    "    # Print the response url \n",
    "    print('\\033[1m'+\"Zipcode :{}\".format(zipcode)+'\\033[0m')\n",
    "    print(\"Request status code: \"+str(response.status_code))\n",
    "    response_json = response.json()\n",
    "    if len(response_json[\"results\"]) != 0:\n",
    "        for i in range(len(response_json[\"results\"])):\n",
    "            try:\n",
    "                datatype = response_json[\"results\"][i][\"datatype\"]\n",
    "                date = response_json[\"results\"][i][\"date\"]\n",
    "                station = response_json[\"results\"][i][\"station\"]\n",
    "                value = response_json[\"results\"][i][\"value\"]\n",
    "                weather_data.append({\"DataType\":datatype,\n",
    "                                    \"Date\":date,\n",
    "                                    \"Station id\":station,\n",
    "                                    \"Value\":value})\n",
    "            # Handle exceptions for data not found in the response file\n",
    "            except(KeyError, ValueError):\n",
    "            # Print error message\n",
    "                print(\"Index {} : Data Not found ! Skipping..\".format(i))\n",
    "            pass\n",
    "    else:\n",
    "        continue\n",
    "        \n",
    "#print(f\"****** Data Retrieval Complete **********\")"
   ]
  },
  {
   "cell_type": "markdown",
   "metadata": {},
   "source": [
    "### Creating a dataframe from the response"
   ]
  },
  {
   "cell_type": "code",
   "execution_count": 6,
   "metadata": {},
   "outputs": [
    {
     "name": "stdout",
     "output_type": "stream",
     "text": [
      "\u001b[1mThe shape of the df_weather dataframe is: (211, 4)\u001b[0m\n"
     ]
    },
    {
     "data": {
      "text/html": [
       "<div>\n",
       "<style scoped>\n",
       "    .dataframe tbody tr th:only-of-type {\n",
       "        vertical-align: middle;\n",
       "    }\n",
       "\n",
       "    .dataframe tbody tr th {\n",
       "        vertical-align: top;\n",
       "    }\n",
       "\n",
       "    .dataframe thead th {\n",
       "        text-align: right;\n",
       "    }\n",
       "</style>\n",
       "<table border=\"1\" class=\"dataframe\">\n",
       "  <thead>\n",
       "    <tr style=\"text-align: right;\">\n",
       "      <th></th>\n",
       "      <th>DataType</th>\n",
       "      <th>Date</th>\n",
       "      <th>Station id</th>\n",
       "      <th>Value</th>\n",
       "    </tr>\n",
       "  </thead>\n",
       "  <tbody>\n",
       "    <tr>\n",
       "      <th>0</th>\n",
       "      <td>PRCP</td>\n",
       "      <td>2017-09-15T00:00:00</td>\n",
       "      <td>GHCND:RQC00663532</td>\n",
       "      <td>0.3</td>\n",
       "    </tr>\n",
       "    <tr>\n",
       "      <th>1</th>\n",
       "      <td>PRCP</td>\n",
       "      <td>2017-09-16T00:00:00</td>\n",
       "      <td>GHCND:RQC00663532</td>\n",
       "      <td>0.0</td>\n",
       "    </tr>\n",
       "    <tr>\n",
       "      <th>2</th>\n",
       "      <td>PRCP</td>\n",
       "      <td>2017-09-17T00:00:00</td>\n",
       "      <td>GHCND:RQC00663532</td>\n",
       "      <td>0.0</td>\n",
       "    </tr>\n",
       "    <tr>\n",
       "      <th>3</th>\n",
       "      <td>PRCP</td>\n",
       "      <td>2017-09-18T00:00:00</td>\n",
       "      <td>GHCND:RQC00663532</td>\n",
       "      <td>0.0</td>\n",
       "    </tr>\n",
       "    <tr>\n",
       "      <th>4</th>\n",
       "      <td>PRCP</td>\n",
       "      <td>2017-09-19T00:00:00</td>\n",
       "      <td>GHCND:RQC00663532</td>\n",
       "      <td>0.0</td>\n",
       "    </tr>\n",
       "  </tbody>\n",
       "</table>\n",
       "</div>"
      ],
      "text/plain": [
       "  DataType                 Date         Station id  Value\n",
       "0     PRCP  2017-09-15T00:00:00  GHCND:RQC00663532    0.3\n",
       "1     PRCP  2017-09-16T00:00:00  GHCND:RQC00663532    0.0\n",
       "2     PRCP  2017-09-17T00:00:00  GHCND:RQC00663532    0.0\n",
       "3     PRCP  2017-09-18T00:00:00  GHCND:RQC00663532    0.0\n",
       "4     PRCP  2017-09-19T00:00:00  GHCND:RQC00663532    0.0"
      ]
     },
     "execution_count": 6,
     "metadata": {},
     "output_type": "execute_result"
    }
   ],
   "source": [
    "# Let's create a DataFrame with the lists\n",
    "df_weather = pd.DataFrame(weather_data)\n",
    "print('\\033[1m'+\"The shape of the {} dataframe is: {}\" .format(\"df_weather\",df_weather.shape)+'\\033[0m')\n",
    "df_weather.head() # Display the DataFrame"
   ]
  },
  {
   "cell_type": "code",
   "execution_count": 7,
   "metadata": {},
   "outputs": [],
   "source": [
    "# Let's create a list of stations \n",
    "LWeatherStations = pd.Series(df_weather[\"Station id\"])"
   ]
  },
  {
   "cell_type": "markdown",
   "metadata": {},
   "source": [
    "![Hurricane Irma](Images/Hurricane-IrmaA.jpg)"
   ]
  },
  {
   "cell_type": "markdown",
   "metadata": {},
   "source": [
    "### Any common stations between the  two lists ?"
   ]
  },
  {
   "cell_type": "code",
   "execution_count": 8,
   "metadata": {},
   "outputs": [
    {
     "name": "stdout",
     "output_type": "stream",
     "text": [
      "\u001b[1mAre there common stations between lists? True\u001b[0m\n"
     ]
    }
   ],
   "source": [
    "def common_member (x,y):\n",
    "    x_set = set(x)\n",
    "    y_set = set(y)\n",
    "    if len(x_set.intersection(y_set))>0:\n",
    "        return(True)\n",
    "    return(False)\n",
    "print('\\033[1m'+\"Are there common stations between lists? {}\" .format(common_member(LWeatherStations,PrtoRcoStations))+'\\033[0m')"
   ]
  },
  {
   "cell_type": "code",
   "execution_count": 9,
   "metadata": {},
   "outputs": [
    {
     "name": "stdout",
     "output_type": "stream",
     "text": [
      "\u001b[1mNumber of stations without geo-cordinates: 0\u001b[0m\n",
      "\u001b[1mStations without geo-cordinates: set()\u001b[0m\n"
     ]
    }
   ],
   "source": [
    "x_set = set(LWeatherStations)\n",
    "y_set = set(PrtoRcoStations)\n",
    "print('\\033[1m'+\"Number of stations without geo-cordinates: {}\" .format(len(x_set-y_set))+'\\033[0m')\n",
    "print('\\033[1m'+\"Stations without geo-cordinates: {}\" .format((x_set-y_set))+'\\033[0m')"
   ]
  },
  {
   "cell_type": "markdown",
   "metadata": {},
   "source": [
    "## Creating a combined dataframe with geo coordinates"
   ]
  },
  {
   "cell_type": "code",
   "execution_count": 10,
   "metadata": {},
   "outputs": [
    {
     "name": "stdout",
     "output_type": "stream",
     "text": [
      "\u001b[96m\u001b[1mThe shape of the df_PrtRcoWeatherr dataframe is (211, 7):\u001b[0m\n"
     ]
    },
    {
     "data": {
      "text/html": [
       "<div>\n",
       "<style scoped>\n",
       "    .dataframe tbody tr th:only-of-type {\n",
       "        vertical-align: middle;\n",
       "    }\n",
       "\n",
       "    .dataframe tbody tr th {\n",
       "        vertical-align: top;\n",
       "    }\n",
       "\n",
       "    .dataframe thead th {\n",
       "        text-align: right;\n",
       "    }\n",
       "</style>\n",
       "<table border=\"1\" class=\"dataframe\">\n",
       "  <thead>\n",
       "    <tr style=\"text-align: right;\">\n",
       "      <th></th>\n",
       "      <th>DataType</th>\n",
       "      <th>Date</th>\n",
       "      <th>Station id</th>\n",
       "      <th>Value</th>\n",
       "      <th>Station name</th>\n",
       "      <th>Latitude</th>\n",
       "      <th>Longitude</th>\n",
       "    </tr>\n",
       "  </thead>\n",
       "  <tbody>\n",
       "    <tr>\n",
       "      <th>0</th>\n",
       "      <td>PRCP</td>\n",
       "      <td>2017-09-15</td>\n",
       "      <td>GHCND:RQC00663532</td>\n",
       "      <td>0.3</td>\n",
       "      <td>ENSENADA 1 W, US</td>\n",
       "      <td>17.9727</td>\n",
       "      <td>-66.9458</td>\n",
       "    </tr>\n",
       "    <tr>\n",
       "      <th>1</th>\n",
       "      <td>PRCP</td>\n",
       "      <td>2017-09-16</td>\n",
       "      <td>GHCND:RQC00663532</td>\n",
       "      <td>0.0</td>\n",
       "      <td>ENSENADA 1 W, US</td>\n",
       "      <td>17.9727</td>\n",
       "      <td>-66.9458</td>\n",
       "    </tr>\n",
       "    <tr>\n",
       "      <th>2</th>\n",
       "      <td>PRCP</td>\n",
       "      <td>2017-09-17</td>\n",
       "      <td>GHCND:RQC00663532</td>\n",
       "      <td>0.0</td>\n",
       "      <td>ENSENADA 1 W, US</td>\n",
       "      <td>17.9727</td>\n",
       "      <td>-66.9458</td>\n",
       "    </tr>\n",
       "    <tr>\n",
       "      <th>3</th>\n",
       "      <td>PRCP</td>\n",
       "      <td>2017-09-18</td>\n",
       "      <td>GHCND:RQC00663532</td>\n",
       "      <td>0.0</td>\n",
       "      <td>ENSENADA 1 W, US</td>\n",
       "      <td>17.9727</td>\n",
       "      <td>-66.9458</td>\n",
       "    </tr>\n",
       "    <tr>\n",
       "      <th>4</th>\n",
       "      <td>PRCP</td>\n",
       "      <td>2017-09-19</td>\n",
       "      <td>GHCND:RQC00663532</td>\n",
       "      <td>0.0</td>\n",
       "      <td>ENSENADA 1 W, US</td>\n",
       "      <td>17.9727</td>\n",
       "      <td>-66.9458</td>\n",
       "    </tr>\n",
       "  </tbody>\n",
       "</table>\n",
       "</div>"
      ],
      "text/plain": [
       "  DataType        Date         Station id  Value      Station name  Latitude  \\\n",
       "0     PRCP  2017-09-15  GHCND:RQC00663532    0.3  ENSENADA 1 W, US   17.9727   \n",
       "1     PRCP  2017-09-16  GHCND:RQC00663532    0.0  ENSENADA 1 W, US   17.9727   \n",
       "2     PRCP  2017-09-17  GHCND:RQC00663532    0.0  ENSENADA 1 W, US   17.9727   \n",
       "3     PRCP  2017-09-18  GHCND:RQC00663532    0.0  ENSENADA 1 W, US   17.9727   \n",
       "4     PRCP  2017-09-19  GHCND:RQC00663532    0.0  ENSENADA 1 W, US   17.9727   \n",
       "\n",
       "   Longitude  \n",
       "0   -66.9458  \n",
       "1   -66.9458  \n",
       "2   -66.9458  \n",
       "3   -66.9458  \n",
       "4   -66.9458  "
      ]
     },
     "execution_count": 10,
     "metadata": {},
     "output_type": "execute_result"
    }
   ],
   "source": [
    "# Combine the dataframes into a single dataframe\n",
    "df_PrtRcoWeather = pd.merge(df_weather, df_PrtoRcoStations, how=\"inner\", on=\"Station id\")\n",
    "# Using list comprehensions to remove the time stamp from Date\n",
    "df_PrtRcoWeather[\"Date\"] = [v[:-9] for v in df_PrtRcoWeather[\"Date\"]]\n",
    "# Display the Dataframe\n",
    "print('\\033[96m'+'\\033[1m'+\"The shape of the {} dataframe is {}:\" .format(\"df_PrtRcoWeatherr\",df_PrtRcoWeather.shape)+'\\033[0m')\n",
    "df_PrtRcoWeather.head()"
   ]
  },
  {
   "cell_type": "code",
   "execution_count": 11,
   "metadata": {},
   "outputs": [
    {
     "name": "stdout",
     "output_type": "stream",
     "text": [
      "['PRCP', 'TMAX', 'TMIN', 'TOBS', 'DAPR', 'MDPR', 'SNOW']\n"
     ]
    }
   ],
   "source": [
    "# Let's see the unique datatypes in the final DataFrame\n",
    "print(df_PrtRcoWeather[\"DataType\"].unique().tolist())"
   ]
  },
  {
   "cell_type": "markdown",
   "metadata": {},
   "source": [
    "## Definition of the data types :\n",
    "* PRCP  : Precipitation (mm or inches)\n",
    "* DAPR  : Number of days included in multiday precipitation total (MDPR)\n",
    "* SNOW  : Snowfall (mm or inches)\n",
    "* MDPR  : Multiday precipitation total (mm or inches)\n",
    "* TMAX  : Maximim Temperature (Fahrenheit or Celsius)\n",
    "* TMIN  : Minimum Temperature (Fahrenheit or Celsius)\n",
    "* TOBS  : Temperature at the time of observation (Fahrenheit or Celsius)"
   ]
  },
  {
   "cell_type": "markdown",
   "metadata": {},
   "source": [
    "## Let's see how many data points are available for each weather types"
   ]
  },
  {
   "cell_type": "code",
   "execution_count": 12,
   "metadata": {},
   "outputs": [
    {
     "name": "stdout",
     "output_type": "stream",
     "text": [
      "\u001b[96m\u001b[1mThe shape of weather count dataframe is (7, 2):\u001b[0m\n"
     ]
    },
    {
     "data": {
      "text/html": [
       "<div>\n",
       "<style scoped>\n",
       "    .dataframe tbody tr th:only-of-type {\n",
       "        vertical-align: middle;\n",
       "    }\n",
       "\n",
       "    .dataframe tbody tr th {\n",
       "        vertical-align: top;\n",
       "    }\n",
       "\n",
       "    .dataframe thead th {\n",
       "        text-align: right;\n",
       "    }\n",
       "</style>\n",
       "<table border=\"1\" class=\"dataframe\">\n",
       "  <thead>\n",
       "    <tr style=\"text-align: right;\">\n",
       "      <th></th>\n",
       "      <th>DataType</th>\n",
       "      <th>Count</th>\n",
       "    </tr>\n",
       "  </thead>\n",
       "  <tbody>\n",
       "    <tr>\n",
       "      <th>0</th>\n",
       "      <td>PRCP</td>\n",
       "      <td>114</td>\n",
       "    </tr>\n",
       "    <tr>\n",
       "      <th>1</th>\n",
       "      <td>TMAX</td>\n",
       "      <td>28</td>\n",
       "    </tr>\n",
       "    <tr>\n",
       "      <th>2</th>\n",
       "      <td>TMIN</td>\n",
       "      <td>28</td>\n",
       "    </tr>\n",
       "    <tr>\n",
       "      <th>3</th>\n",
       "      <td>TOBS</td>\n",
       "      <td>26</td>\n",
       "    </tr>\n",
       "    <tr>\n",
       "      <th>4</th>\n",
       "      <td>SNOW</td>\n",
       "      <td>6</td>\n",
       "    </tr>\n",
       "  </tbody>\n",
       "</table>\n",
       "</div>"
      ],
      "text/plain": [
       "  DataType  Count\n",
       "0     PRCP    114\n",
       "1     TMAX     28\n",
       "2     TMIN     28\n",
       "3     TOBS     26\n",
       "4     SNOW      6"
      ]
     },
     "execution_count": 12,
     "metadata": {},
     "output_type": "execute_result"
    }
   ],
   "source": [
    "# Let's groupby data-type column in the dataframe and count the ocurrences\n",
    "grouped_count = df_PrtRcoWeather[\"DataType\"].groupby(df_PrtRcoWeather[\"DataType\"]) # Create a GroupBy object\n",
    "# Let's create a dataframe with the number of data points for each weather data type\n",
    "weather_count_unsorted = grouped_count.count().to_frame(\"Count\")\n",
    "# Let's sort the dataframe by number of count\n",
    "weather_count = weather_count_unsorted.sort_values(by=\"Count\",ascending=False)\n",
    "# Let's reset index in the new dataframe\n",
    "weather_count.reset_index(inplace=True)\n",
    "# Display the Dataframe\n",
    "print('\\033[96m'+'\\033[1m'+\"The shape of weather count dataframe is {}:\" .format(weather_count.shape)+'\\033[0m')\n",
    "weather_count.head()"
   ]
  },
  {
   "cell_type": "markdown",
   "metadata": {},
   "source": [
    "## Precipitation in Peurto Rico when hurricane Maria made landfall"
   ]
  },
  {
   "cell_type": "code",
   "execution_count": 13,
   "metadata": {},
   "outputs": [
    {
     "name": "stdout",
     "output_type": "stream",
     "text": [
      "\u001b[94m\u001b[1mThe shape of the precipitation dataframe is:(114, 7)\u001b[0m\n"
     ]
    },
    {
     "data": {
      "text/html": [
       "<div>\n",
       "<style scoped>\n",
       "    .dataframe tbody tr th:only-of-type {\n",
       "        vertical-align: middle;\n",
       "    }\n",
       "\n",
       "    .dataframe tbody tr th {\n",
       "        vertical-align: top;\n",
       "    }\n",
       "\n",
       "    .dataframe thead th {\n",
       "        text-align: right;\n",
       "    }\n",
       "</style>\n",
       "<table border=\"1\" class=\"dataframe\">\n",
       "  <thead>\n",
       "    <tr style=\"text-align: right;\">\n",
       "      <th></th>\n",
       "      <th>DataType</th>\n",
       "      <th>Date</th>\n",
       "      <th>Station id</th>\n",
       "      <th>Value</th>\n",
       "      <th>Station name</th>\n",
       "      <th>Latitude</th>\n",
       "      <th>Longitude</th>\n",
       "    </tr>\n",
       "  </thead>\n",
       "  <tbody>\n",
       "    <tr>\n",
       "      <th>0</th>\n",
       "      <td>PRCP</td>\n",
       "      <td>2017-09-15</td>\n",
       "      <td>GHCND:RQC00663532</td>\n",
       "      <td>0.30</td>\n",
       "      <td>ENSENADA 1 W, US</td>\n",
       "      <td>17.972700</td>\n",
       "      <td>-66.945800</td>\n",
       "    </tr>\n",
       "    <tr>\n",
       "      <th>1</th>\n",
       "      <td>PRCP</td>\n",
       "      <td>2017-09-15</td>\n",
       "      <td>GHCND:RQC00665908</td>\n",
       "      <td>0.00</td>\n",
       "      <td>MARICAO 2 SSW, US</td>\n",
       "      <td>18.151100</td>\n",
       "      <td>-66.988800</td>\n",
       "    </tr>\n",
       "    <tr>\n",
       "      <th>2</th>\n",
       "      <td>PRCP</td>\n",
       "      <td>2017-09-15</td>\n",
       "      <td>GHCND:RQ1PRUT0002</td>\n",
       "      <td>0.00</td>\n",
       "      <td>UTUADO 5.5 W, US</td>\n",
       "      <td>18.268389</td>\n",
       "      <td>-66.789861</td>\n",
       "    </tr>\n",
       "    <tr>\n",
       "      <th>3</th>\n",
       "      <td>PRCP</td>\n",
       "      <td>2017-09-15</td>\n",
       "      <td>GHCND:RQ1PRPC0006</td>\n",
       "      <td>1.35</td>\n",
       "      <td>PONCE 2.3 NE, US</td>\n",
       "      <td>18.012470</td>\n",
       "      <td>-66.587400</td>\n",
       "    </tr>\n",
       "    <tr>\n",
       "      <th>4</th>\n",
       "      <td>PRCP</td>\n",
       "      <td>2017-09-15</td>\n",
       "      <td>GHCND:RQ1PRPC0002</td>\n",
       "      <td>0.00</td>\n",
       "      <td>PONCE 3.2 NNE, US</td>\n",
       "      <td>18.031824</td>\n",
       "      <td>-66.599561</td>\n",
       "    </tr>\n",
       "  </tbody>\n",
       "</table>\n",
       "</div>"
      ],
      "text/plain": [
       "  DataType        Date         Station id  Value       Station name  \\\n",
       "0     PRCP  2017-09-15  GHCND:RQC00663532   0.30   ENSENADA 1 W, US   \n",
       "1     PRCP  2017-09-15  GHCND:RQC00665908   0.00  MARICAO 2 SSW, US   \n",
       "2     PRCP  2017-09-15  GHCND:RQ1PRUT0002   0.00   UTUADO 5.5 W, US   \n",
       "3     PRCP  2017-09-15  GHCND:RQ1PRPC0006   1.35   PONCE 2.3 NE, US   \n",
       "4     PRCP  2017-09-15  GHCND:RQ1PRPC0002   0.00  PONCE 3.2 NNE, US   \n",
       "\n",
       "    Latitude  Longitude  \n",
       "0  17.972700 -66.945800  \n",
       "1  18.151100 -66.988800  \n",
       "2  18.268389 -66.789861  \n",
       "3  18.012470 -66.587400  \n",
       "4  18.031824 -66.599561  "
      ]
     },
     "execution_count": 13,
     "metadata": {},
     "output_type": "execute_result"
    }
   ],
   "source": [
    "# Let's create a precipitation dataframe\n",
    "df_prcp_unsorted = df_PrtRcoWeather.loc[(df_PrtRcoWeather[\"DataType\"]==\"PRCP\"),:]\n",
    "# Let's sort the dataframe by Date\n",
    "df_prcp = df_prcp_unsorted.sort_values(by=\"Date\",ascending=True)\n",
    "# Let's reset index in the new dataframe\n",
    "df_prcp.reset_index(drop = True, inplace=True)\n",
    "# Save the dataframe to the output file\n",
    "df_prcp.to_csv(\"Output_Data/Maria_Prcp.csv\", index=False, encoding=\"utf-8\")\n",
    "# Display the dataframe\n",
    "print('\\033[94m'+'\\033[1m'+\"The shape of the precipitation dataframe is:{}\".format(df_prcp.shape)+'\\033[0m')\n",
    "df_prcp.head()"
   ]
  },
  {
   "cell_type": "markdown",
   "metadata": {},
   "source": [
    "## Let's create maximum precipitation dataframe"
   ]
  },
  {
   "cell_type": "code",
   "execution_count": 14,
   "metadata": {},
   "outputs": [
    {
     "name": "stdout",
     "output_type": "stream",
     "text": [
      "\u001b[94m\u001b[1mThe shape of the max per day precipitation dataframe is:(12, 2)\u001b[0m\n"
     ]
    },
    {
     "data": {
      "text/html": [
       "<div>\n",
       "<style scoped>\n",
       "    .dataframe tbody tr th:only-of-type {\n",
       "        vertical-align: middle;\n",
       "    }\n",
       "\n",
       "    .dataframe tbody tr th {\n",
       "        vertical-align: top;\n",
       "    }\n",
       "\n",
       "    .dataframe thead th {\n",
       "        text-align: right;\n",
       "    }\n",
       "</style>\n",
       "<table border=\"1\" class=\"dataframe\">\n",
       "  <thead>\n",
       "    <tr style=\"text-align: right;\">\n",
       "      <th></th>\n",
       "      <th>Date</th>\n",
       "      <th>Value</th>\n",
       "    </tr>\n",
       "  </thead>\n",
       "  <tbody>\n",
       "    <tr>\n",
       "      <th>0</th>\n",
       "      <td>2017-09-15</td>\n",
       "      <td>1.48</td>\n",
       "    </tr>\n",
       "    <tr>\n",
       "      <th>1</th>\n",
       "      <td>2017-09-16</td>\n",
       "      <td>1.65</td>\n",
       "    </tr>\n",
       "    <tr>\n",
       "      <th>2</th>\n",
       "      <td>2017-09-17</td>\n",
       "      <td>0.30</td>\n",
       "    </tr>\n",
       "    <tr>\n",
       "      <th>3</th>\n",
       "      <td>2017-09-18</td>\n",
       "      <td>1.22</td>\n",
       "    </tr>\n",
       "    <tr>\n",
       "      <th>4</th>\n",
       "      <td>2017-09-19</td>\n",
       "      <td>2.00</td>\n",
       "    </tr>\n",
       "  </tbody>\n",
       "</table>\n",
       "</div>"
      ],
      "text/plain": [
       "         Date  Value\n",
       "0  2017-09-15   1.48\n",
       "1  2017-09-16   1.65\n",
       "2  2017-09-17   0.30\n",
       "3  2017-09-18   1.22\n",
       "4  2017-09-19   2.00"
      ]
     },
     "execution_count": 14,
     "metadata": {},
     "output_type": "execute_result"
    }
   ],
   "source": [
    "# Let's groupby value column by date and count the maximum ocurrences\n",
    "grouped_count = df_prcp[\"Value\"].groupby(df_prcp[\"Date\"]) # Create a GroupBy object\n",
    "# Let's create a dataframe with maximum precipitation per day\n",
    "df_prcp_max_unsorted = grouped_count.max().to_frame(\"Value\")\n",
    "# Let's sort the dataframe by date\n",
    "df_prcp_max = df_prcp_max_unsorted.sort_values(by=\"Date\",ascending=True)\n",
    "# Let's reset index in the new dataframe\n",
    "df_prcp_max.reset_index(inplace=True)\n",
    "# Save the dataframe to the output file\n",
    "df_prcp_max.to_csv(\"Output_Data/Maria_Prcp_max.csv\", index=False, encoding=\"utf-8\")\n",
    "# Display the dataframe\n",
    "print('\\033[94m'+'\\033[1m'+\"The shape of the max per day precipitation dataframe is:{}\".format(df_prcp_max.shape)+'\\033[0m')\n",
    "df_prcp_max.head()"
   ]
  },
  {
   "cell_type": "markdown",
   "metadata": {},
   "source": [
    "## Maximum Temperature in Peurto Rico when hurricane Maria made landfall"
   ]
  },
  {
   "cell_type": "code",
   "execution_count": 15,
   "metadata": {},
   "outputs": [
    {
     "name": "stdout",
     "output_type": "stream",
     "text": [
      "\u001b[94m\u001b[1mThe shape of the max temperature dataframe is:(28, 7)\u001b[0m\n"
     ]
    },
    {
     "data": {
      "text/html": [
       "<div>\n",
       "<style scoped>\n",
       "    .dataframe tbody tr th:only-of-type {\n",
       "        vertical-align: middle;\n",
       "    }\n",
       "\n",
       "    .dataframe tbody tr th {\n",
       "        vertical-align: top;\n",
       "    }\n",
       "\n",
       "    .dataframe thead th {\n",
       "        text-align: right;\n",
       "    }\n",
       "</style>\n",
       "<table border=\"1\" class=\"dataframe\">\n",
       "  <thead>\n",
       "    <tr style=\"text-align: right;\">\n",
       "      <th></th>\n",
       "      <th>DataType</th>\n",
       "      <th>Date</th>\n",
       "      <th>Station id</th>\n",
       "      <th>Value</th>\n",
       "      <th>Station name</th>\n",
       "      <th>Latitude</th>\n",
       "      <th>Longitude</th>\n",
       "    </tr>\n",
       "  </thead>\n",
       "  <tbody>\n",
       "    <tr>\n",
       "      <th>0</th>\n",
       "      <td>TMAX</td>\n",
       "      <td>2017-09-15</td>\n",
       "      <td>GHCND:RQC00662801</td>\n",
       "      <td>90.0</td>\n",
       "      <td>COLOSO, US</td>\n",
       "      <td>18.3808</td>\n",
       "      <td>-67.1569</td>\n",
       "    </tr>\n",
       "    <tr>\n",
       "      <th>1</th>\n",
       "      <td>TMAX</td>\n",
       "      <td>2017-09-15</td>\n",
       "      <td>GHCND:RQC00660158</td>\n",
       "      <td>81.0</td>\n",
       "      <td>AIBONITO 1 S, US</td>\n",
       "      <td>18.1280</td>\n",
       "      <td>-66.2641</td>\n",
       "    </tr>\n",
       "    <tr>\n",
       "      <th>2</th>\n",
       "      <td>TMAX</td>\n",
       "      <td>2017-09-15</td>\n",
       "      <td>GHCND:RQC00665908</td>\n",
       "      <td>78.0</td>\n",
       "      <td>MARICAO 2 SSW, US</td>\n",
       "      <td>18.1511</td>\n",
       "      <td>-66.9888</td>\n",
       "    </tr>\n",
       "    <tr>\n",
       "      <th>3</th>\n",
       "      <td>TMAX</td>\n",
       "      <td>2017-09-15</td>\n",
       "      <td>GHCND:RQC00663431</td>\n",
       "      <td>92.0</td>\n",
       "      <td>DOS BOCAS, US</td>\n",
       "      <td>18.3361</td>\n",
       "      <td>-66.6666</td>\n",
       "    </tr>\n",
       "    <tr>\n",
       "      <th>4</th>\n",
       "      <td>TMAX</td>\n",
       "      <td>2017-09-16</td>\n",
       "      <td>GHCND:RQC00662801</td>\n",
       "      <td>91.0</td>\n",
       "      <td>COLOSO, US</td>\n",
       "      <td>18.3808</td>\n",
       "      <td>-67.1569</td>\n",
       "    </tr>\n",
       "  </tbody>\n",
       "</table>\n",
       "</div>"
      ],
      "text/plain": [
       "  DataType        Date         Station id  Value       Station name  Latitude  \\\n",
       "0     TMAX  2017-09-15  GHCND:RQC00662801   90.0         COLOSO, US   18.3808   \n",
       "1     TMAX  2017-09-15  GHCND:RQC00660158   81.0   AIBONITO 1 S, US   18.1280   \n",
       "2     TMAX  2017-09-15  GHCND:RQC00665908   78.0  MARICAO 2 SSW, US   18.1511   \n",
       "3     TMAX  2017-09-15  GHCND:RQC00663431   92.0      DOS BOCAS, US   18.3361   \n",
       "4     TMAX  2017-09-16  GHCND:RQC00662801   91.0         COLOSO, US   18.3808   \n",
       "\n",
       "   Longitude  \n",
       "0   -67.1569  \n",
       "1   -66.2641  \n",
       "2   -66.9888  \n",
       "3   -66.6666  \n",
       "4   -67.1569  "
      ]
     },
     "execution_count": 15,
     "metadata": {},
     "output_type": "execute_result"
    }
   ],
   "source": [
    "# Let's create maximum temperature dataframe\n",
    "df_MaxTemp_unsorted = df_PrtRcoWeather.loc[(df_PrtRcoWeather[\"DataType\"]==\"TMAX\"),:]\n",
    "# Let's sort the dataframe by Date\n",
    "df_MaxTemp = df_MaxTemp_unsorted.sort_values(by=\"Date\",ascending=True)\n",
    "# Let's reset index in the new dataframe\n",
    "df_MaxTemp.reset_index(drop = True, inplace=True)\n",
    "# Save the dataframe to the output file\n",
    "df_MaxTemp.to_csv(\"Output_Data/Maria_MaxTemp.csv\", index=False, encoding=\"utf-8\")\n",
    "# Display the dataframe\n",
    "print('\\033[94m'+'\\033[1m'+\"The shape of the max temperature dataframe is:{}\".format(df_MaxTemp.shape)+'\\033[0m')\n",
    "df_MaxTemp.head()"
   ]
  },
  {
   "cell_type": "markdown",
   "metadata": {},
   "source": [
    "## Minimum Temperature in Peurto Rico when hurricane Maria made landfall"
   ]
  },
  {
   "cell_type": "code",
   "execution_count": 16,
   "metadata": {},
   "outputs": [
    {
     "name": "stdout",
     "output_type": "stream",
     "text": [
      "\u001b[96m\u001b[1mThe shape of the minimum temperature dataframe is:(28, 7)\u001b[0m\n"
     ]
    },
    {
     "data": {
      "text/html": [
       "<div>\n",
       "<style scoped>\n",
       "    .dataframe tbody tr th:only-of-type {\n",
       "        vertical-align: middle;\n",
       "    }\n",
       "\n",
       "    .dataframe tbody tr th {\n",
       "        vertical-align: top;\n",
       "    }\n",
       "\n",
       "    .dataframe thead th {\n",
       "        text-align: right;\n",
       "    }\n",
       "</style>\n",
       "<table border=\"1\" class=\"dataframe\">\n",
       "  <thead>\n",
       "    <tr style=\"text-align: right;\">\n",
       "      <th></th>\n",
       "      <th>DataType</th>\n",
       "      <th>Date</th>\n",
       "      <th>Station id</th>\n",
       "      <th>Value</th>\n",
       "      <th>Station name</th>\n",
       "      <th>Latitude</th>\n",
       "      <th>Longitude</th>\n",
       "    </tr>\n",
       "  </thead>\n",
       "  <tbody>\n",
       "    <tr>\n",
       "      <th>0</th>\n",
       "      <td>TMIN</td>\n",
       "      <td>2017-09-15</td>\n",
       "      <td>GHCND:RQC00662801</td>\n",
       "      <td>74.0</td>\n",
       "      <td>COLOSO, US</td>\n",
       "      <td>18.3808</td>\n",
       "      <td>-67.1569</td>\n",
       "    </tr>\n",
       "    <tr>\n",
       "      <th>1</th>\n",
       "      <td>TMIN</td>\n",
       "      <td>2017-09-15</td>\n",
       "      <td>GHCND:RQC00660158</td>\n",
       "      <td>67.0</td>\n",
       "      <td>AIBONITO 1 S, US</td>\n",
       "      <td>18.1280</td>\n",
       "      <td>-66.2641</td>\n",
       "    </tr>\n",
       "    <tr>\n",
       "      <th>2</th>\n",
       "      <td>TMIN</td>\n",
       "      <td>2017-09-15</td>\n",
       "      <td>GHCND:RQC00665908</td>\n",
       "      <td>69.0</td>\n",
       "      <td>MARICAO 2 SSW, US</td>\n",
       "      <td>18.1511</td>\n",
       "      <td>-66.9888</td>\n",
       "    </tr>\n",
       "    <tr>\n",
       "      <th>3</th>\n",
       "      <td>TMIN</td>\n",
       "      <td>2017-09-15</td>\n",
       "      <td>GHCND:RQC00663431</td>\n",
       "      <td>74.0</td>\n",
       "      <td>DOS BOCAS, US</td>\n",
       "      <td>18.3361</td>\n",
       "      <td>-66.6666</td>\n",
       "    </tr>\n",
       "    <tr>\n",
       "      <th>4</th>\n",
       "      <td>TMIN</td>\n",
       "      <td>2017-09-16</td>\n",
       "      <td>GHCND:RQC00662801</td>\n",
       "      <td>73.0</td>\n",
       "      <td>COLOSO, US</td>\n",
       "      <td>18.3808</td>\n",
       "      <td>-67.1569</td>\n",
       "    </tr>\n",
       "  </tbody>\n",
       "</table>\n",
       "</div>"
      ],
      "text/plain": [
       "  DataType        Date         Station id  Value       Station name  Latitude  \\\n",
       "0     TMIN  2017-09-15  GHCND:RQC00662801   74.0         COLOSO, US   18.3808   \n",
       "1     TMIN  2017-09-15  GHCND:RQC00660158   67.0   AIBONITO 1 S, US   18.1280   \n",
       "2     TMIN  2017-09-15  GHCND:RQC00665908   69.0  MARICAO 2 SSW, US   18.1511   \n",
       "3     TMIN  2017-09-15  GHCND:RQC00663431   74.0      DOS BOCAS, US   18.3361   \n",
       "4     TMIN  2017-09-16  GHCND:RQC00662801   73.0         COLOSO, US   18.3808   \n",
       "\n",
       "   Longitude  \n",
       "0   -67.1569  \n",
       "1   -66.2641  \n",
       "2   -66.9888  \n",
       "3   -66.6666  \n",
       "4   -67.1569  "
      ]
     },
     "execution_count": 16,
     "metadata": {},
     "output_type": "execute_result"
    }
   ],
   "source": [
    "# Let's create minimum temperature dataframe\n",
    "df_MinTemp_unsorted = df_PrtRcoWeather.loc[(df_PrtRcoWeather[\"DataType\"]==\"TMIN\"),:]\n",
    "# Let's sort the dataframe by Date\n",
    "df_MinTemp = df_MinTemp_unsorted.sort_values(by=\"Date\",ascending=True)\n",
    "# Let's reset index in the new dataframe\n",
    "df_MinTemp.reset_index(drop = True, inplace=True)\n",
    "# Save the dataframe to the output file\n",
    "df_MinTemp.to_csv(\"Output_Data/Maria_MinTemp.csv\", index=False, encoding=\"utf-8\")\n",
    "# Display the dataframe\n",
    "print('\\033[96m'+'\\033[1m'+\"The shape of the minimum temperature dataframe is:{}\".format(df_MinTemp.shape)+'\\033[0m')\n",
    "df_MinTemp.head()"
   ]
  },
  {
   "cell_type": "code",
   "execution_count": 17,
   "metadata": {},
   "outputs": [
    {
     "data": {
      "image/png": "[encoded data removed]",
      "text/plain": [
       "<Figure size 864x576 with 1 Axes>"
      ]
     },
     "metadata": {},
     "output_type": "display_data"
    }
   ],
   "source": [
    "import matplotlib.pyplot as plt\n",
    "import numpy as np\n",
    "import seaborn as sns\n",
    "# Set the style for seaborn plot\n",
    "sns.set_style(\"darkgrid\")\n",
    "# Create a font library\n",
    "titlefont = {\"fontname\":\"Times New Roman\"}\n",
    "labelfont = {\"fontname\":\"Arial\"}\n",
    "# Set font scale and reduce grid line width\n",
    "sns.set_context(\"poster\",font_scale=1.4,rc={\"grid.linewidth\":2})\n",
    "# Define the figure size\n",
    "fig = plt.figure(figsize=(12,8))\n",
    "# Define x_data & y_data\n",
    "x_data = df_prcp_max[\"Date\"]\n",
    "y_data = df_prcp_max[\"Value\"]\n",
    "# Make a color map\n",
    "t = np.arange(len(y_data))\n",
    "# Define x_axis for the plot\n",
    "x_axis = np.arange(12)\n",
    "# Define tick locations and place the x_ticks\n",
    "tick_locations = [value for value in x_axis]\n",
    "# Create the tick labels (unique days)\n",
    "x_labels = df_prcp[\"Date\"].unique().tolist()\n",
    "plt.xticks(tick_locations,x_labels,rotation=90,fontsize=14,color=\"black\",**labelfont)\n",
    "# Set the x limits of the current chart\n",
    "plt.xlim(0, len(x_axis)-1)\n",
    "# Set y ticks and y limits of the current chart\n",
    "plt.yticks(fontsize=14, color = \"black\", **labelfont)\n",
    "# Creating padding around the y limits\n",
    "y_pad = abs(0.2*y_data.mean()) # 20% of mean y value\n",
    "# Sets the y limits of the current chart\n",
    "plt.ylim(0,y_data.max()+y_pad )\n",
    "# Plotting the data\n",
    "plt.plot(x_data,y_data,color=\"black\",linewidth = 2)\n",
    "plt.fill_between(x_data,y_data,color = \"blue\", alpha = 0.4)\n",
    "# Creating a vertical line denoting the landfall date\n",
    "plt.vlines(\"2017-09-20\",(y_data.min()-y_pad),(y_data.max()+y_pad),color=\"red\",alpha=0.7,linewidth=4,linestyle=\"dashed\")\n",
    "plt.vlines(\"2017-09-21\",(y_data.min()-y_pad),(y_data.max()+y_pad),color=\"orange\",alpha=0.7,linewidth=4,linestyle=\"dashed\")\n",
    "# Display x & y-axis labels and a title for the lineplot\n",
    "plt.title(\"Max. Precipitation during Maria landfall (Puerto Rico)\",fontsize=28,color=\"black\",**titlefont)\n",
    "plt.xlabel(\"Date\",fontsize = 18,color=\"black\",**labelfont)\n",
    "plt.ylabel(\"Precipitation (inches)\",fontsize = 18,color=\"black\",**labelfont)\n",
    "plt.tight_layout()\n",
    "# Save the figure\n",
    "plt.savefig(\"Output_Data/Maria_Precipitation.png\")\n",
    "# Display the plot\n",
    "plt.show()"
   ]
  },
  {
   "cell_type": "markdown",
   "metadata": {},
   "source": [
    "## Let's create total precipitation dataframe"
   ]
  },
  {
   "cell_type": "code",
   "execution_count": 18,
   "metadata": {},
   "outputs": [
    {
     "name": "stdout",
     "output_type": "stream",
     "text": [
      "\u001b[94m\u001b[1mThe shape of total precipitation dataframe is:(12, 2)\u001b[0m\n"
     ]
    },
    {
     "data": {
      "text/html": [
       "<div>\n",
       "<style scoped>\n",
       "    .dataframe tbody tr th:only-of-type {\n",
       "        vertical-align: middle;\n",
       "    }\n",
       "\n",
       "    .dataframe tbody tr th {\n",
       "        vertical-align: top;\n",
       "    }\n",
       "\n",
       "    .dataframe thead th {\n",
       "        text-align: right;\n",
       "    }\n",
       "</style>\n",
       "<table border=\"1\" class=\"dataframe\">\n",
       "  <thead>\n",
       "    <tr style=\"text-align: right;\">\n",
       "      <th></th>\n",
       "      <th>Date</th>\n",
       "      <th>Value</th>\n",
       "    </tr>\n",
       "  </thead>\n",
       "  <tbody>\n",
       "    <tr>\n",
       "      <th>0</th>\n",
       "      <td>2017-09-15</td>\n",
       "      <td>4.71</td>\n",
       "    </tr>\n",
       "    <tr>\n",
       "      <th>1</th>\n",
       "      <td>2017-09-16</td>\n",
       "      <td>4.37</td>\n",
       "    </tr>\n",
       "    <tr>\n",
       "      <th>2</th>\n",
       "      <td>2017-09-17</td>\n",
       "      <td>0.40</td>\n",
       "    </tr>\n",
       "    <tr>\n",
       "      <th>3</th>\n",
       "      <td>2017-09-18</td>\n",
       "      <td>5.03</td>\n",
       "    </tr>\n",
       "    <tr>\n",
       "      <th>4</th>\n",
       "      <td>2017-09-19</td>\n",
       "      <td>3.40</td>\n",
       "    </tr>\n",
       "  </tbody>\n",
       "</table>\n",
       "</div>"
      ],
      "text/plain": [
       "         Date  Value\n",
       "0  2017-09-15   4.71\n",
       "1  2017-09-16   4.37\n",
       "2  2017-09-17   0.40\n",
       "3  2017-09-18   5.03\n",
       "4  2017-09-19   3.40"
      ]
     },
     "execution_count": 18,
     "metadata": {},
     "output_type": "execute_result"
    }
   ],
   "source": [
    "# Let's groupby value column by date and count the maximum ocurrences\n",
    "grouped_count = df_prcp[\"Value\"].groupby(df_prcp[\"Date\"]) # Create a GroupBy object\n",
    "# Let's create a dataframe with maximum precipitation per day\n",
    "df_prcp_sum_unsorted = grouped_count.sum().to_frame(\"Value\")\n",
    "# Let's sort the dataframe by date\n",
    "df_prcp_sum = df_prcp_sum_unsorted.sort_values(by=\"Date\",ascending=True)\n",
    "# Let's reset index in the new dataframe\n",
    "df_prcp_sum.reset_index(inplace=True)\n",
    "# Save the dataframe to the output file\n",
    "df_prcp_sum.to_csv(\"Output_Data/Maria_Prcp_total.csv\", index=False, encoding=\"utf-8\")\n",
    "# Display the dataframe\n",
    "print('\\033[94m'+'\\033[1m'+\"The shape of total precipitation dataframe is:{}\".format(df_prcp_sum.shape)+'\\033[0m')\n",
    "df_prcp_sum.head()"
   ]
  },
  {
   "cell_type": "code",
   "execution_count": 19,
   "metadata": {},
   "outputs": [
    {
     "data": {
      "image/png": "[encoded data removed]",
      "text/plain": [
       "<Figure size 864x576 with 1 Axes>"
      ]
     },
     "metadata": {},
     "output_type": "display_data"
    }
   ],
   "source": [
    "import matplotlib.pyplot as plt\n",
    "import numpy as np\n",
    "import seaborn as sns\n",
    "# Set the style for seaborn plot\n",
    "sns.set_style(\"darkgrid\")\n",
    "# Create a font library\n",
    "titlefont = {\"fontname\":\"Times New Roman\"}\n",
    "labelfont = {\"fontname\":\"Arial\"}\n",
    "# Set font scale and reduce grid line width\n",
    "sns.set_context(\"poster\",font_scale=1.4,rc={\"grid.linewidth\":2})\n",
    "# Define the figure size\n",
    "fig = plt.figure(figsize=(12,8))\n",
    "# Define x_data & y_data\n",
    "x_data = df_prcp_sum[\"Date\"]\n",
    "y_data = df_prcp_sum[\"Value\"]\n",
    "# Make a color map\n",
    "t = np.arange(len(y_data))\n",
    "# Define x_axis for the plot\n",
    "x_axis = np.arange(12)\n",
    "# Define tick locations and place the x_ticks\n",
    "tick_locations = [value for value in x_axis]\n",
    "# Create the tick labels (unique days)\n",
    "x_labels = df_prcp[\"Date\"].unique().tolist()\n",
    "plt.xticks(tick_locations,x_labels,rotation=90,fontsize=14,color=\"black\",**labelfont)\n",
    "# Set the x limits of the current chart\n",
    "plt.xlim(0, len(x_axis)-1)\n",
    "# Set y ticks and y limits of the current chart\n",
    "plt.yticks(fontsize=14, color = \"black\", **labelfont)\n",
    "# Creating padding around the y limits\n",
    "y_pad = abs(0.2*y_data.mean()) # 20% of mean y value\n",
    "# Sets the y limits of the current chart\n",
    "plt.ylim(-0.1,y_data.max()+y_pad )\n",
    "# Plotting the data\n",
    "plt.plot(x_data,y_data,color=\"black\",linewidth = 2)\n",
    "plt.fill_between(x_data,y_data,color = \"blue\", alpha = 0.4)\n",
    "# Creating a vertical line denoting the landfall date\n",
    "plt.vlines(\"2017-09-20\",(y_data.min()-y_pad),(y_data.max()+y_pad),color=\"red\",alpha=0.7,linewidth=4,linestyle=\"dashed\")\n",
    "plt.vlines(\"2017-09-21\",(y_data.min()-y_pad),(y_data.max()+y_pad),color=\"lightblue\",alpha=0.9,linestyle=\"dashed\")\n",
    "# Display x & y-axis labels and a title for the lineplot\n",
    "plt.title(\"Total Precipitation during Maria landfall (Puerto Rico)\",fontsize=28,color=\"black\",**titlefont)\n",
    "plt.xlabel(\"Date\",fontsize = 18,color=\"black\",**labelfont)\n",
    "plt.ylabel(\"Total Precipitation (inches)\",fontsize = 18,color=\"black\",**labelfont)\n",
    "plt.tight_layout()\n",
    "# Save the figure\n",
    "plt.savefig(\"Output_Data/Total_Maria_Precipitation.png\")\n",
    "# Display the plot\n",
    "plt.show()"
   ]
  },
  {
   "cell_type": "markdown",
   "metadata": {},
   "source": [
    "## Let's create merged dataframe with minimum and maximum temperatures"
   ]
  },
  {
   "cell_type": "code",
   "execution_count": 20,
   "metadata": {},
   "outputs": [
    {
     "name": "stdout",
     "output_type": "stream",
     "text": [
      "\u001b[94m\u001b[1mThe shape of the min-max temperature dataframe is:(12, 3)\u001b[0m\n"
     ]
    },
    {
     "data": {
      "text/html": [
       "<div>\n",
       "<style scoped>\n",
       "    .dataframe tbody tr th:only-of-type {\n",
       "        vertical-align: middle;\n",
       "    }\n",
       "\n",
       "    .dataframe tbody tr th {\n",
       "        vertical-align: top;\n",
       "    }\n",
       "\n",
       "    .dataframe thead th {\n",
       "        text-align: right;\n",
       "    }\n",
       "</style>\n",
       "<table border=\"1\" class=\"dataframe\">\n",
       "  <thead>\n",
       "    <tr style=\"text-align: right;\">\n",
       "      <th></th>\n",
       "      <th>Date</th>\n",
       "      <th>MaxTemp</th>\n",
       "      <th>MinTemp</th>\n",
       "    </tr>\n",
       "  </thead>\n",
       "  <tbody>\n",
       "    <tr>\n",
       "      <th>0</th>\n",
       "      <td>2017-09-15</td>\n",
       "      <td>92.0</td>\n",
       "      <td>67.0</td>\n",
       "    </tr>\n",
       "    <tr>\n",
       "      <th>1</th>\n",
       "      <td>2017-09-16</td>\n",
       "      <td>91.0</td>\n",
       "      <td>66.0</td>\n",
       "    </tr>\n",
       "    <tr>\n",
       "      <th>2</th>\n",
       "      <td>2017-09-17</td>\n",
       "      <td>91.0</td>\n",
       "      <td>68.0</td>\n",
       "    </tr>\n",
       "    <tr>\n",
       "      <th>3</th>\n",
       "      <td>2017-09-18</td>\n",
       "      <td>91.0</td>\n",
       "      <td>67.0</td>\n",
       "    </tr>\n",
       "    <tr>\n",
       "      <th>4</th>\n",
       "      <td>2017-09-19</td>\n",
       "      <td>92.0</td>\n",
       "      <td>68.0</td>\n",
       "    </tr>\n",
       "  </tbody>\n",
       "</table>\n",
       "</div>"
      ],
      "text/plain": [
       "         Date  MaxTemp  MinTemp\n",
       "0  2017-09-15     92.0     67.0\n",
       "1  2017-09-16     91.0     66.0\n",
       "2  2017-09-17     91.0     68.0\n",
       "3  2017-09-18     91.0     67.0\n",
       "4  2017-09-19     92.0     68.0"
      ]
     },
     "execution_count": 20,
     "metadata": {},
     "output_type": "execute_result"
    }
   ],
   "source": [
    "# A copy of the minimum temperature dataframe with relevant colummns\n",
    "df_min = df_MinTemp[[\"Date\",\"Value\"]]\n",
    "# Let's groupby value column by date and count the minimum ocurrences\n",
    "grouped_count = df_min[\"Value\"].groupby(df_min[\"Date\"]) # Create a GroupBy object\n",
    "# Let's create a dataframe with minimum temperature per day\n",
    "df_min_unsorted = grouped_count.min().to_frame(\"MinTemp\")\n",
    "# Let's sort the dataframe by date\n",
    "df_min = df_min_unsorted.sort_values(by=\"Date\",ascending=True)\n",
    "# Let's reset index in the new dataframe\n",
    "df_min.reset_index(inplace=True)\n",
    "# A copy of the maximum temperature dataframe with relevant colummns\n",
    "df_max = df_MaxTemp[[\"Date\",\"Value\"]]\n",
    "# Let's groupby value column by date and count the maximum ocurrences\n",
    "grouped_count = df_max[\"Value\"].groupby(df_max[\"Date\"]) # Create a GroupBy object\n",
    "# Let's create a dataframe with minimum temperature per day\n",
    "df_max_unsorted = grouped_count.max().to_frame(\"MaxTemp\")\n",
    "# Let's sort the dataframe by date\n",
    "df_max = df_max_unsorted.sort_values(by=\"Date\",ascending=True)\n",
    "# Let's reset index in the new dataframe\n",
    "df_max.reset_index(inplace=True)\n",
    "# Combine the dataframes into a single dataframe\n",
    "df_MinMax = pd.merge(df_max, df_min, how=\"outer\", on=\"Date\")\n",
    "# Save the dataframe to the output file\n",
    "df_MinMax.to_csv(\"Output_Data/Maria_MinMax_Temp.csv\", index=False, encoding=\"utf-8\")\n",
    "# Display the dataframe\n",
    "print('\\033[94m'+'\\033[1m'+\"The shape of the min-max temperature dataframe is:{}\".format(df_MinMax.shape)+'\\033[0m')\n",
    "df_MinMax.head() # Display the dataframe"
   ]
  },
  {
   "cell_type": "code",
   "execution_count": 24,
   "metadata": {},
   "outputs": [
    {
     "data": {
      "image/png": "[encoded data removed]",
      "text/plain": [
       "<Figure size 864x576 with 1 Axes>"
      ]
     },
     "metadata": {},
     "output_type": "display_data"
    }
   ],
   "source": [
    "import matplotlib.pyplot as plt\n",
    "import numpy as np\n",
    "import seaborn as sns\n",
    "# Set the style for seaborn plot\n",
    "sns.set_style(\"darkgrid\")\n",
    "# Create a font library\n",
    "titlefont = {\"fontname\":\"Times New Roman\"}\n",
    "labelfont = {\"fontname\":\"Arial\"}\n",
    "# Set font scale and reduce grid line width\n",
    "sns.set_context(\"poster\",font_scale=1.4,rc={\"grid.linewidth\":2})\n",
    "# Define the figure size\n",
    "fig = plt.figure(figsize=(12,8))\n",
    "# Define x_data & y_data\n",
    "x_data = df_MinMax[\"Date\"]\n",
    "y_max = df_MinMax[\"MaxTemp\"]\n",
    "y_min = df_MinMax[\"MinTemp\"]\n",
    "# Make a color map\n",
    "t = np.arange(len(y_data))\n",
    "# Define x_axis for the plot\n",
    "x_axis = np.arange(12)\n",
    "# Define tick locations and place the x_ticks\n",
    "tick_locations = [value for value in x_axis]\n",
    "# Create the tick labels (unique days)\n",
    "x_labels = df_prcp[\"Date\"].unique().tolist()\n",
    "plt.xticks(tick_locations,x_labels,rotation=90,fontsize=14,color=\"black\",**labelfont)\n",
    "# Set the x limits of the current chart\n",
    "plt.xlim(0, len(x_axis)-1)\n",
    "# Creating padding around the x and y limits\n",
    "y_pad = abs(0.025*y_min.mean()) # 2.5% of mean y value\n",
    "# Sets the y limits of the current chart\n",
    "plt.ylim(y_min.min()-y_pad,y_max.max()+y_pad )\n",
    "# Set y ticks and y limits of the current chart\n",
    "plt.yticks(fontsize=14, color = \"black\", **labelfont)\n",
    "# Plot Maximum Temperature data\n",
    "plt.plot(x_data,y_max,color=\"red\",linewidth = 2)\n",
    "# Plot Minimum Temperature data\n",
    "plt.plot(x_data,y_min,color=\"orange\",linewidth = 2)\n",
    "# Filling the area below the line plots\n",
    "plt.fill_between(x_data,y_max,color = \"red\", alpha = 0.5)\n",
    "plt.fill_between(x_data,y_min,color = \"yellow\", alpha = 0.5)\n",
    "# Creating a vertical line denoting the landfall date\n",
    "plt.vlines(\"2017-09-20\",(y_min.min()-y_pad),(y_max.max()+y_pad),color=\"blue\",alpha=0.7,linestyle=\"dashed\")\n",
    "plt.vlines(\"2017-09-24\",(y_min.min()-y_pad),(y_max.max()+y_pad),color=\"lightblue\",alpha=0.9,linestyle=\"dashed\")\n",
    "# Display x & y-axis labels and a title for the lineplot\n",
    "plt.title(\"Min. & Max Temperatures during Maria landfall (Puerto Rico)\",fontsize=26,color=\"black\",**titlefont)\n",
    "plt.xlabel(\"Date\",fontsize = 18,color=\"black\",**labelfont)\n",
    "plt.ylabel(\"Min and Max Temperatures (F)\",fontsize = 18,color=\"black\",**labelfont)\n",
    "plt.tight_layout()\n",
    "# Save the figure\n",
    "plt.savefig(\"Output_Data/Maria_MinMaxTemp.png\")\n",
    "# Display the plot\n",
    "plt.show()"
   ]
  },
  {
   "cell_type": "markdown",
   "metadata": {},
   "source": [
    "## Let's create merged dataframe with average minimum and maximum temperatures"
   ]
  },
  {
   "cell_type": "code",
   "execution_count": 22,
   "metadata": {},
   "outputs": [
    {
     "name": "stdout",
     "output_type": "stream",
     "text": [
      "\u001b[94m\u001b[1mThe shape of the average min-max temperature dataframe is:(12, 3)\u001b[0m\n"
     ]
    },
    {
     "data": {
      "text/html": [
       "<div>\n",
       "<style scoped>\n",
       "    .dataframe tbody tr th:only-of-type {\n",
       "        vertical-align: middle;\n",
       "    }\n",
       "\n",
       "    .dataframe tbody tr th {\n",
       "        vertical-align: top;\n",
       "    }\n",
       "\n",
       "    .dataframe thead th {\n",
       "        text-align: right;\n",
       "    }\n",
       "</style>\n",
       "<table border=\"1\" class=\"dataframe\">\n",
       "  <thead>\n",
       "    <tr style=\"text-align: right;\">\n",
       "      <th></th>\n",
       "      <th>Date</th>\n",
       "      <th>Max_Avg_Temp</th>\n",
       "      <th>Min_Avg_Temp</th>\n",
       "    </tr>\n",
       "  </thead>\n",
       "  <tbody>\n",
       "    <tr>\n",
       "      <th>0</th>\n",
       "      <td>2017-09-15</td>\n",
       "      <td>85.25</td>\n",
       "      <td>71.00</td>\n",
       "    </tr>\n",
       "    <tr>\n",
       "      <th>1</th>\n",
       "      <td>2017-09-16</td>\n",
       "      <td>86.75</td>\n",
       "      <td>69.75</td>\n",
       "    </tr>\n",
       "    <tr>\n",
       "      <th>2</th>\n",
       "      <td>2017-09-17</td>\n",
       "      <td>86.50</td>\n",
       "      <td>70.75</td>\n",
       "    </tr>\n",
       "    <tr>\n",
       "      <th>3</th>\n",
       "      <td>2017-09-18</td>\n",
       "      <td>86.25</td>\n",
       "      <td>71.00</td>\n",
       "    </tr>\n",
       "    <tr>\n",
       "      <th>4</th>\n",
       "      <td>2017-09-19</td>\n",
       "      <td>86.25</td>\n",
       "      <td>71.50</td>\n",
       "    </tr>\n",
       "  </tbody>\n",
       "</table>\n",
       "</div>"
      ],
      "text/plain": [
       "         Date  Max_Avg_Temp  Min_Avg_Temp\n",
       "0  2017-09-15         85.25         71.00\n",
       "1  2017-09-16         86.75         69.75\n",
       "2  2017-09-17         86.50         70.75\n",
       "3  2017-09-18         86.25         71.00\n",
       "4  2017-09-19         86.25         71.50"
      ]
     },
     "execution_count": 22,
     "metadata": {},
     "output_type": "execute_result"
    }
   ],
   "source": [
    "# A copy of the minimum temperature dataframe with relevant colummns\n",
    "df_min_avg = df_MinTemp[[\"Date\",\"Value\"]]\n",
    "# Let's groupby value column by date and count the minimum ocurrences\n",
    "grouped_count = df_min_avg[\"Value\"].groupby(df_min_avg[\"Date\"]) # Create a GroupBy object\n",
    "# Let's create a dataframe with minimum temperature per day\n",
    "df_min_unsorted = grouped_count.mean().to_frame(\"Min_Avg_Temp\")\n",
    "# Let's sort the dataframe by date\n",
    "df_min_avg = df_min_unsorted.sort_values(by=\"Date\",ascending=True)\n",
    "# Let's reset index in the new dataframe\n",
    "df_min_avg.reset_index(inplace=True)\n",
    "# A copy of the maximum temperature dataframe with relevant colummns\n",
    "df_max_avg = df_MaxTemp[[\"Date\",\"Value\"]]\n",
    "# Let's groupby value column by date and count the maximum ocurrences\n",
    "grouped_count = df_max_avg[\"Value\"].groupby(df_max_avg[\"Date\"]) # Create a GroupBy object\n",
    "# Let's create a dataframe with minimum temperature per day\n",
    "df_max_unsorted = grouped_count.mean().to_frame(\"Max_Avg_Temp\")\n",
    "# Let's sort the dataframe by date\n",
    "df_max_avg = df_max_unsorted.sort_values(by=\"Date\",ascending=True)\n",
    "# Let's reset index in the new dataframe\n",
    "df_max_avg.reset_index(inplace=True)\n",
    "# Combine the dataframes into a single dataframe\n",
    "df_MinMax_avg = pd.merge(df_max_avg, df_min_avg, how=\"outer\", on=\"Date\")\n",
    "# Save the dataframe to the output file\n",
    "df_MinMax_avg.to_csv(\"Output_Data/Maria_AvgMinMax_Temp.csv\", index=False, encoding=\"utf-8\")\n",
    "# Display the dataframe\n",
    "print('\\033[94m'+'\\033[1m'+\"The shape of the average min-max temperature dataframe is:{}\".format(df_MinMax_avg.shape)+'\\033[0m')\n",
    "df_MinMax_avg.head() # Display the dataframe"
   ]
  },
  {
   "cell_type": "code",
   "execution_count": 25,
   "metadata": {},
   "outputs": [
    {
     "data": {
      "image/png": "[encoded data removed]",
      "text/plain": [
       "<Figure size 864x576 with 1 Axes>"
      ]
     },
     "metadata": {},
     "output_type": "display_data"
    }
   ],
   "source": [
    "import matplotlib.pyplot as plt\n",
    "import numpy as np\n",
    "import seaborn as sns\n",
    "# Set the style for seaborn plot\n",
    "sns.set_style(\"darkgrid\")\n",
    "# Create a font library\n",
    "titlefont = {\"fontname\":\"Times New Roman\"}\n",
    "labelfont = {\"fontname\":\"Arial\"}\n",
    "# Set font scale and reduce grid line width\n",
    "sns.set_context(\"poster\",font_scale=1.4,rc={\"grid.linewidth\":2})\n",
    "# Define the figure size\n",
    "fig = plt.figure(figsize=(12,8))\n",
    "# Define x_data & y_data\n",
    "x_data = df_MinMax_avg[\"Date\"]\n",
    "y_max = df_MinMax_avg[\"Max_Avg_Temp\"]\n",
    "y_min = df_MinMax_avg[\"Min_Avg_Temp\"]\n",
    "# Make a color map\n",
    "t = np.arange(12)\n",
    "# Define x_axis for the plot\n",
    "x_axis = np.arange(12)\n",
    "# Define tick locations and place the x_ticks\n",
    "tick_locations = [value for value in x_axis]\n",
    "# Create the tick labels (unique days)\n",
    "x_labels = df_prcp[\"Date\"].unique().tolist()\n",
    "plt.xticks(tick_locations,x_labels,rotation=90,fontsize=14,color=\"black\",**labelfont)\n",
    "# Set the x limits of the current chart\n",
    "plt.xlim(0, len(x_axis)-1)\n",
    "# Creating padding around the x and y limits\n",
    "y_pad = abs(0.05*y_min.mean()) # 12% of mean y value\n",
    "# Sets the y limits of the current chart\n",
    "plt.ylim(y_min.min()-y_pad,y_max.max()+y_pad )\n",
    "# Set y ticks and y limits of the current chart\n",
    "plt.yticks(fontsize=14, color = \"black\", **labelfont)\n",
    "# Plot Maximum Temperature data\n",
    "plt.plot(x_data,y_max,color=\"red\",linewidth = 2)\n",
    "# Plot Minimum Temperature data\n",
    "plt.plot(x_data,y_min,color=\"orange\",linewidth = 2)\n",
    "# Filling the area below the line plots\n",
    "plt.fill_between(x_data,y_max,color = \"red\", alpha = 0.5)\n",
    "plt.fill_between(x_data,y_min,color = \"yellow\", alpha = 0.5)\n",
    "# Creating a vertical line denoting the landfall date\n",
    "plt.vlines(\"2017-09-20\",(y_min.min()-y_pad),(y_max.max()+y_pad),color=\"blue\",alpha=0.7,linestyle=\"dashed\")\n",
    "plt.vlines(\"2017-09-24\",(y_min.min()-y_pad),(y_max.max()+y_pad),color=\"lightblue\",alpha=0.9,linestyle=\"dashed\")\n",
    "# Display x & y-axis labels and a title for the lineplot\n",
    "plt.title(\"Average T_max & T_min during Maria landfall (Puerto Rico)\",fontsize=26,color=\"black\",**titlefont)\n",
    "plt.xlabel(\"Date\",fontsize = 18,color=\"black\",**labelfont)\n",
    "plt.ylabel(\"Average T_max & T_min temperatures (F)\",fontsize = 18,color=\"black\",**labelfont)\n",
    "plt.tight_layout()\n",
    "# Save the figure\n",
    "plt.savefig(\"Output_Data/Maria_MinMaxAvgTemp.png\")\n",
    "# Display the plot\n",
    "plt.show()"
   ]
  },
  {
   "cell_type": "code",
   "execution_count": null,
   "metadata": {},
   "outputs": [],
   "source": []
  }
 ],
 "metadata": {
  "anaconda-cloud": {},
  "kernel_info": {
   "name": "python3"
  },
  "kernelspec": {
   "display_name": "Python 3",
   "language": "python",
   "name": "python3"
  },
  "language_info": {
   "codemirror_mode": {
    "name": "ipython",
    "version": 3
   },
   "file_extension": ".py",
   "mimetype": "text/x-python",
   "name": "python",
   "nbconvert_exporter": "python",
   "pygments_lexer": "ipython3",
   "version": "3.7.6"
  },
  "latex_envs": {
   "LaTeX_envs_menu_present": true,
   "autoclose": false,
   "autocomplete": true,
   "bibliofile": "biblio.bib",
   "cite_by": "apalike",
   "current_citInitial": 1,
   "eqLabelWithNumbers": true,
   "eqNumInitial": 1,
   "hotkeys": {
    "equation": "Ctrl-E",
    "itemize": "Ctrl-I"
   },
   "labels_anchors": false,
   "latex_user_defs": false,
   "report_style_numbering": false,
   "user_envs_cfg": false
  },
  "nteract": {
   "version": "0.12.3"
  }
 },
 "nbformat": 4,
 "nbformat_minor": 2
}
