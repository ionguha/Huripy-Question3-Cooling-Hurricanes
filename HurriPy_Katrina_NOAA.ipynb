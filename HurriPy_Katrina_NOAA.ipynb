{
 "cells": [
  {
   "cell_type": "markdown",
   "metadata": {},
   "source": [
    "![Weather_photo](https://mms.businesswire.com/media/20170809006247/en/606322/22/NASA-hurricane-katrina-NASA-20050828.jpg)\n",
    "image credit: NASA Hurricane Katrina"
   ]
  },
  {
   "cell_type": "markdown",
   "metadata": {},
   "source": [
    "# Hurricane Katrina"
   ]
  },
  {
   "cell_type": "code",
   "execution_count": 1,
   "metadata": {
    "scrolled": true
   },
   "outputs": [
    {
     "name": "stdout",
     "output_type": "stream",
     "text": [
      "All necessary libraries installed\n"
     ]
    }
   ],
   "source": [
    "# Import the necessary libraries\n",
    "import matplotlib.pyplot as plt # Plotting library\n",
    "import pandas as pd\n",
    "import numpy as np\n",
    "import requests\n",
    "import datetime\n",
    "import sys\n",
    "# Import API key\n",
    "from api_keys import noaa_key\n",
    "print(\"All necessary libraries installed\")"
   ]
  },
  {
   "cell_type": "markdown",
   "metadata": {},
   "source": [
    "### Hurricane Katrina the costliest storm in U.S. history, made landfall off the coast of Louisiana on August 29, 2005. An estimated 1,833 people died in the hurricane and the flooding that followed in late August 2005, and millions of others were left homeless along the Gulf Coast and in New Orleans.Katrina was the most destructive storm to strike the United States and the costliest storm in U.S. history, causing 108 billion dollars in damage. It ranks sixth overall in strength of recorded Atlantic hurricanes.\n",
    "\n",
    "### Katrina first formed as a tropical depression in Caribbean waters near the Bahamas on August 23, 2005. "
   ]
  },
  {
   "cell_type": "markdown",
   "metadata": {},
   "source": [
    "### Location id:  Louisiana (\"FIPS:22\")"
   ]
  },
  {
   "cell_type": "markdown",
   "metadata": {},
   "source": [
    "### Dataset id: \"GHCND\" (name: \"Daily Summaries\")"
   ]
  },
  {
   "cell_type": "markdown",
   "metadata": {},
   "source": [
    "![Katrina path](Images/katrina_track.png)"
   ]
  },
  {
   "cell_type": "code",
   "execution_count": 2,
   "metadata": {},
   "outputs": [
    {
     "name": "stdout",
     "output_type": "stream",
     "text": [
      "\u001b[1mZipcode :ZIP:70041\u001b[0m\n",
      "Request status code: 200\n",
      "\u001b[1mZipcode :ZIP:70072\u001b[0m\n",
      "Request status code: 200\n",
      "\u001b[1mZipcode :ZIP:70354\u001b[0m\n",
      "Request status code: 200\n",
      "\u001b[1mZipcode :ZIP:70085\u001b[0m\n",
      "Request status code: 200\n",
      "\u001b[1mZipcode :ZIP:70345\u001b[0m\n",
      "Request status code: 200\n",
      "\u001b[1mZipcode :ZIP:70301\u001b[0m\n",
      "Request status code: 200\n",
      "\u001b[1mZipcode :ZIP:70380\u001b[0m\n",
      "Request status code: 200\n",
      "\u001b[1mZipcode :ZIP:70086\u001b[0m\n",
      "Request status code: 200\n"
     ]
    }
   ],
   "source": [
    "import json\n",
    "# Let's get fetch all the stations near Palequemines parish, LA\n",
    "mytoken = noaa_key\n",
    "location_id = \"FIPS:22\"\n",
    "dataset_id = \"GHCND\"\n",
    "zipcodes = [\"ZIP:70041\",\"ZIP:70072\",\"ZIP:70354\",\"ZIP:70085\",\"ZIP:70345\",\"ZIP:70301\",\"ZIP:70380\",\"ZIP:70086\"]\n",
    "# Define base url to get weather summaries\n",
    "base_url = \"https://www.ncdc.noaa.gov/cdo-web/api/v2/stations?\"\n",
    "# Let's create a list to hold the responses from API call\n",
    "station_id = []\n",
    "station_name = []\n",
    "latitude = []\n",
    "longitude = []\n",
    "for zipcode in zipcodes:\n",
    "    # Create a query_url\n",
    "    query_url = base_url+\"datasetid=GHCND\"+\"&\"+\"locationid=\"+str(zipcode)+\"&\"+\"limit=800\"\n",
    "    # Create the request query\n",
    "    response = requests.get(query_url, headers = {\"token\":mytoken})\n",
    "    # Print the response url \n",
    "    print('\\033[1m'+\"Zipcode :{}\".format(zipcode)+'\\033[0m')\n",
    "    print(\"Request status code: \"+str(response.status_code))\n",
    "    response_json = response.json()\n",
    "    # Let's fill the dictionaries from the response file\n",
    "    for i in range(len(response_json[\"results\"])):\n",
    "        try:\n",
    "            station_id.append(response_json[\"results\"][i][\"id\"])\n",
    "            station_name.append(response_json[\"results\"][i][\"name\"])\n",
    "            latitude.append(response_json[\"results\"][i][\"latitude\"])\n",
    "            longitude.append(response_json[\"results\"][i][\"longitude\"])\n",
    "            # Handle exceptions for data not found in the response file\n",
    "        except(KeyError, ValueError):\n",
    "            # Print error message\n",
    "            print(\"Index {} : Data Not found ! Skipping..\".format(i))\n",
    "            pass"
   ]
  },
  {
   "cell_type": "markdown",
   "metadata": {},
   "source": [
    "## Creating a dataframe from the response"
   ]
  },
  {
   "cell_type": "code",
   "execution_count": 3,
   "metadata": {
    "scrolled": false
   },
   "outputs": [
    {
     "name": "stdout",
     "output_type": "stream",
     "text": [
      "\u001b[1mThe shape of the df_NOLAStations dataframe is: (19, 4)\u001b[0m\n"
     ]
    },
    {
     "data": {
      "text/html": [
       "<div>\n",
       "<style scoped>\n",
       "    .dataframe tbody tr th:only-of-type {\n",
       "        vertical-align: middle;\n",
       "    }\n",
       "\n",
       "    .dataframe tbody tr th {\n",
       "        vertical-align: top;\n",
       "    }\n",
       "\n",
       "    .dataframe thead th {\n",
       "        text-align: right;\n",
       "    }\n",
       "</style>\n",
       "<table border=\"1\" class=\"dataframe\">\n",
       "  <thead>\n",
       "    <tr style=\"text-align: right;\">\n",
       "      <th></th>\n",
       "      <th>Station id</th>\n",
       "      <th>Station name</th>\n",
       "      <th>Latitude</th>\n",
       "      <th>Longitude</th>\n",
       "    </tr>\n",
       "  </thead>\n",
       "  <tbody>\n",
       "    <tr>\n",
       "      <th>0</th>\n",
       "      <td>GHCND:USC00161292</td>\n",
       "      <td>BURAS, LA US</td>\n",
       "      <td>29.34139</td>\n",
       "      <td>-89.51583</td>\n",
       "    </tr>\n",
       "    <tr>\n",
       "      <th>1</th>\n",
       "      <td>GHCND:USC00162884</td>\n",
       "      <td>EMPIRE, LA</td>\n",
       "      <td>29.40000</td>\n",
       "      <td>-89.60000</td>\n",
       "    </tr>\n",
       "    <tr>\n",
       "      <th>2</th>\n",
       "      <td>GHCND:USW00012884</td>\n",
       "      <td>BOOTHVILLE ASOS, LA US</td>\n",
       "      <td>29.33300</td>\n",
       "      <td>-89.40750</td>\n",
       "    </tr>\n",
       "    <tr>\n",
       "      <th>3</th>\n",
       "      <td>GHCND:US1LAJF0006</td>\n",
       "      <td>MARRERO 1.9 E, LA US</td>\n",
       "      <td>29.88070</td>\n",
       "      <td>-90.08370</td>\n",
       "    </tr>\n",
       "    <tr>\n",
       "      <th>4</th>\n",
       "      <td>GHCND:USC00164624</td>\n",
       "      <td>MARRERO 9 SSW, LA US</td>\n",
       "      <td>29.78520</td>\n",
       "      <td>-90.11580</td>\n",
       "    </tr>\n",
       "  </tbody>\n",
       "</table>\n",
       "</div>"
      ],
      "text/plain": [
       "          Station id            Station name  Latitude  Longitude\n",
       "0  GHCND:USC00161292            BURAS, LA US  29.34139  -89.51583\n",
       "1  GHCND:USC00162884             EMPIRE, LA   29.40000  -89.60000\n",
       "2  GHCND:USW00012884  BOOTHVILLE ASOS, LA US  29.33300  -89.40750\n",
       "3  GHCND:US1LAJF0006    MARRERO 1.9 E, LA US  29.88070  -90.08370\n",
       "4  GHCND:USC00164624    MARRERO 9 SSW, LA US  29.78520  -90.11580"
      ]
     },
     "execution_count": 3,
     "metadata": {},
     "output_type": "execute_result"
    }
   ],
   "source": [
    "# Let's create a DataFrame with the lists\n",
    "df_NOLAStations = pd.DataFrame({\n",
    "    \"Station id\": station_id,\n",
    "    \"Station name\": station_name,\n",
    "    \"Latitude\": latitude,\n",
    "    \"Longitude\": longitude\n",
    "})\n",
    "print('\\033[1m'+\"The shape of the {} dataframe is: {}\" .format(\"df_NOLAStations\",df_NOLAStations.shape)+'\\033[0m')\n",
    "df_NOLAStations.head() # Display the DataFrame"
   ]
  },
  {
   "cell_type": "code",
   "execution_count": 4,
   "metadata": {},
   "outputs": [],
   "source": [
    "# Let's create a list of stations \n",
    "lNOLAStations = pd.Series(df_NOLAStations[\"Station id\"])"
   ]
  },
  {
   "cell_type": "code",
   "execution_count": 5,
   "metadata": {},
   "outputs": [
    {
     "name": "stdout",
     "output_type": "stream",
     "text": [
      "\u001b[1mZipcode :ZIP:70041\u001b[0m\n",
      "Request status code: 200\n",
      "\u001b[1mZipcode :ZIP:70072\u001b[0m\n",
      "Request status code: 200\n",
      "\u001b[1mZipcode :ZIP:70354\u001b[0m\n",
      "Request status code: 200\n",
      "\u001b[1mZipcode :ZIP:70085\u001b[0m\n",
      "Request status code: 200\n",
      "\u001b[1mZipcode :ZIP:70345\u001b[0m\n",
      "Request status code: 200\n",
      "\u001b[1mZipcode :ZIP:70301\u001b[0m\n",
      "Request status code: 200\n",
      "\u001b[1mZipcode :ZIP:70380\u001b[0m\n",
      "Request status code: 200\n",
      "\u001b[1mZipcode :ZIP:70086\u001b[0m\n",
      "Request status code: 200\n"
     ]
    }
   ],
   "source": [
    "import json\n",
    "# Let's get fetch data from all the stations in Plaquemines Parish, LA\n",
    "mytoken = noaa_key\n",
    "location_id = \"FIPS:22\"\n",
    "dataset_id = \"GHCND\"\n",
    "zipcodes = [\"ZIP:70041\",\"ZIP:70072\",\"ZIP:70354\",\"ZIP:70085\",\"ZIP:70345\",\"ZIP:70301\",\"ZIP:70380\",\"ZIP:70086\"]\n",
    "start_date = \"2005-08-24\"\n",
    "end_date = \"2005-09-04\"\n",
    "# Define base url to get weather summaries\n",
    "base_url = \"https://www.ncdc.noaa.gov/cdo-web/api/v2/data?\"\n",
    "# Let's create a list of dictionaries\n",
    "weather_data = []\n",
    "# Display the start of Data Retrieval\n",
    "#print(f\"****** Beginning Data Retrieval *********\")\n",
    "# Let's fill the dictionaries from the response file\n",
    "for zipcode in zipcodes:\n",
    "    # Create a query_url\n",
    "    query_url = base_url+\"datasetid=\"+str(dataset_id)+\"&\"+\"locationid=\"+str(zipcode)+\"&\"+\"startdate=\"+str(start_date)+\"&\"+\"enddate=\"+str(end_date)+\"&\"+\"limit=800\"+\"&\"+\"units=standard\"\n",
    "    # Create the request query\n",
    "    response = requests.get(query_url, headers = {\"token\":mytoken})\n",
    "    # Print the response url \n",
    "    print('\\033[1m'+\"Zipcode :{}\".format(zipcode)+'\\033[0m')\n",
    "    print(\"Request status code: \"+str(response.status_code))\n",
    "    response_json = response.json()\n",
    "    if len(response_json[\"results\"]) != 0:\n",
    "        for i in range(len(response_json[\"results\"])):\n",
    "            try:\n",
    "                datatype = response_json[\"results\"][i][\"datatype\"]\n",
    "                date = response_json[\"results\"][i][\"date\"]\n",
    "                station = response_json[\"results\"][i][\"station\"]\n",
    "                value = response_json[\"results\"][i][\"value\"]\n",
    "                weather_data.append({\"DataType\":datatype,\n",
    "                                    \"Date\":date,\n",
    "                                    \"Station id\":station,\n",
    "                                    \"Value\":value})\n",
    "            # Handle exceptions for data not found in the response file\n",
    "            except(KeyError, ValueError):\n",
    "            # Print error message\n",
    "                print(\"Index {} : Data Not found ! Skipping..\".format(i))\n",
    "            pass\n",
    "    else:\n",
    "        continue\n",
    "        \n",
    "#print(f\"****** Data Retrieval Complete **********\")"
   ]
  },
  {
   "cell_type": "markdown",
   "metadata": {},
   "source": [
    "### Creating a DataFrame from the json response"
   ]
  },
  {
   "cell_type": "code",
   "execution_count": 6,
   "metadata": {},
   "outputs": [
    {
     "name": "stdout",
     "output_type": "stream",
     "text": [
      "\u001b[1mThe shape of the df_weather dataframe is: (398, 4)\u001b[0m\n"
     ]
    },
    {
     "data": {
      "text/html": [
       "<div>\n",
       "<style scoped>\n",
       "    .dataframe tbody tr th:only-of-type {\n",
       "        vertical-align: middle;\n",
       "    }\n",
       "\n",
       "    .dataframe tbody tr th {\n",
       "        vertical-align: top;\n",
       "    }\n",
       "\n",
       "    .dataframe thead th {\n",
       "        text-align: right;\n",
       "    }\n",
       "</style>\n",
       "<table border=\"1\" class=\"dataframe\">\n",
       "  <thead>\n",
       "    <tr style=\"text-align: right;\">\n",
       "      <th></th>\n",
       "      <th>DataType</th>\n",
       "      <th>Date</th>\n",
       "      <th>Station id</th>\n",
       "      <th>Value</th>\n",
       "    </tr>\n",
       "  </thead>\n",
       "  <tbody>\n",
       "    <tr>\n",
       "      <th>0</th>\n",
       "      <td>PRCP</td>\n",
       "      <td>2005-08-24T00:00:00</td>\n",
       "      <td>GHCND:USC00161292</td>\n",
       "      <td>0.08</td>\n",
       "    </tr>\n",
       "    <tr>\n",
       "      <th>1</th>\n",
       "      <td>TMAX</td>\n",
       "      <td>2005-08-24T00:00:00</td>\n",
       "      <td>GHCND:USC00161292</td>\n",
       "      <td>91.00</td>\n",
       "    </tr>\n",
       "    <tr>\n",
       "      <th>2</th>\n",
       "      <td>TMIN</td>\n",
       "      <td>2005-08-24T00:00:00</td>\n",
       "      <td>GHCND:USC00161292</td>\n",
       "      <td>72.00</td>\n",
       "    </tr>\n",
       "    <tr>\n",
       "      <th>3</th>\n",
       "      <td>TOBS</td>\n",
       "      <td>2005-08-24T00:00:00</td>\n",
       "      <td>GHCND:USC00161292</td>\n",
       "      <td>82.00</td>\n",
       "    </tr>\n",
       "    <tr>\n",
       "      <th>4</th>\n",
       "      <td>AWND</td>\n",
       "      <td>2005-08-24T00:00:00</td>\n",
       "      <td>GHCND:USW00012884</td>\n",
       "      <td>3.10</td>\n",
       "    </tr>\n",
       "  </tbody>\n",
       "</table>\n",
       "</div>"
      ],
      "text/plain": [
       "  DataType                 Date         Station id  Value\n",
       "0     PRCP  2005-08-24T00:00:00  GHCND:USC00161292   0.08\n",
       "1     TMAX  2005-08-24T00:00:00  GHCND:USC00161292  91.00\n",
       "2     TMIN  2005-08-24T00:00:00  GHCND:USC00161292  72.00\n",
       "3     TOBS  2005-08-24T00:00:00  GHCND:USC00161292  82.00\n",
       "4     AWND  2005-08-24T00:00:00  GHCND:USW00012884   3.10"
      ]
     },
     "execution_count": 6,
     "metadata": {},
     "output_type": "execute_result"
    }
   ],
   "source": [
    "# Let's create a DataFrame with the lists\n",
    "df_weather = pd.DataFrame(weather_data)\n",
    "print('\\033[1m'+\"The shape of the {} dataframe is: {}\" .format(\"df_weather\",df_weather.shape)+'\\033[0m')\n",
    "df_weather.head() # Display the DataFrame"
   ]
  },
  {
   "cell_type": "code",
   "execution_count": 7,
   "metadata": {},
   "outputs": [],
   "source": [
    "# Let's create a list of stations \n",
    "LWeatherStations = pd.Series(df_weather[\"Station id\"])"
   ]
  },
  {
   "cell_type": "markdown",
   "metadata": {},
   "source": [
    "### Any common station between two lists ?"
   ]
  },
  {
   "cell_type": "code",
   "execution_count": 8,
   "metadata": {},
   "outputs": [
    {
     "name": "stdout",
     "output_type": "stream",
     "text": [
      "\u001b[1mAre there common stations between lists? True\u001b[0m\n"
     ]
    }
   ],
   "source": [
    "def common_member (x,y):\n",
    "    x_set = set(x)\n",
    "    y_set = set(y)\n",
    "    if len(x_set.intersection(y_set))>0:\n",
    "        return(True)\n",
    "    return(False)\n",
    "print('\\033[1m'+\"Are there common stations between lists? {}\" .format(common_member(LWeatherStations,lNOLAStations))+'\\033[0m')"
   ]
  },
  {
   "cell_type": "code",
   "execution_count": 9,
   "metadata": {},
   "outputs": [
    {
     "name": "stdout",
     "output_type": "stream",
     "text": [
      "\u001b[1mNumber of stations without geo-cordinates: 0\u001b[0m\n",
      "\u001b[1mStations without geo-cordinates: set()\u001b[0m\n"
     ]
    }
   ],
   "source": [
    "x_set = set(LWeatherStations)\n",
    "y_set = set(lNOLAStations)\n",
    "print('\\033[1m'+\"Number of stations without geo-cordinates: {}\" .format(len(x_set-y_set))+'\\033[0m')\n",
    "print('\\033[1m'+\"Stations without geo-cordinates: {}\" .format((x_set-y_set))+'\\033[0m')"
   ]
  },
  {
   "cell_type": "markdown",
   "metadata": {},
   "source": [
    "![Katrina devastation](Images/Sea_Temperature_Katrina.jpg)"
   ]
  },
  {
   "cell_type": "markdown",
   "metadata": {},
   "source": [
    "## Creating a combined dataframe with geo coordinates"
   ]
  },
  {
   "cell_type": "code",
   "execution_count": 10,
   "metadata": {},
   "outputs": [
    {
     "name": "stdout",
     "output_type": "stream",
     "text": [
      "\u001b[96m\u001b[1mThe shape of the df_NOLAWeather dataframe is (522, 7):\u001b[0m\n"
     ]
    },
    {
     "data": {
      "text/html": [
       "<div>\n",
       "<style scoped>\n",
       "    .dataframe tbody tr th:only-of-type {\n",
       "        vertical-align: middle;\n",
       "    }\n",
       "\n",
       "    .dataframe tbody tr th {\n",
       "        vertical-align: top;\n",
       "    }\n",
       "\n",
       "    .dataframe thead th {\n",
       "        text-align: right;\n",
       "    }\n",
       "</style>\n",
       "<table border=\"1\" class=\"dataframe\">\n",
       "  <thead>\n",
       "    <tr style=\"text-align: right;\">\n",
       "      <th></th>\n",
       "      <th>DataType</th>\n",
       "      <th>Date</th>\n",
       "      <th>Station id</th>\n",
       "      <th>Value</th>\n",
       "      <th>Station name</th>\n",
       "      <th>Latitude</th>\n",
       "      <th>Longitude</th>\n",
       "    </tr>\n",
       "  </thead>\n",
       "  <tbody>\n",
       "    <tr>\n",
       "      <th>0</th>\n",
       "      <td>PRCP</td>\n",
       "      <td>2005-08-24</td>\n",
       "      <td>GHCND:USC00161292</td>\n",
       "      <td>0.08</td>\n",
       "      <td>BURAS, LA US</td>\n",
       "      <td>29.34139</td>\n",
       "      <td>-89.51583</td>\n",
       "    </tr>\n",
       "    <tr>\n",
       "      <th>1</th>\n",
       "      <td>TMAX</td>\n",
       "      <td>2005-08-24</td>\n",
       "      <td>GHCND:USC00161292</td>\n",
       "      <td>91.00</td>\n",
       "      <td>BURAS, LA US</td>\n",
       "      <td>29.34139</td>\n",
       "      <td>-89.51583</td>\n",
       "    </tr>\n",
       "    <tr>\n",
       "      <th>2</th>\n",
       "      <td>TMIN</td>\n",
       "      <td>2005-08-24</td>\n",
       "      <td>GHCND:USC00161292</td>\n",
       "      <td>72.00</td>\n",
       "      <td>BURAS, LA US</td>\n",
       "      <td>29.34139</td>\n",
       "      <td>-89.51583</td>\n",
       "    </tr>\n",
       "    <tr>\n",
       "      <th>3</th>\n",
       "      <td>TOBS</td>\n",
       "      <td>2005-08-24</td>\n",
       "      <td>GHCND:USC00161292</td>\n",
       "      <td>82.00</td>\n",
       "      <td>BURAS, LA US</td>\n",
       "      <td>29.34139</td>\n",
       "      <td>-89.51583</td>\n",
       "    </tr>\n",
       "    <tr>\n",
       "      <th>4</th>\n",
       "      <td>PRCP</td>\n",
       "      <td>2005-08-25</td>\n",
       "      <td>GHCND:USC00161292</td>\n",
       "      <td>0.08</td>\n",
       "      <td>BURAS, LA US</td>\n",
       "      <td>29.34139</td>\n",
       "      <td>-89.51583</td>\n",
       "    </tr>\n",
       "  </tbody>\n",
       "</table>\n",
       "</div>"
      ],
      "text/plain": [
       "  DataType        Date         Station id  Value  Station name  Latitude  \\\n",
       "0     PRCP  2005-08-24  GHCND:USC00161292   0.08  BURAS, LA US  29.34139   \n",
       "1     TMAX  2005-08-24  GHCND:USC00161292  91.00  BURAS, LA US  29.34139   \n",
       "2     TMIN  2005-08-24  GHCND:USC00161292  72.00  BURAS, LA US  29.34139   \n",
       "3     TOBS  2005-08-24  GHCND:USC00161292  82.00  BURAS, LA US  29.34139   \n",
       "4     PRCP  2005-08-25  GHCND:USC00161292   0.08  BURAS, LA US  29.34139   \n",
       "\n",
       "   Longitude  \n",
       "0  -89.51583  \n",
       "1  -89.51583  \n",
       "2  -89.51583  \n",
       "3  -89.51583  \n",
       "4  -89.51583  "
      ]
     },
     "execution_count": 10,
     "metadata": {},
     "output_type": "execute_result"
    }
   ],
   "source": [
    "# Combine the dataframes into a single dataframe\n",
    "df_NOLAWeather = pd.merge(df_weather, df_NOLAStations, how=\"inner\", on=\"Station id\")\n",
    "# Using list comprehensions to remove the time stamp from Date\n",
    "df_NOLAWeather[\"Date\"] = [v[:-9] for v in df_NOLAWeather[\"Date\"]]\n",
    "# Display the Dataframe\n",
    "print('\\033[96m'+'\\033[1m'+\"The shape of the {} dataframe is {}:\" .format(\"df_NOLAWeather\",df_NOLAWeather.shape)+'\\033[0m')\n",
    "df_NOLAWeather.head()"
   ]
  },
  {
   "cell_type": "code",
   "execution_count": 11,
   "metadata": {},
   "outputs": [
    {
     "name": "stdout",
     "output_type": "stream",
     "text": [
      "['PRCP', 'TMAX', 'TMIN', 'TOBS', 'AWND', 'FMTM', 'WDF2', 'WDF5', 'WSF2', 'WSF5', 'WT01', 'WT13', 'WT16', 'SNOW', 'SNWD', 'MDPR', 'WT11', 'DAPR']\n"
     ]
    }
   ],
   "source": [
    "# Let's see the unique datatypes in the final DataFrame\n",
    "print(df_NOLAWeather[\"DataType\"].unique().tolist())"
   ]
  },
  {
   "cell_type": "markdown",
   "metadata": {},
   "source": [
    "## Definition of the data types :\n",
    "* PRCP  : Precipitation (mm or inches)\n",
    "* SNOW  : Snowfall (mm or inches)\n",
    "* SNWD : Snow depth (mm or inches)\n",
    "* AWND  : Average Daily Wind Speed (meters per sec or miles per hr)\n",
    "* TMAX  : Maximim Temperature (Fahrenheit or Celsius)\n",
    "* TMIN  : Minimum Temperature (Fahrenheit or Celsius)\n",
    "* TOBS  : Temperature at the time of observation (Fahrenheit or Celsius)\n",
    "* WDF2  : Direction of fastest 2-min wind (degrees)\n",
    "* WDF5  : Direction of fastest 5-sec wind (degrees)\n",
    "* WSF2  : Fastest 1 min wind speed \n",
    "* WSF5  : Fastest 5 sec wind speed\n",
    "* WT16  : Rain\n",
    "* WT13  : Mist\n",
    "* WT01  : Fog\n",
    "* MDPR  : Multiday precipitation total (mm or inches)"
   ]
  },
  {
   "cell_type": "markdown",
   "metadata": {},
   "source": [
    "## Let's see how many data points are available for each weather types"
   ]
  },
  {
   "cell_type": "code",
   "execution_count": 12,
   "metadata": {},
   "outputs": [
    {
     "name": "stdout",
     "output_type": "stream",
     "text": [
      "\u001b[96m\u001b[1mThe shape of weather count dataframe is (18, 2):\u001b[0m\n"
     ]
    },
    {
     "data": {
      "text/html": [
       "<div>\n",
       "<style scoped>\n",
       "    .dataframe tbody tr th:only-of-type {\n",
       "        vertical-align: middle;\n",
       "    }\n",
       "\n",
       "    .dataframe tbody tr th {\n",
       "        vertical-align: top;\n",
       "    }\n",
       "\n",
       "    .dataframe thead th {\n",
       "        text-align: right;\n",
       "    }\n",
       "</style>\n",
       "<table border=\"1\" class=\"dataframe\">\n",
       "  <thead>\n",
       "    <tr style=\"text-align: right;\">\n",
       "      <th></th>\n",
       "      <th>DataType</th>\n",
       "      <th>Count</th>\n",
       "    </tr>\n",
       "  </thead>\n",
       "  <tbody>\n",
       "    <tr>\n",
       "      <th>0</th>\n",
       "      <td>SNWD</td>\n",
       "      <td>96</td>\n",
       "    </tr>\n",
       "    <tr>\n",
       "      <th>1</th>\n",
       "      <td>SNOW</td>\n",
       "      <td>96</td>\n",
       "    </tr>\n",
       "    <tr>\n",
       "      <th>2</th>\n",
       "      <td>PRCP</td>\n",
       "      <td>77</td>\n",
       "    </tr>\n",
       "    <tr>\n",
       "      <th>3</th>\n",
       "      <td>TMIN</td>\n",
       "      <td>72</td>\n",
       "    </tr>\n",
       "    <tr>\n",
       "      <th>4</th>\n",
       "      <td>TMAX</td>\n",
       "      <td>72</td>\n",
       "    </tr>\n",
       "  </tbody>\n",
       "</table>\n",
       "</div>"
      ],
      "text/plain": [
       "  DataType  Count\n",
       "0     SNWD     96\n",
       "1     SNOW     96\n",
       "2     PRCP     77\n",
       "3     TMIN     72\n",
       "4     TMAX     72"
      ]
     },
     "execution_count": 12,
     "metadata": {},
     "output_type": "execute_result"
    }
   ],
   "source": [
    "# Let's groupby data-type column in the dataframe and count the ocurrences\n",
    "grouped_count = df_NOLAWeather[\"DataType\"].groupby(df_NOLAWeather[\"DataType\"]) # Create a GroupBy object\n",
    "# Let's create a dataframe with the number of data points for each weather data type\n",
    "weather_count_unsorted = grouped_count.count().to_frame(\"Count\")\n",
    "# Let's sort the dataframe by number of count\n",
    "weather_count = weather_count_unsorted.sort_values(by=\"Count\",ascending=False)\n",
    "# Let's reset index in the new dataframe\n",
    "weather_count.reset_index(inplace=True)\n",
    "# Display the Dataframe\n",
    "print('\\033[96m'+'\\033[1m'+\"The shape of weather count dataframe is {}:\" .format(weather_count.shape)+'\\033[0m')\n",
    "weather_count.head()"
   ]
  },
  {
   "cell_type": "markdown",
   "metadata": {},
   "source": [
    "## Precipitation near Plaquemines parish when hurricane Katrina made landfall"
   ]
  },
  {
   "cell_type": "code",
   "execution_count": 13,
   "metadata": {},
   "outputs": [
    {
     "name": "stdout",
     "output_type": "stream",
     "text": [
      "\u001b[94m\u001b[1mThe shape of the precipitation dataframe is:(77, 7)\u001b[0m\n"
     ]
    },
    {
     "data": {
      "text/html": [
       "<div>\n",
       "<style scoped>\n",
       "    .dataframe tbody tr th:only-of-type {\n",
       "        vertical-align: middle;\n",
       "    }\n",
       "\n",
       "    .dataframe tbody tr th {\n",
       "        vertical-align: top;\n",
       "    }\n",
       "\n",
       "    .dataframe thead th {\n",
       "        text-align: right;\n",
       "    }\n",
       "</style>\n",
       "<table border=\"1\" class=\"dataframe\">\n",
       "  <thead>\n",
       "    <tr style=\"text-align: right;\">\n",
       "      <th></th>\n",
       "      <th>DataType</th>\n",
       "      <th>Date</th>\n",
       "      <th>Station id</th>\n",
       "      <th>Value</th>\n",
       "      <th>Station name</th>\n",
       "      <th>Latitude</th>\n",
       "      <th>Longitude</th>\n",
       "    </tr>\n",
       "  </thead>\n",
       "  <tbody>\n",
       "    <tr>\n",
       "      <th>0</th>\n",
       "      <td>PRCP</td>\n",
       "      <td>2005-08-24</td>\n",
       "      <td>GHCND:USC00161292</td>\n",
       "      <td>0.08</td>\n",
       "      <td>BURAS, LA US</td>\n",
       "      <td>29.34139</td>\n",
       "      <td>-89.51583</td>\n",
       "    </tr>\n",
       "    <tr>\n",
       "      <th>1</th>\n",
       "      <td>PRCP</td>\n",
       "      <td>2005-08-24</td>\n",
       "      <td>GHCND:USC00169013</td>\n",
       "      <td>0.00</td>\n",
       "      <td>THIBODAUX 4 SE, LA US</td>\n",
       "      <td>29.75470</td>\n",
       "      <td>-90.77480</td>\n",
       "    </tr>\n",
       "    <tr>\n",
       "      <th>2</th>\n",
       "      <td>PRCP</td>\n",
       "      <td>2005-08-24</td>\n",
       "      <td>GHCND:USC00166394</td>\n",
       "      <td>0.02</td>\n",
       "      <td>MORGAN CITY, LA US</td>\n",
       "      <td>29.68330</td>\n",
       "      <td>-91.17610</td>\n",
       "    </tr>\n",
       "    <tr>\n",
       "      <th>3</th>\n",
       "      <td>PRCP</td>\n",
       "      <td>2005-08-24</td>\n",
       "      <td>GHCND:USC00163433</td>\n",
       "      <td>0.00</td>\n",
       "      <td>GALLIANO, LA US</td>\n",
       "      <td>29.46310</td>\n",
       "      <td>-90.30720</td>\n",
       "    </tr>\n",
       "    <tr>\n",
       "      <th>4</th>\n",
       "      <td>PRCP</td>\n",
       "      <td>2005-08-24</td>\n",
       "      <td>GHCND:USC00163433</td>\n",
       "      <td>0.00</td>\n",
       "      <td>GALLIANO, LA US</td>\n",
       "      <td>29.46310</td>\n",
       "      <td>-90.30720</td>\n",
       "    </tr>\n",
       "  </tbody>\n",
       "</table>\n",
       "</div>"
      ],
      "text/plain": [
       "  DataType        Date         Station id  Value           Station name  \\\n",
       "0     PRCP  2005-08-24  GHCND:USC00161292   0.08           BURAS, LA US   \n",
       "1     PRCP  2005-08-24  GHCND:USC00169013   0.00  THIBODAUX 4 SE, LA US   \n",
       "2     PRCP  2005-08-24  GHCND:USC00166394   0.02     MORGAN CITY, LA US   \n",
       "3     PRCP  2005-08-24  GHCND:USC00163433   0.00        GALLIANO, LA US   \n",
       "4     PRCP  2005-08-24  GHCND:USC00163433   0.00        GALLIANO, LA US   \n",
       "\n",
       "   Latitude  Longitude  \n",
       "0  29.34139  -89.51583  \n",
       "1  29.75470  -90.77480  \n",
       "2  29.68330  -91.17610  \n",
       "3  29.46310  -90.30720  \n",
       "4  29.46310  -90.30720  "
      ]
     },
     "execution_count": 13,
     "metadata": {},
     "output_type": "execute_result"
    }
   ],
   "source": [
    "# Let's create a precipitation dataframe\n",
    "df_prcp_unsorted = df_NOLAWeather.loc[(df_NOLAWeather[\"DataType\"]==\"PRCP\"),:]\n",
    "# Let's sort the dataframe by Date\n",
    "df_prcp = df_prcp_unsorted.sort_values(by=\"Date\",ascending=True)\n",
    "# Let's reset index in the new dataframe\n",
    "df_prcp.reset_index(drop = True, inplace=True)\n",
    "# Save the dataframe to the output file\n",
    "df_prcp.to_csv(\"Output_Data/Harvey_Prcp.csv\", index=False, encoding=\"utf-8\")\n",
    "# Display the dataframe\n",
    "print('\\033[94m'+'\\033[1m'+\"The shape of the precipitation dataframe is:{}\".format(df_prcp.shape)+'\\033[0m')\n",
    "df_prcp.head()"
   ]
  },
  {
   "cell_type": "markdown",
   "metadata": {},
   "source": [
    "## Let's create maximum precipitation dataframe"
   ]
  },
  {
   "cell_type": "code",
   "execution_count": 14,
   "metadata": {},
   "outputs": [
    {
     "name": "stdout",
     "output_type": "stream",
     "text": [
      "\u001b[94m\u001b[1mThe shape of the max per day precipitation dataframe is:(12, 2)\u001b[0m\n"
     ]
    },
    {
     "data": {
      "text/html": [
       "<div>\n",
       "<style scoped>\n",
       "    .dataframe tbody tr th:only-of-type {\n",
       "        vertical-align: middle;\n",
       "    }\n",
       "\n",
       "    .dataframe tbody tr th {\n",
       "        vertical-align: top;\n",
       "    }\n",
       "\n",
       "    .dataframe thead th {\n",
       "        text-align: right;\n",
       "    }\n",
       "</style>\n",
       "<table border=\"1\" class=\"dataframe\">\n",
       "  <thead>\n",
       "    <tr style=\"text-align: right;\">\n",
       "      <th></th>\n",
       "      <th>Date</th>\n",
       "      <th>Value</th>\n",
       "    </tr>\n",
       "  </thead>\n",
       "  <tbody>\n",
       "    <tr>\n",
       "      <th>0</th>\n",
       "      <td>2005-08-24</td>\n",
       "      <td>0.08</td>\n",
       "    </tr>\n",
       "    <tr>\n",
       "      <th>1</th>\n",
       "      <td>2005-08-25</td>\n",
       "      <td>0.80</td>\n",
       "    </tr>\n",
       "    <tr>\n",
       "      <th>2</th>\n",
       "      <td>2005-08-26</td>\n",
       "      <td>0.08</td>\n",
       "    </tr>\n",
       "    <tr>\n",
       "      <th>3</th>\n",
       "      <td>2005-08-27</td>\n",
       "      <td>0.21</td>\n",
       "    </tr>\n",
       "    <tr>\n",
       "      <th>4</th>\n",
       "      <td>2005-08-28</td>\n",
       "      <td>0.00</td>\n",
       "    </tr>\n",
       "  </tbody>\n",
       "</table>\n",
       "</div>"
      ],
      "text/plain": [
       "         Date  Value\n",
       "0  2005-08-24   0.08\n",
       "1  2005-08-25   0.80\n",
       "2  2005-08-26   0.08\n",
       "3  2005-08-27   0.21\n",
       "4  2005-08-28   0.00"
      ]
     },
     "execution_count": 14,
     "metadata": {},
     "output_type": "execute_result"
    }
   ],
   "source": [
    "# Let's groupby value column by date and count the maximum ocurrences\n",
    "grouped_count = df_prcp[\"Value\"].groupby(df_prcp[\"Date\"]) # Create a GroupBy object\n",
    "# Let's create a dataframe with maximum precipitation per day\n",
    "df_prcp_max_unsorted = grouped_count.max().to_frame(\"Value\")\n",
    "# Let's sort the dataframe by date\n",
    "df_prcp_max = df_prcp_max_unsorted.sort_values(by=\"Date\",ascending=True)\n",
    "# Let's reset index in the new dataframe\n",
    "df_prcp_max.reset_index(inplace=True)\n",
    "# Save the dataframe to the output file\n",
    "df_prcp_max.to_csv(\"Output_Data/Katrina_Prcp_max.csv\", index=False, encoding=\"utf-8\")\n",
    "# Display the dataframe\n",
    "print('\\033[94m'+'\\033[1m'+\"The shape of the max per day precipitation dataframe is:{}\".format(df_prcp_max.shape)+'\\033[0m')\n",
    "df_prcp_max.head()"
   ]
  },
  {
   "cell_type": "markdown",
   "metadata": {},
   "source": [
    "## Maximum Temperature near Plaquemines parish when hurricane Katrina made landfall"
   ]
  },
  {
   "cell_type": "code",
   "execution_count": 15,
   "metadata": {},
   "outputs": [
    {
     "name": "stdout",
     "output_type": "stream",
     "text": [
      "\u001b[94m\u001b[1mThe shape of the maximum temperature dataframe is:(72, 7)\u001b[0m\n"
     ]
    },
    {
     "data": {
      "text/html": [
       "<div>\n",
       "<style scoped>\n",
       "    .dataframe tbody tr th:only-of-type {\n",
       "        vertical-align: middle;\n",
       "    }\n",
       "\n",
       "    .dataframe tbody tr th {\n",
       "        vertical-align: top;\n",
       "    }\n",
       "\n",
       "    .dataframe thead th {\n",
       "        text-align: right;\n",
       "    }\n",
       "</style>\n",
       "<table border=\"1\" class=\"dataframe\">\n",
       "  <thead>\n",
       "    <tr style=\"text-align: right;\">\n",
       "      <th></th>\n",
       "      <th>DataType</th>\n",
       "      <th>Date</th>\n",
       "      <th>Station id</th>\n",
       "      <th>Value</th>\n",
       "      <th>Station name</th>\n",
       "      <th>Latitude</th>\n",
       "      <th>Longitude</th>\n",
       "    </tr>\n",
       "  </thead>\n",
       "  <tbody>\n",
       "    <tr>\n",
       "      <th>0</th>\n",
       "      <td>TMAX</td>\n",
       "      <td>2005-08-24</td>\n",
       "      <td>GHCND:USC00161292</td>\n",
       "      <td>91.0</td>\n",
       "      <td>BURAS, LA US</td>\n",
       "      <td>29.34139</td>\n",
       "      <td>-89.51583</td>\n",
       "    </tr>\n",
       "    <tr>\n",
       "      <th>1</th>\n",
       "      <td>TMAX</td>\n",
       "      <td>2005-08-24</td>\n",
       "      <td>GHCND:USC00163433</td>\n",
       "      <td>94.0</td>\n",
       "      <td>GALLIANO, LA US</td>\n",
       "      <td>29.46310</td>\n",
       "      <td>-90.30720</td>\n",
       "    </tr>\n",
       "    <tr>\n",
       "      <th>2</th>\n",
       "      <td>TMAX</td>\n",
       "      <td>2005-08-24</td>\n",
       "      <td>GHCND:USC00163433</td>\n",
       "      <td>94.0</td>\n",
       "      <td>GALLIANO, LA US</td>\n",
       "      <td>29.46310</td>\n",
       "      <td>-90.30720</td>\n",
       "    </tr>\n",
       "    <tr>\n",
       "      <th>3</th>\n",
       "      <td>TMAX</td>\n",
       "      <td>2005-08-24</td>\n",
       "      <td>GHCND:USC00169013</td>\n",
       "      <td>95.0</td>\n",
       "      <td>THIBODAUX 4 SE, LA US</td>\n",
       "      <td>29.75470</td>\n",
       "      <td>-90.77480</td>\n",
       "    </tr>\n",
       "    <tr>\n",
       "      <th>4</th>\n",
       "      <td>TMAX</td>\n",
       "      <td>2005-08-24</td>\n",
       "      <td>GHCND:USC00163433</td>\n",
       "      <td>94.0</td>\n",
       "      <td>GALLIANO, LA US</td>\n",
       "      <td>29.46310</td>\n",
       "      <td>-90.30720</td>\n",
       "    </tr>\n",
       "  </tbody>\n",
       "</table>\n",
       "</div>"
      ],
      "text/plain": [
       "  DataType        Date         Station id  Value           Station name  \\\n",
       "0     TMAX  2005-08-24  GHCND:USC00161292   91.0           BURAS, LA US   \n",
       "1     TMAX  2005-08-24  GHCND:USC00163433   94.0        GALLIANO, LA US   \n",
       "2     TMAX  2005-08-24  GHCND:USC00163433   94.0        GALLIANO, LA US   \n",
       "3     TMAX  2005-08-24  GHCND:USC00169013   95.0  THIBODAUX 4 SE, LA US   \n",
       "4     TMAX  2005-08-24  GHCND:USC00163433   94.0        GALLIANO, LA US   \n",
       "\n",
       "   Latitude  Longitude  \n",
       "0  29.34139  -89.51583  \n",
       "1  29.46310  -90.30720  \n",
       "2  29.46310  -90.30720  \n",
       "3  29.75470  -90.77480  \n",
       "4  29.46310  -90.30720  "
      ]
     },
     "execution_count": 15,
     "metadata": {},
     "output_type": "execute_result"
    }
   ],
   "source": [
    "# Let's create maximum temperature dataframe\n",
    "df_MaxTemp_unsorted = df_NOLAWeather.loc[(df_NOLAWeather[\"DataType\"]==\"TMAX\"),:]\n",
    "# Let's sort the dataframe by Date\n",
    "df_MaxTemp = df_MaxTemp_unsorted.sort_values(by=\"Date\",ascending=True)\n",
    "# Let's reset index in the new dataframe\n",
    "df_MaxTemp.reset_index(drop = True, inplace=True)\n",
    "# Save the dataframe to the output file\n",
    "df_MaxTemp.to_csv(\"Output_Data/Katrina_MaxTemp.csv\", index=False, encoding=\"utf-8\")\n",
    "# Display the dataframe\n",
    "print('\\033[94m'+'\\033[1m'+\"The shape of the maximum temperature dataframe is:{}\".format(df_MaxTemp.shape)+'\\033[0m')\n",
    "df_MaxTemp.head()"
   ]
  },
  {
   "cell_type": "markdown",
   "metadata": {},
   "source": [
    "## Minimum Temperature near Plaquemines parish when hurricane Katrina made landfall"
   ]
  },
  {
   "cell_type": "code",
   "execution_count": 16,
   "metadata": {},
   "outputs": [
    {
     "name": "stdout",
     "output_type": "stream",
     "text": [
      "\u001b[94m\u001b[1mThe shape of the minimum temperature dataframe is:(72, 7)\u001b[0m\n"
     ]
    },
    {
     "data": {
      "text/html": [
       "<div>\n",
       "<style scoped>\n",
       "    .dataframe tbody tr th:only-of-type {\n",
       "        vertical-align: middle;\n",
       "    }\n",
       "\n",
       "    .dataframe tbody tr th {\n",
       "        vertical-align: top;\n",
       "    }\n",
       "\n",
       "    .dataframe thead th {\n",
       "        text-align: right;\n",
       "    }\n",
       "</style>\n",
       "<table border=\"1\" class=\"dataframe\">\n",
       "  <thead>\n",
       "    <tr style=\"text-align: right;\">\n",
       "      <th></th>\n",
       "      <th>DataType</th>\n",
       "      <th>Date</th>\n",
       "      <th>Station id</th>\n",
       "      <th>Value</th>\n",
       "      <th>Station name</th>\n",
       "      <th>Latitude</th>\n",
       "      <th>Longitude</th>\n",
       "    </tr>\n",
       "  </thead>\n",
       "  <tbody>\n",
       "    <tr>\n",
       "      <th>0</th>\n",
       "      <td>TMIN</td>\n",
       "      <td>2005-08-24</td>\n",
       "      <td>GHCND:USC00161292</td>\n",
       "      <td>72.0</td>\n",
       "      <td>BURAS, LA US</td>\n",
       "      <td>29.34139</td>\n",
       "      <td>-89.51583</td>\n",
       "    </tr>\n",
       "    <tr>\n",
       "      <th>1</th>\n",
       "      <td>TMIN</td>\n",
       "      <td>2005-08-24</td>\n",
       "      <td>GHCND:USC00163433</td>\n",
       "      <td>77.0</td>\n",
       "      <td>GALLIANO, LA US</td>\n",
       "      <td>29.46310</td>\n",
       "      <td>-90.30720</td>\n",
       "    </tr>\n",
       "    <tr>\n",
       "      <th>2</th>\n",
       "      <td>TMIN</td>\n",
       "      <td>2005-08-24</td>\n",
       "      <td>GHCND:USC00163433</td>\n",
       "      <td>77.0</td>\n",
       "      <td>GALLIANO, LA US</td>\n",
       "      <td>29.46310</td>\n",
       "      <td>-90.30720</td>\n",
       "    </tr>\n",
       "    <tr>\n",
       "      <th>3</th>\n",
       "      <td>TMIN</td>\n",
       "      <td>2005-08-24</td>\n",
       "      <td>GHCND:USC00169013</td>\n",
       "      <td>73.0</td>\n",
       "      <td>THIBODAUX 4 SE, LA US</td>\n",
       "      <td>29.75470</td>\n",
       "      <td>-90.77480</td>\n",
       "    </tr>\n",
       "    <tr>\n",
       "      <th>4</th>\n",
       "      <td>TMIN</td>\n",
       "      <td>2005-08-24</td>\n",
       "      <td>GHCND:USC00163433</td>\n",
       "      <td>77.0</td>\n",
       "      <td>GALLIANO, LA US</td>\n",
       "      <td>29.46310</td>\n",
       "      <td>-90.30720</td>\n",
       "    </tr>\n",
       "  </tbody>\n",
       "</table>\n",
       "</div>"
      ],
      "text/plain": [
       "  DataType        Date         Station id  Value           Station name  \\\n",
       "0     TMIN  2005-08-24  GHCND:USC00161292   72.0           BURAS, LA US   \n",
       "1     TMIN  2005-08-24  GHCND:USC00163433   77.0        GALLIANO, LA US   \n",
       "2     TMIN  2005-08-24  GHCND:USC00163433   77.0        GALLIANO, LA US   \n",
       "3     TMIN  2005-08-24  GHCND:USC00169013   73.0  THIBODAUX 4 SE, LA US   \n",
       "4     TMIN  2005-08-24  GHCND:USC00163433   77.0        GALLIANO, LA US   \n",
       "\n",
       "   Latitude  Longitude  \n",
       "0  29.34139  -89.51583  \n",
       "1  29.46310  -90.30720  \n",
       "2  29.46310  -90.30720  \n",
       "3  29.75470  -90.77480  \n",
       "4  29.46310  -90.30720  "
      ]
     },
     "execution_count": 16,
     "metadata": {},
     "output_type": "execute_result"
    }
   ],
   "source": [
    "# Let's create minimum temperature dataframe\n",
    "df_MinTemp_unsorted = df_NOLAWeather.loc[(df_NOLAWeather[\"DataType\"]==\"TMIN\"),:]\n",
    "# Let's sort the dataframe by Date\n",
    "df_MinTemp = df_MinTemp_unsorted.sort_values(by=\"Date\",ascending=True)\n",
    "# Let's reset index in the new dataframe\n",
    "df_MinTemp.reset_index(drop = True, inplace=True)\n",
    "# Save the dataframe to the output file\n",
    "df_MinTemp.to_csv(\"Output_Data/Katrina_MinTemp.csv\", index=False, encoding=\"utf-8\")\n",
    "# Display the dataframe\n",
    "print('\\033[94m'+'\\033[1m'+\"The shape of the minimum temperature dataframe is:{}\".format(df_MinTemp.shape)+'\\033[0m')\n",
    "df_MinTemp.head()"
   ]
  },
  {
   "cell_type": "markdown",
   "metadata": {},
   "source": [
    "### Average daily wind speed near Plaquemines parish when hurricane Katrina made landfall"
   ]
  },
  {
   "cell_type": "code",
   "execution_count": 17,
   "metadata": {},
   "outputs": [
    {
     "name": "stdout",
     "output_type": "stream",
     "text": [
      "\u001b[94m\u001b[1mThe shape of the daily wind speed dataframe is:(5, 7)\u001b[0m\n"
     ]
    },
    {
     "data": {
      "text/html": [
       "<div>\n",
       "<style scoped>\n",
       "    .dataframe tbody tr th:only-of-type {\n",
       "        vertical-align: middle;\n",
       "    }\n",
       "\n",
       "    .dataframe tbody tr th {\n",
       "        vertical-align: top;\n",
       "    }\n",
       "\n",
       "    .dataframe thead th {\n",
       "        text-align: right;\n",
       "    }\n",
       "</style>\n",
       "<table border=\"1\" class=\"dataframe\">\n",
       "  <thead>\n",
       "    <tr style=\"text-align: right;\">\n",
       "      <th></th>\n",
       "      <th>DataType</th>\n",
       "      <th>Date</th>\n",
       "      <th>Station id</th>\n",
       "      <th>Value</th>\n",
       "      <th>Station name</th>\n",
       "      <th>Latitude</th>\n",
       "      <th>Longitude</th>\n",
       "    </tr>\n",
       "  </thead>\n",
       "  <tbody>\n",
       "    <tr>\n",
       "      <th>0</th>\n",
       "      <td>AWND</td>\n",
       "      <td>2005-08-24</td>\n",
       "      <td>GHCND:USW00012884</td>\n",
       "      <td>3.1</td>\n",
       "      <td>BOOTHVILLE ASOS, LA US</td>\n",
       "      <td>29.333</td>\n",
       "      <td>-89.4075</td>\n",
       "    </tr>\n",
       "    <tr>\n",
       "      <th>1</th>\n",
       "      <td>AWND</td>\n",
       "      <td>2005-08-25</td>\n",
       "      <td>GHCND:USW00012884</td>\n",
       "      <td>4.3</td>\n",
       "      <td>BOOTHVILLE ASOS, LA US</td>\n",
       "      <td>29.333</td>\n",
       "      <td>-89.4075</td>\n",
       "    </tr>\n",
       "    <tr>\n",
       "      <th>2</th>\n",
       "      <td>AWND</td>\n",
       "      <td>2005-08-26</td>\n",
       "      <td>GHCND:USW00012884</td>\n",
       "      <td>6.9</td>\n",
       "      <td>BOOTHVILLE ASOS, LA US</td>\n",
       "      <td>29.333</td>\n",
       "      <td>-89.4075</td>\n",
       "    </tr>\n",
       "    <tr>\n",
       "      <th>3</th>\n",
       "      <td>AWND</td>\n",
       "      <td>2005-08-27</td>\n",
       "      <td>GHCND:USW00012884</td>\n",
       "      <td>11.6</td>\n",
       "      <td>BOOTHVILLE ASOS, LA US</td>\n",
       "      <td>29.333</td>\n",
       "      <td>-89.4075</td>\n",
       "    </tr>\n",
       "    <tr>\n",
       "      <th>4</th>\n",
       "      <td>AWND</td>\n",
       "      <td>2005-08-28</td>\n",
       "      <td>GHCND:USW00012884</td>\n",
       "      <td>18.8</td>\n",
       "      <td>BOOTHVILLE ASOS, LA US</td>\n",
       "      <td>29.333</td>\n",
       "      <td>-89.4075</td>\n",
       "    </tr>\n",
       "  </tbody>\n",
       "</table>\n",
       "</div>"
      ],
      "text/plain": [
       "  DataType        Date         Station id  Value            Station name  \\\n",
       "0     AWND  2005-08-24  GHCND:USW00012884    3.1  BOOTHVILLE ASOS, LA US   \n",
       "1     AWND  2005-08-25  GHCND:USW00012884    4.3  BOOTHVILLE ASOS, LA US   \n",
       "2     AWND  2005-08-26  GHCND:USW00012884    6.9  BOOTHVILLE ASOS, LA US   \n",
       "3     AWND  2005-08-27  GHCND:USW00012884   11.6  BOOTHVILLE ASOS, LA US   \n",
       "4     AWND  2005-08-28  GHCND:USW00012884   18.8  BOOTHVILLE ASOS, LA US   \n",
       "\n",
       "   Latitude  Longitude  \n",
       "0    29.333   -89.4075  \n",
       "1    29.333   -89.4075  \n",
       "2    29.333   -89.4075  \n",
       "3    29.333   -89.4075  \n",
       "4    29.333   -89.4075  "
      ]
     },
     "execution_count": 17,
     "metadata": {},
     "output_type": "execute_result"
    }
   ],
   "source": [
    "# Let's create average daily windspeed dataframe\n",
    "df_WndSpd_unsorted = df_NOLAWeather.loc[(df_NOLAWeather[\"DataType\"]==\"AWND\"),:]\n",
    "# Let's sort the dataframe by Date\n",
    "df_WndSpd = df_WndSpd_unsorted.sort_values(by=\"Date\",ascending=True)\n",
    "# Let's reset index in the new dataframe\n",
    "df_WndSpd.reset_index(drop = True, inplace=True)\n",
    "# Save the dataframe to the output file\n",
    "df_WndSpd.to_csv(\"Output_Data/Katrina_AvgWindSpeed.csv\", index=False, encoding=\"utf-8\")\n",
    "print('\\033[94m'+'\\033[1m'+\"The shape of the daily wind speed dataframe is:{}\".format(df_WndSpd.shape)+'\\033[0m')\n",
    "df_WndSpd.head()"
   ]
  },
  {
   "cell_type": "markdown",
   "metadata": {},
   "source": [
    "### Fastest 5 second windspeed near Plaquemines parish when hurricane Katrina made landfall"
   ]
  },
  {
   "cell_type": "code",
   "execution_count": 18,
   "metadata": {},
   "outputs": [
    {
     "name": "stdout",
     "output_type": "stream",
     "text": [
      "\u001b[94m\u001b[1mThe shape of the daily wind speed dataframe is:(4, 7)\u001b[0m\n"
     ]
    },
    {
     "data": {
      "text/html": [
       "<div>\n",
       "<style scoped>\n",
       "    .dataframe tbody tr th:only-of-type {\n",
       "        vertical-align: middle;\n",
       "    }\n",
       "\n",
       "    .dataframe tbody tr th {\n",
       "        vertical-align: top;\n",
       "    }\n",
       "\n",
       "    .dataframe thead th {\n",
       "        text-align: right;\n",
       "    }\n",
       "</style>\n",
       "<table border=\"1\" class=\"dataframe\">\n",
       "  <thead>\n",
       "    <tr style=\"text-align: right;\">\n",
       "      <th></th>\n",
       "      <th>DataType</th>\n",
       "      <th>Date</th>\n",
       "      <th>Station id</th>\n",
       "      <th>Value</th>\n",
       "      <th>Station name</th>\n",
       "      <th>Latitude</th>\n",
       "      <th>Longitude</th>\n",
       "    </tr>\n",
       "  </thead>\n",
       "  <tbody>\n",
       "    <tr>\n",
       "      <th>0</th>\n",
       "      <td>WSF5</td>\n",
       "      <td>2005-08-24</td>\n",
       "      <td>GHCND:USW00012884</td>\n",
       "      <td>17.0</td>\n",
       "      <td>BOOTHVILLE ASOS, LA US</td>\n",
       "      <td>29.333</td>\n",
       "      <td>-89.4075</td>\n",
       "    </tr>\n",
       "    <tr>\n",
       "      <th>1</th>\n",
       "      <td>WSF5</td>\n",
       "      <td>2005-08-25</td>\n",
       "      <td>GHCND:USW00012884</td>\n",
       "      <td>19.9</td>\n",
       "      <td>BOOTHVILLE ASOS, LA US</td>\n",
       "      <td>29.333</td>\n",
       "      <td>-89.4075</td>\n",
       "    </tr>\n",
       "    <tr>\n",
       "      <th>2</th>\n",
       "      <td>WSF5</td>\n",
       "      <td>2005-08-26</td>\n",
       "      <td>GHCND:USW00012884</td>\n",
       "      <td>21.0</td>\n",
       "      <td>BOOTHVILLE ASOS, LA US</td>\n",
       "      <td>29.333</td>\n",
       "      <td>-89.4075</td>\n",
       "    </tr>\n",
       "    <tr>\n",
       "      <th>3</th>\n",
       "      <td>WSF5</td>\n",
       "      <td>2005-08-27</td>\n",
       "      <td>GHCND:USW00012884</td>\n",
       "      <td>23.0</td>\n",
       "      <td>BOOTHVILLE ASOS, LA US</td>\n",
       "      <td>29.333</td>\n",
       "      <td>-89.4075</td>\n",
       "    </tr>\n",
       "  </tbody>\n",
       "</table>\n",
       "</div>"
      ],
      "text/plain": [
       "  DataType        Date         Station id  Value            Station name  \\\n",
       "0     WSF5  2005-08-24  GHCND:USW00012884   17.0  BOOTHVILLE ASOS, LA US   \n",
       "1     WSF5  2005-08-25  GHCND:USW00012884   19.9  BOOTHVILLE ASOS, LA US   \n",
       "2     WSF5  2005-08-26  GHCND:USW00012884   21.0  BOOTHVILLE ASOS, LA US   \n",
       "3     WSF5  2005-08-27  GHCND:USW00012884   23.0  BOOTHVILLE ASOS, LA US   \n",
       "\n",
       "   Latitude  Longitude  \n",
       "0    29.333   -89.4075  \n",
       "1    29.333   -89.4075  \n",
       "2    29.333   -89.4075  \n",
       "3    29.333   -89.4075  "
      ]
     },
     "execution_count": 18,
     "metadata": {},
     "output_type": "execute_result"
    }
   ],
   "source": [
    "# Let's create fastest 5 second windspeed dataframe\n",
    "df_WSF5_unsorted = df_NOLAWeather.loc[(df_NOLAWeather[\"DataType\"]==\"WSF5\"),:]\n",
    "# Let's sort the dataframe by Date\n",
    "df_WSF5 = df_WSF5_unsorted.sort_values(by=\"Date\",ascending=True)\n",
    "# Let's reset index in the new dataframe\n",
    "df_WSF5.reset_index(drop = True, inplace=True)\n",
    "# Save the dataframe to the output file\n",
    "df_WSF5.to_csv(\"Output_Data/Katrina_5secWindSpeed.csv\", index=False, encoding=\"utf-8\")\n",
    "print('\\033[94m'+'\\033[1m'+\"The shape of the daily wind speed dataframe is:{}\".format(df_WSF5.shape)+'\\033[0m')\n",
    "df_WSF5.head()"
   ]
  },
  {
   "cell_type": "markdown",
   "metadata": {},
   "source": [
    "### Fastest 1 minute windspeed near Plaquemines parish when hurricane Katrina made landfall"
   ]
  },
  {
   "cell_type": "code",
   "execution_count": 19,
   "metadata": {},
   "outputs": [
    {
     "name": "stdout",
     "output_type": "stream",
     "text": [
      "\u001b[94m\u001b[1mThe shape of the daily wind speed dataframe is:(4, 7)\u001b[0m\n"
     ]
    },
    {
     "data": {
      "text/html": [
       "<div>\n",
       "<style scoped>\n",
       "    .dataframe tbody tr th:only-of-type {\n",
       "        vertical-align: middle;\n",
       "    }\n",
       "\n",
       "    .dataframe tbody tr th {\n",
       "        vertical-align: top;\n",
       "    }\n",
       "\n",
       "    .dataframe thead th {\n",
       "        text-align: right;\n",
       "    }\n",
       "</style>\n",
       "<table border=\"1\" class=\"dataframe\">\n",
       "  <thead>\n",
       "    <tr style=\"text-align: right;\">\n",
       "      <th></th>\n",
       "      <th>DataType</th>\n",
       "      <th>Date</th>\n",
       "      <th>Station id</th>\n",
       "      <th>Value</th>\n",
       "      <th>Station name</th>\n",
       "      <th>Latitude</th>\n",
       "      <th>Longitude</th>\n",
       "    </tr>\n",
       "  </thead>\n",
       "  <tbody>\n",
       "    <tr>\n",
       "      <th>0</th>\n",
       "      <td>WSF2</td>\n",
       "      <td>2005-08-24</td>\n",
       "      <td>GHCND:USW00012884</td>\n",
       "      <td>14.1</td>\n",
       "      <td>BOOTHVILLE ASOS, LA US</td>\n",
       "      <td>29.333</td>\n",
       "      <td>-89.4075</td>\n",
       "    </tr>\n",
       "    <tr>\n",
       "      <th>1</th>\n",
       "      <td>WSF2</td>\n",
       "      <td>2005-08-25</td>\n",
       "      <td>GHCND:USW00012884</td>\n",
       "      <td>16.1</td>\n",
       "      <td>BOOTHVILLE ASOS, LA US</td>\n",
       "      <td>29.333</td>\n",
       "      <td>-89.4075</td>\n",
       "    </tr>\n",
       "    <tr>\n",
       "      <th>2</th>\n",
       "      <td>WSF2</td>\n",
       "      <td>2005-08-26</td>\n",
       "      <td>GHCND:USW00012884</td>\n",
       "      <td>15.0</td>\n",
       "      <td>BOOTHVILLE ASOS, LA US</td>\n",
       "      <td>29.333</td>\n",
       "      <td>-89.4075</td>\n",
       "    </tr>\n",
       "    <tr>\n",
       "      <th>3</th>\n",
       "      <td>WSF2</td>\n",
       "      <td>2005-08-27</td>\n",
       "      <td>GHCND:USW00012884</td>\n",
       "      <td>17.0</td>\n",
       "      <td>BOOTHVILLE ASOS, LA US</td>\n",
       "      <td>29.333</td>\n",
       "      <td>-89.4075</td>\n",
       "    </tr>\n",
       "  </tbody>\n",
       "</table>\n",
       "</div>"
      ],
      "text/plain": [
       "  DataType        Date         Station id  Value            Station name  \\\n",
       "0     WSF2  2005-08-24  GHCND:USW00012884   14.1  BOOTHVILLE ASOS, LA US   \n",
       "1     WSF2  2005-08-25  GHCND:USW00012884   16.1  BOOTHVILLE ASOS, LA US   \n",
       "2     WSF2  2005-08-26  GHCND:USW00012884   15.0  BOOTHVILLE ASOS, LA US   \n",
       "3     WSF2  2005-08-27  GHCND:USW00012884   17.0  BOOTHVILLE ASOS, LA US   \n",
       "\n",
       "   Latitude  Longitude  \n",
       "0    29.333   -89.4075  \n",
       "1    29.333   -89.4075  \n",
       "2    29.333   -89.4075  \n",
       "3    29.333   -89.4075  "
      ]
     },
     "execution_count": 19,
     "metadata": {},
     "output_type": "execute_result"
    }
   ],
   "source": [
    "# Let's create fastest 1 minute windspeed dataframe\n",
    "df_WSF2_unsorted = df_NOLAWeather.loc[(df_NOLAWeather[\"DataType\"]==\"WSF2\"),:]\n",
    "# Let's sort the dataframe by Date\n",
    "df_WSF2 = df_WSF2_unsorted.sort_values(by=\"Date\",ascending=True)\n",
    "# Let's reset index in the new dataframe\n",
    "df_WSF2.reset_index(drop = True, inplace=True)\n",
    "# Save the dataframe to the output file\n",
    "df_WSF2.to_csv(\"Output_Data/Katrina_1minWindSpeed.csv\", index=False, encoding=\"utf-8\")\n",
    "print('\\033[94m'+'\\033[1m'+\"The shape of the daily wind speed dataframe is:{}\".format(df_WSF2.shape)+'\\033[0m')\n",
    "df_WSF2.head()"
   ]
  },
  {
   "cell_type": "code",
   "execution_count": 20,
   "metadata": {},
   "outputs": [
    {
     "data": {
      "image/png": "[encoded data removed]",
      "text/plain": [
       "<Figure size 864x576 with 1 Axes>"
      ]
     },
     "metadata": {},
     "output_type": "display_data"
    }
   ],
   "source": [
    "import matplotlib.pyplot as plt\n",
    "import numpy as np\n",
    "import seaborn as sns\n",
    "# Set the style for seaborn plot\n",
    "sns.set_style(\"darkgrid\")\n",
    "# Create a font library\n",
    "titlefont = {\"fontname\":\"Times New Roman\"}\n",
    "labelfont = {\"fontname\":\"Arial\"}\n",
    "# Set font scale and reduce grid line width\n",
    "sns.set_context(\"poster\",font_scale=1.4,rc={\"grid.linewidth\":2})\n",
    "# Define the figure size\n",
    "fig = plt.figure(figsize=(12,8))\n",
    "# Define x_data & y_data\n",
    "x_data = df_prcp_max[\"Date\"]\n",
    "y_data = df_prcp_max[\"Value\"]\n",
    "# Make a color map\n",
    "t = np.arange(len(y_data))\n",
    "# Define x_axis for the plot\n",
    "x_axis = np.arange(12)\n",
    "# Define tick locations and place the x_ticks\n",
    "tick_locations = [value for value in x_axis]\n",
    "# Create the tick labels (unique days)\n",
    "x_labels = df_prcp[\"Date\"].unique().tolist()\n",
    "plt.xticks(tick_locations,x_labels,rotation=90,fontsize=14,color=\"black\",**labelfont)\n",
    "# Set the x limits of the current chart\n",
    "plt.xlim(0, len(x_axis)-1)\n",
    "# Set y ticks and y limits of the current chart\n",
    "plt.yticks(fontsize=14, color = \"black\", **labelfont)\n",
    "# Creating padding around the y limits\n",
    "y_pad = abs(0.2*y_data.mean()) # 20% of mean y value\n",
    "# Sets the y limits of the current chart\n",
    "plt.ylim(-0.1,y_data.max()+y_pad )\n",
    "# Plotting the data\n",
    "plt.plot(x_data,y_data,color=\"black\",linewidth = 2)\n",
    "plt.fill_between(x_data,y_data,color = \"blue\", alpha = 0.4)\n",
    "# Creating a vertical line denoting the landfall date\n",
    "plt.vlines(\"2005-08-29\",(y_data.min()-y_pad),(y_data.max()+y_pad),color=\"red\",alpha=0.7,linewidth=4,linestyle=\"dashed\")\n",
    "# Display x & y-axis labels and a title for the lineplot\n",
    "plt.title(\"Max. Precipitation during Katrina landfall (LA)\",fontsize=28,color=\"black\",**titlefont)\n",
    "plt.xlabel(\"Date\",fontsize = 18,color=\"black\",**labelfont)\n",
    "plt.ylabel(\"Precipitation (inches)\",fontsize = 18,color=\"black\",**labelfont)\n",
    "plt.tight_layout()\n",
    "# Save the figure\n",
    "plt.savefig(\"Output_Data/Max_Katrina_Precipitation.png\")\n",
    "# Display the plot\n",
    "plt.show()"
   ]
  },
  {
   "cell_type": "markdown",
   "metadata": {},
   "source": [
    "## Let's create total precipitation dataframe"
   ]
  },
  {
   "cell_type": "code",
   "execution_count": 21,
   "metadata": {},
   "outputs": [
    {
     "name": "stdout",
     "output_type": "stream",
     "text": [
      "\u001b[94m\u001b[1mThe shape of total precipitation dataframe is:(12, 2)\u001b[0m\n"
     ]
    },
    {
     "data": {
      "text/html": [
       "<div>\n",
       "<style scoped>\n",
       "    .dataframe tbody tr th:only-of-type {\n",
       "        vertical-align: middle;\n",
       "    }\n",
       "\n",
       "    .dataframe tbody tr th {\n",
       "        vertical-align: top;\n",
       "    }\n",
       "\n",
       "    .dataframe thead th {\n",
       "        text-align: right;\n",
       "    }\n",
       "</style>\n",
       "<table border=\"1\" class=\"dataframe\">\n",
       "  <thead>\n",
       "    <tr style=\"text-align: right;\">\n",
       "      <th></th>\n",
       "      <th>Date</th>\n",
       "      <th>Value</th>\n",
       "    </tr>\n",
       "  </thead>\n",
       "  <tbody>\n",
       "    <tr>\n",
       "      <th>0</th>\n",
       "      <td>2005-08-24</td>\n",
       "      <td>0.10</td>\n",
       "    </tr>\n",
       "    <tr>\n",
       "      <th>1</th>\n",
       "      <td>2005-08-25</td>\n",
       "      <td>1.83</td>\n",
       "    </tr>\n",
       "    <tr>\n",
       "      <th>2</th>\n",
       "      <td>2005-08-26</td>\n",
       "      <td>0.12</td>\n",
       "    </tr>\n",
       "    <tr>\n",
       "      <th>3</th>\n",
       "      <td>2005-08-27</td>\n",
       "      <td>0.49</td>\n",
       "    </tr>\n",
       "    <tr>\n",
       "      <th>4</th>\n",
       "      <td>2005-08-28</td>\n",
       "      <td>0.00</td>\n",
       "    </tr>\n",
       "  </tbody>\n",
       "</table>\n",
       "</div>"
      ],
      "text/plain": [
       "         Date  Value\n",
       "0  2005-08-24   0.10\n",
       "1  2005-08-25   1.83\n",
       "2  2005-08-26   0.12\n",
       "3  2005-08-27   0.49\n",
       "4  2005-08-28   0.00"
      ]
     },
     "execution_count": 21,
     "metadata": {},
     "output_type": "execute_result"
    }
   ],
   "source": [
    "# Let's groupby value column by date and count the maximum ocurrences\n",
    "grouped_count = df_prcp[\"Value\"].groupby(df_prcp[\"Date\"]) # Create a GroupBy object\n",
    "# Let's create a dataframe with maximum precipitation per day\n",
    "df_prcp_sum_unsorted = grouped_count.sum().to_frame(\"Value\")\n",
    "# Let's sort the dataframe by date\n",
    "df_prcp_sum = df_prcp_sum_unsorted.sort_values(by=\"Date\",ascending=True)\n",
    "# Let's reset index in the new dataframe\n",
    "df_prcp_sum.reset_index(inplace=True)\n",
    "# Save the dataframe to the output file\n",
    "df_prcp_sum.to_csv(\"Output_Data/Katrina_Prcp_total.csv\", index=False, encoding=\"utf-8\")\n",
    "# Display the dataframe\n",
    "print('\\033[94m'+'\\033[1m'+\"The shape of total precipitation dataframe is:{}\".format(df_prcp_sum.shape)+'\\033[0m')\n",
    "df_prcp_sum.head()"
   ]
  },
  {
   "cell_type": "code",
   "execution_count": 22,
   "metadata": {},
   "outputs": [
    {
     "data": {
      "image/png": "[encoded data removed]",
      "text/plain": [
       "<Figure size 864x576 with 1 Axes>"
      ]
     },
     "metadata": {},
     "output_type": "display_data"
    }
   ],
   "source": [
    "import matplotlib.pyplot as plt\n",
    "import numpy as np\n",
    "import seaborn as sns\n",
    "# Set the style for seaborn plot\n",
    "sns.set_style(\"darkgrid\")\n",
    "# Create a font library\n",
    "titlefont = {\"fontname\":\"Times New Roman\"}\n",
    "labelfont = {\"fontname\":\"Arial\"}\n",
    "# Set font scale and reduce grid line width\n",
    "sns.set_context(\"poster\",font_scale=1.4,rc={\"grid.linewidth\":2})\n",
    "# Define the figure size\n",
    "fig = plt.figure(figsize=(12,8))\n",
    "# Define x_data & y_data\n",
    "x_data = df_prcp_sum[\"Date\"]\n",
    "y_data = df_prcp_sum[\"Value\"]\n",
    "# Make a color map\n",
    "t = np.arange(len(y_data))\n",
    "# Define x_axis for the plot\n",
    "x_axis = np.arange(12)\n",
    "# Define tick locations and place the x_ticks\n",
    "tick_locations = [value for value in x_axis]\n",
    "# Create the tick labels (unique days)\n",
    "x_labels = df_prcp[\"Date\"].unique().tolist()\n",
    "plt.xticks(tick_locations,x_labels,rotation=90,fontsize=14,color=\"black\",**labelfont)\n",
    "# Set the x limits of the current chart\n",
    "plt.xlim(0, len(x_axis)-1)\n",
    "# Set y ticks and y limits of the current chart\n",
    "plt.yticks(fontsize=14, color = \"black\", **labelfont)\n",
    "# Creating padding around the y limits\n",
    "y_pad = abs(0.2*y_data.mean()) # 20% of mean y value\n",
    "# Sets the y limits of the current chart\n",
    "plt.ylim(-0.1,y_data.max()+y_pad )\n",
    "# Plotting the data\n",
    "plt.plot(x_data,y_data,color=\"black\",linewidth = 2)\n",
    "plt.fill_between(x_data,y_data,color = \"blue\", alpha = 0.4)\n",
    "# Creating a vertical line denoting the landfall date\n",
    "plt.vlines(\"2005-08-29\",(y_data.min()-y_pad),(y_data.max()+y_pad),color=\"red\",alpha=0.7,linewidth=4,linestyle=\"dashed\")\n",
    "# Display x & y-axis labels and a title for the lineplot\n",
    "plt.title(\"Total Precipitation during Katrina landfall (LA)\",fontsize=28,color=\"black\",**titlefont)\n",
    "plt.xlabel(\"Date\",fontsize = 18,color=\"black\",**labelfont)\n",
    "plt.ylabel(\"Total Precipitation (inches)\",fontsize = 18,color=\"black\",**labelfont)\n",
    "plt.tight_layout()\n",
    "# Save the figure\n",
    "plt.savefig(\"Output_Data/Total_Katrina_Precipitation.png\")\n",
    "# Display the plot\n",
    "plt.show()"
   ]
  },
  {
   "cell_type": "markdown",
   "metadata": {},
   "source": [
    "## Let's create merged dataframe with minimum and maximum temperatures"
   ]
  },
  {
   "cell_type": "code",
   "execution_count": 23,
   "metadata": {},
   "outputs": [
    {
     "name": "stdout",
     "output_type": "stream",
     "text": [
      "\u001b[94m\u001b[1mThe shape of the min-max temperature dataframe is:(12, 3)\u001b[0m\n"
     ]
    },
    {
     "data": {
      "text/html": [
       "<div>\n",
       "<style scoped>\n",
       "    .dataframe tbody tr th:only-of-type {\n",
       "        vertical-align: middle;\n",
       "    }\n",
       "\n",
       "    .dataframe tbody tr th {\n",
       "        vertical-align: top;\n",
       "    }\n",
       "\n",
       "    .dataframe thead th {\n",
       "        text-align: right;\n",
       "    }\n",
       "</style>\n",
       "<table border=\"1\" class=\"dataframe\">\n",
       "  <thead>\n",
       "    <tr style=\"text-align: right;\">\n",
       "      <th></th>\n",
       "      <th>Date</th>\n",
       "      <th>MaxTemp</th>\n",
       "      <th>MinTemp</th>\n",
       "    </tr>\n",
       "  </thead>\n",
       "  <tbody>\n",
       "    <tr>\n",
       "      <th>0</th>\n",
       "      <td>2005-08-24</td>\n",
       "      <td>95.0</td>\n",
       "      <td>72.0</td>\n",
       "    </tr>\n",
       "    <tr>\n",
       "      <th>1</th>\n",
       "      <td>2005-08-25</td>\n",
       "      <td>94.0</td>\n",
       "      <td>75.0</td>\n",
       "    </tr>\n",
       "    <tr>\n",
       "      <th>2</th>\n",
       "      <td>2005-08-26</td>\n",
       "      <td>92.0</td>\n",
       "      <td>76.0</td>\n",
       "    </tr>\n",
       "    <tr>\n",
       "      <th>3</th>\n",
       "      <td>2005-08-27</td>\n",
       "      <td>94.0</td>\n",
       "      <td>75.0</td>\n",
       "    </tr>\n",
       "    <tr>\n",
       "      <th>4</th>\n",
       "      <td>2005-08-28</td>\n",
       "      <td>94.0</td>\n",
       "      <td>75.0</td>\n",
       "    </tr>\n",
       "  </tbody>\n",
       "</table>\n",
       "</div>"
      ],
      "text/plain": [
       "         Date  MaxTemp  MinTemp\n",
       "0  2005-08-24     95.0     72.0\n",
       "1  2005-08-25     94.0     75.0\n",
       "2  2005-08-26     92.0     76.0\n",
       "3  2005-08-27     94.0     75.0\n",
       "4  2005-08-28     94.0     75.0"
      ]
     },
     "execution_count": 23,
     "metadata": {},
     "output_type": "execute_result"
    }
   ],
   "source": [
    "# A copy of the minimum temperature dataframe with relevant colummns\n",
    "df_min = df_MinTemp[[\"Date\",\"Value\"]]\n",
    "# Let's groupby value column by date and count the minimum ocurrences\n",
    "grouped_count = df_min[\"Value\"].groupby(df_min[\"Date\"]) # Create a GroupBy object\n",
    "# Let's create a dataframe with minimum temperature per day\n",
    "df_min_unsorted = grouped_count.min().to_frame(\"MinTemp\")\n",
    "# Let's sort the dataframe by date\n",
    "df_min = df_min_unsorted.sort_values(by=\"Date\",ascending=True)\n",
    "# Let's reset index in the new dataframe\n",
    "df_min.reset_index(inplace=True)\n",
    "# A copy of the maximum temperature dataframe with relevant colummns\n",
    "df_max = df_MaxTemp[[\"Date\",\"Value\"]]\n",
    "# Let's groupby value column by date and count the maximum ocurrences\n",
    "grouped_count = df_max[\"Value\"].groupby(df_max[\"Date\"]) # Create a GroupBy object\n",
    "# Let's create a dataframe with minimum temperature per day\n",
    "df_max_unsorted = grouped_count.max().to_frame(\"MaxTemp\")\n",
    "# Let's sort the dataframe by date\n",
    "df_max = df_max_unsorted.sort_values(by=\"Date\",ascending=True)\n",
    "# Let's reset index in the new dataframe\n",
    "df_max.reset_index(inplace=True)\n",
    "# Combine the dataframes into a single dataframe\n",
    "df_MinMax = pd.merge(df_max, df_min, how=\"outer\", on=\"Date\")\n",
    "# Save the dataframe to the output file\n",
    "df_MinMax.to_csv(\"Output_Data/Katrina_MinMax_Temp.csv\", index=False, encoding=\"utf-8\")\n",
    "# Display the dataframe\n",
    "print('\\033[94m'+'\\033[1m'+\"The shape of the min-max temperature dataframe is:{}\".format(df_MinMax.shape)+'\\033[0m')\n",
    "df_MinMax.head() # Display the dataframe"
   ]
  },
  {
   "cell_type": "code",
   "execution_count": 27,
   "metadata": {},
   "outputs": [
    {
     "data": {
      "image/png": "[encoded data removed]",
      "text/plain": [
       "<Figure size 864x576 with 1 Axes>"
      ]
     },
     "metadata": {},
     "output_type": "display_data"
    }
   ],
   "source": [
    "import matplotlib.pyplot as plt\n",
    "import numpy as np\n",
    "import seaborn as sns\n",
    "# Set the style for seaborn plot\n",
    "sns.set_style(\"darkgrid\")\n",
    "# Create a font library\n",
    "titlefont = {\"fontname\":\"Times New Roman\"}\n",
    "labelfont = {\"fontname\":\"Arial\"}\n",
    "# Set font scale and reduce grid line width\n",
    "sns.set_context(\"poster\",font_scale=1.4,rc={\"grid.linewidth\":2})\n",
    "# Define the figure size\n",
    "fig = plt.figure(figsize=(12,8))\n",
    "# Define x_data & y_data\n",
    "x_data = df_MinMax[\"Date\"]\n",
    "y_max = df_MinMax[\"MaxTemp\"]\n",
    "y_min = df_MinMax[\"MinTemp\"]\n",
    "# Make a color map\n",
    "t = np.arange(12)\n",
    "# Define x_axis for the plot\n",
    "x_axis = np.arange(12)\n",
    "# Define tick locations and place the x_ticks\n",
    "tick_locations = [value for value in x_axis]\n",
    "# Create the tick labels (unique days)\n",
    "x_labels = df_prcp[\"Date\"].unique().tolist()\n",
    "plt.xticks(tick_locations,x_labels,rotation=90,fontsize=14,color=\"black\",**labelfont)\n",
    "# Set the x limits of the current chart\n",
    "plt.xlim(0, len(x_axis)-1)\n",
    "# Creating padding around the x and y limits\n",
    "y_pad = abs(0.05*y_min.mean()) # 12% of mean y value\n",
    "# Sets the y limits of the current chart\n",
    "plt.ylim(y_min.min()-y_pad,y_max.max()+y_pad )\n",
    "# Set y ticks and y limits of the current chart\n",
    "plt.yticks(fontsize=14, color = \"black\", **labelfont)\n",
    "# Plot Maximum Temperature data\n",
    "plt.plot(x_data,y_max,color=\"red\",linewidth = 2)\n",
    "# Plot Minimum Temperature data\n",
    "plt.plot(x_data,y_min,color=\"orange\",linewidth = 2)\n",
    "# Filling the area below the line plots\n",
    "plt.fill_between(x_data,y_max,color = \"red\", alpha = 0.5)\n",
    "plt.fill_between(x_data,y_min,color = \"yellow\", alpha = 0.5)\n",
    "# Creating a vertical line denoting the landfall date\n",
    "plt.vlines(\"2005-08-29\",(y_min.min()-y_pad),(y_max.max()+y_pad),color=\"blue\",alpha=0.7,linestyle=\"dashed\")\n",
    "plt.vlines(\"2005-08-30\",(y_min.min()-y_pad),(y_max.max()+y_pad),color=\"lightblue\",alpha=0.9,linestyle=\"dashed\")\n",
    "# Display x & y-axis labels and a title for the lineplot\n",
    "plt.title(\"Min. T_min & Max. T_max during Katrina landfall (LA)\",fontsize=26,color=\"black\",**titlefont)\n",
    "plt.xlabel(\"Date\",fontsize = 18,color=\"black\",**labelfont)\n",
    "plt.ylabel(\"Min. T_min & Max. T_max (F)\",fontsize = 18,color=\"black\",**labelfont)\n",
    "plt.tight_layout()\n",
    "# Save the figure\n",
    "plt.savefig(\"Output_Data/Katrina_MinMaxTemp.png\")\n",
    "# Display the plot\n",
    "plt.show()"
   ]
  },
  {
   "cell_type": "markdown",
   "metadata": {},
   "source": [
    "## Let's create merged dataframe with average minimum and maximum temperatures"
   ]
  },
  {
   "cell_type": "code",
   "execution_count": 25,
   "metadata": {},
   "outputs": [
    {
     "name": "stdout",
     "output_type": "stream",
     "text": [
      "\u001b[94m\u001b[1mThe shape of the average min-max temperature dataframe is:(12, 3)\u001b[0m\n"
     ]
    },
    {
     "data": {
      "text/html": [
       "<div>\n",
       "<style scoped>\n",
       "    .dataframe tbody tr th:only-of-type {\n",
       "        vertical-align: middle;\n",
       "    }\n",
       "\n",
       "    .dataframe tbody tr th {\n",
       "        vertical-align: top;\n",
       "    }\n",
       "\n",
       "    .dataframe thead th {\n",
       "        text-align: right;\n",
       "    }\n",
       "</style>\n",
       "<table border=\"1\" class=\"dataframe\">\n",
       "  <thead>\n",
       "    <tr style=\"text-align: right;\">\n",
       "      <th></th>\n",
       "      <th>Date</th>\n",
       "      <th>Max_Avg_Temp</th>\n",
       "      <th>Min_Avg_Temp</th>\n",
       "    </tr>\n",
       "  </thead>\n",
       "  <tbody>\n",
       "    <tr>\n",
       "      <th>0</th>\n",
       "      <td>2005-08-24</td>\n",
       "      <td>93.555556</td>\n",
       "      <td>75.777778</td>\n",
       "    </tr>\n",
       "    <tr>\n",
       "      <th>1</th>\n",
       "      <td>2005-08-25</td>\n",
       "      <td>92.333333</td>\n",
       "      <td>77.666667</td>\n",
       "    </tr>\n",
       "    <tr>\n",
       "      <th>2</th>\n",
       "      <td>2005-08-26</td>\n",
       "      <td>90.555556</td>\n",
       "      <td>78.111111</td>\n",
       "    </tr>\n",
       "    <tr>\n",
       "      <th>3</th>\n",
       "      <td>2005-08-27</td>\n",
       "      <td>92.000000</td>\n",
       "      <td>78.375000</td>\n",
       "    </tr>\n",
       "    <tr>\n",
       "      <th>4</th>\n",
       "      <td>2005-08-28</td>\n",
       "      <td>91.142857</td>\n",
       "      <td>78.142857</td>\n",
       "    </tr>\n",
       "  </tbody>\n",
       "</table>\n",
       "</div>"
      ],
      "text/plain": [
       "         Date  Max_Avg_Temp  Min_Avg_Temp\n",
       "0  2005-08-24     93.555556     75.777778\n",
       "1  2005-08-25     92.333333     77.666667\n",
       "2  2005-08-26     90.555556     78.111111\n",
       "3  2005-08-27     92.000000     78.375000\n",
       "4  2005-08-28     91.142857     78.142857"
      ]
     },
     "execution_count": 25,
     "metadata": {},
     "output_type": "execute_result"
    }
   ],
   "source": [
    "# A copy of the minimum temperature dataframe with relevant colummns\n",
    "df_min_avg = df_MinTemp[[\"Date\",\"Value\"]]\n",
    "# Let's groupby value column by date and count the minimum ocurrences\n",
    "grouped_count = df_min_avg[\"Value\"].groupby(df_min_avg[\"Date\"]) # Create a GroupBy object\n",
    "# Let's create a dataframe with minimum temperature per day\n",
    "df_min_unsorted = grouped_count.mean().to_frame(\"Min_Avg_Temp\")\n",
    "# Let's sort the dataframe by date\n",
    "df_min_avg = df_min_unsorted.sort_values(by=\"Date\",ascending=True)\n",
    "# Let's reset index in the new dataframe\n",
    "df_min_avg.reset_index(inplace=True)\n",
    "# A copy of the maximum temperature dataframe with relevant colummns\n",
    "df_max_avg = df_MaxTemp[[\"Date\",\"Value\"]]\n",
    "# Let's groupby value column by date and count the maximum ocurrences\n",
    "grouped_count = df_max_avg[\"Value\"].groupby(df_max_avg[\"Date\"]) # Create a GroupBy object\n",
    "# Let's create a dataframe with minimum temperature per day\n",
    "df_max_unsorted = grouped_count.mean().to_frame(\"Max_Avg_Temp\")\n",
    "# Let's sort the dataframe by date\n",
    "df_max_avg = df_max_unsorted.sort_values(by=\"Date\",ascending=True)\n",
    "# Let's reset index in the new dataframe\n",
    "df_max_avg.reset_index(inplace=True)\n",
    "# Combine the dataframes into a single dataframe\n",
    "df_MinMax_avg = pd.merge(df_max_avg, df_min_avg, how=\"outer\", on=\"Date\")\n",
    "# Save the dataframe to the output file\n",
    "df_MinMax_avg.to_csv(\"Output_Data/Katrina_AvgMinMax_Temp.csv\", index=False, encoding=\"utf-8\")\n",
    "# Display the dataframe\n",
    "print('\\033[94m'+'\\033[1m'+\"The shape of the average min-max temperature dataframe is:{}\".format(df_MinMax_avg.shape)+'\\033[0m')\n",
    "df_MinMax_avg.head() # Display the dataframe"
   ]
  },
  {
   "cell_type": "code",
   "execution_count": 26,
   "metadata": {},
   "outputs": [
    {
     "data": {
      "image/png": "[encoded data removed]",
      "text/plain": [
       "<Figure size 864x576 with 1 Axes>"
      ]
     },
     "metadata": {},
     "output_type": "display_data"
    }
   ],
   "source": [
    "import matplotlib.pyplot as plt\n",
    "import numpy as np\n",
    "import seaborn as sns\n",
    "# Set the style for seaborn plot\n",
    "sns.set_style(\"darkgrid\")\n",
    "# Create a font library\n",
    "titlefont = {\"fontname\":\"Times New Roman\"}\n",
    "labelfont = {\"fontname\":\"Arial\"}\n",
    "# Set font scale and reduce grid line width\n",
    "sns.set_context(\"poster\",font_scale=1.4,rc={\"grid.linewidth\":2})\n",
    "# Define the figure size\n",
    "fig = plt.figure(figsize=(12,8))\n",
    "# Define x_data & y_data\n",
    "x_data = df_MinMax_avg[\"Date\"]\n",
    "y_max = df_MinMax_avg[\"Max_Avg_Temp\"]\n",
    "y_min = df_MinMax_avg[\"Min_Avg_Temp\"]\n",
    "# Make a color map\n",
    "t = np.arange(12)\n",
    "# Define x_axis for the plot\n",
    "x_axis = np.arange(12)\n",
    "# Define tick locations and place the x_ticks\n",
    "tick_locations = [value for value in x_axis]\n",
    "# Create the tick labels (unique days)\n",
    "x_labels = df_prcp[\"Date\"].unique().tolist()\n",
    "plt.xticks(tick_locations,x_labels,rotation=90,fontsize=14,color=\"black\",**labelfont)\n",
    "# Set the x limits of the current chart\n",
    "plt.xlim(0, len(x_axis)-1)\n",
    "# Creating padding around the x and y limits\n",
    "y_pad = abs(0.05*y_min.mean()) # 12% of mean y value\n",
    "# Sets the y limits of the current chart\n",
    "plt.ylim(y_min.min()-y_pad,y_max.max()+y_pad )\n",
    "# Set y ticks and y limits of the current chart\n",
    "plt.yticks(fontsize=14, color = \"black\", **labelfont)\n",
    "# Plot Maximum Temperature data\n",
    "plt.plot(x_data,y_max,color=\"red\",linewidth = 2)\n",
    "# Plot Minimum Temperature data\n",
    "plt.plot(x_data,y_min,color=\"orange\",linewidth = 2)\n",
    "# Filling the area below the line plots\n",
    "plt.fill_between(x_data,y_max,color = \"red\", alpha = 0.5)\n",
    "plt.fill_between(x_data,y_min,color = \"yellow\", alpha = 0.5)\n",
    "# Creating a vertical line denoting the landfall date\n",
    "plt.vlines(\"2005-08-29\",(y_min.min()-y_pad),(y_max.max()+y_pad),color=\"blue\",alpha=0.7,linestyle=\"dashed\")\n",
    "plt.vlines(\"2005-08-30\",(y_min.min()-y_pad),(y_max.max()+y_pad),color=\"lightblue\",alpha=0.9,linestyle=\"dashed\")\n",
    "# Display x & y-axis labels and a title for the lineplot\n",
    "plt.title(\"Average T_max & T_min during Katrina landfall (LA)\",fontsize=26,color=\"black\",**titlefont)\n",
    "plt.xlabel(\"Date\",fontsize = 18,color=\"black\",**labelfont)\n",
    "plt.ylabel(\"Average T_max & T_min temperatures (F)\",fontsize = 18,color=\"black\",**labelfont)\n",
    "plt.tight_layout()\n",
    "# Save the figure\n",
    "plt.savefig(\"Output_Data/Katrina_MinMaxAvgTemp.png\")\n",
    "# Display the plot\n",
    "plt.show()"
   ]
  },
  {
   "cell_type": "code",
   "execution_count": null,
   "metadata": {},
   "outputs": [],
   "source": []
  }
 ],
 "metadata": {
  "anaconda-cloud": {},
  "kernel_info": {
   "name": "python3"
  },
  "kernelspec": {
   "display_name": "Python 3",
   "language": "python",
   "name": "python3"
  },
  "language_info": {
   "codemirror_mode": {
    "name": "ipython",
    "version": 3
   },
   "file_extension": ".py",
   "mimetype": "text/x-python",
   "name": "python",
   "nbconvert_exporter": "python",
   "pygments_lexer": "ipython3",
   "version": "3.7.6"
  },
  "latex_envs": {
   "LaTeX_envs_menu_present": true,
   "autoclose": false,
   "autocomplete": true,
   "bibliofile": "biblio.bib",
   "cite_by": "apalike",
   "current_citInitial": 1,
   "eqLabelWithNumbers": true,
   "eqNumInitial": 1,
   "hotkeys": {
    "equation": "Ctrl-E",
    "itemize": "Ctrl-I"
   },
   "labels_anchors": false,
   "latex_user_defs": false,
   "report_style_numbering": false,
   "user_envs_cfg": false
  },
  "nteract": {
   "version": "0.12.3"
  }
 },
 "nbformat": 4,
 "nbformat_minor": 2
}
