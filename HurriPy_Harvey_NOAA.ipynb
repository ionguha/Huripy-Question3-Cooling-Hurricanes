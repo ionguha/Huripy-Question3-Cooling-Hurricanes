{
 "cells": [
  {
   "cell_type": "markdown",
   "metadata": {},
   "source": [
    "![Hurricane Harvey](Images/Harvey_landfall_space.jpg)"
   ]
  },
  {
   "cell_type": "markdown",
   "metadata": {},
   "source": [
    "# Hurricane Harvey"
   ]
  },
  {
   "cell_type": "code",
   "execution_count": 1,
   "metadata": {
    "scrolled": true
   },
   "outputs": [
    {
     "name": "stdout",
     "output_type": "stream",
     "text": [
      "All necessary libraries installed\n"
     ]
    }
   ],
   "source": [
    "# Import the necessary libraries\n",
    "import matplotlib.pyplot as plt # Plotting library\n",
    "import pandas as pd\n",
    "import numpy as np\n",
    "import requests\n",
    "import datetime\n",
    "import sys\n",
    "# Import API key\n",
    "from api_keys import noaa_key\n",
    "print(\"All necessary libraries installed\")"
   ]
  },
  {
   "cell_type": "markdown",
   "metadata": {},
   "source": [
    "### Hurricane Harvey, Category 4 hurricane, first major hurricane to make landfall in US since Wilma in 2005\n",
    "**_Made landfall at San Jose island, Texas at peak intensity on August 26,2017 followed by second landfall Holiday Beach (Cat3).Turned into tropical storm and emerged from Gulf of Mexico with 5th and final landfall in Louisiana on August 29. 300,000 structures, 500,000 vehicles damaged or destroyed, 125billion dollar loss. Costliest tropical storm alongside Katrina._**"
   ]
  },
  {
   "cell_type": "markdown",
   "metadata": {},
   "source": [
    "## Location id:  Texas (\"FIPS:48\")"
   ]
  },
  {
   "cell_type": "markdown",
   "metadata": {},
   "source": [
    "### Dataset id: \"GHCND\" (name: \"Daily Summaries\")"
   ]
  },
  {
   "cell_type": "markdown",
   "metadata": {},
   "source": [
    "![Gulf of Mexico](Images/Harvey_twitter.jpg)"
   ]
  },
  {
   "cell_type": "markdown",
   "metadata": {},
   "source": [
    "## Let's see all the stations near Rockport where Harvey made landfall"
   ]
  },
  {
   "cell_type": "code",
   "execution_count": 2,
   "metadata": {},
   "outputs": [
    {
     "name": "stdout",
     "output_type": "stream",
     "text": [
      "\u001b[1mZipcode :ZIP:78374\u001b[0m\n",
      "Request status code: 200\n",
      "\u001b[1mZipcode :ZIP:78418\u001b[0m\n",
      "Request status code: 200\n",
      "\u001b[1mZipcode :ZIP:78415\u001b[0m\n",
      "Request status code: 200\n",
      "\u001b[1mZipcode :ZIP:78382\u001b[0m\n",
      "Request status code: 200\n",
      "\u001b[1mZipcode :ZIP:78336\u001b[0m\n",
      "Request status code: 200\n",
      "\u001b[1mZipcode :ZIP:78373\u001b[0m\n",
      "Request status code: 200\n"
     ]
    }
   ],
   "source": [
    "import json\n",
    "# Let's get fetch all the stations near Rockport, Texas\n",
    "# Rockport, TX (78382); Aransas Pass, TX (78336); Port Aransas, TX (78373)\n",
    "mytoken = noaa_key\n",
    "location_id = \"FIPS:48\"\n",
    "dataset_id = \"GHCND\"\n",
    "zipcodes = [\"ZIP:78374\",\"ZIP:78418\",\"ZIP:78415\",\"ZIP:78382\",\"ZIP:78336\",\"ZIP:78373\"]\n",
    "# Define base url to get weather summaries\n",
    "base_url = \"https://www.ncdc.noaa.gov/cdo-web/api/v2/stations?\"\n",
    "# Let's create a list to hold the responses from API call\n",
    "station_id = []\n",
    "station_name = []\n",
    "latitude = []\n",
    "longitude = []\n",
    "for zipcode in zipcodes:\n",
    "    # Create a query_url\n",
    "    query_url = base_url+\"datasetid=GHCND\"+\"&\"+\"locationid=\"+str(zipcode)+\"&\"+\"limit=100\"\n",
    "    # Create the request query\n",
    "    response = requests.get(query_url, headers = {\"token\":mytoken})\n",
    "    # Print the response url \n",
    "    print('\\033[1m'+\"Zipcode :{}\".format(zipcode)+'\\033[0m')\n",
    "    print(\"Request status code: \"+str(response.status_code))\n",
    "    response_json = response.json()\n",
    "    # Let's fill the dictionaries from the response file\n",
    "    for i in range(len(response_json[\"results\"])):\n",
    "        try:\n",
    "            station_id.append(response_json[\"results\"][i][\"id\"])\n",
    "            station_name.append(response_json[\"results\"][i][\"name\"])\n",
    "            latitude.append(response_json[\"results\"][i][\"latitude\"])\n",
    "            longitude.append(response_json[\"results\"][i][\"longitude\"])\n",
    "            # Handle exceptions for data not found in the response file\n",
    "        except(KeyError, ValueError):\n",
    "            # Print error message\n",
    "            print(\"Index {} : Data Not found ! Skipping..\".format(i))\n",
    "            pass"
   ]
  },
  {
   "cell_type": "markdown",
   "metadata": {},
   "source": [
    "## Creating a dataframe from the response"
   ]
  },
  {
   "cell_type": "code",
   "execution_count": 3,
   "metadata": {},
   "outputs": [
    {
     "name": "stdout",
     "output_type": "stream",
     "text": [
      "\u001b[1mThe shape of the df_RckPrtStations dataframe is: (40, 4)\u001b[0m\n"
     ]
    },
    {
     "data": {
      "text/html": [
       "<div>\n",
       "<style scoped>\n",
       "    .dataframe tbody tr th:only-of-type {\n",
       "        vertical-align: middle;\n",
       "    }\n",
       "\n",
       "    .dataframe tbody tr th {\n",
       "        vertical-align: top;\n",
       "    }\n",
       "\n",
       "    .dataframe thead th {\n",
       "        text-align: right;\n",
       "    }\n",
       "</style>\n",
       "<table border=\"1\" class=\"dataframe\">\n",
       "  <thead>\n",
       "    <tr style=\"text-align: right;\">\n",
       "      <th></th>\n",
       "      <th>Station id</th>\n",
       "      <th>Station name</th>\n",
       "      <th>Latitude</th>\n",
       "      <th>Longitude</th>\n",
       "    </tr>\n",
       "  </thead>\n",
       "  <tbody>\n",
       "    <tr>\n",
       "      <th>0</th>\n",
       "      <td>GHCND:US1TXSP0009</td>\n",
       "      <td>PORTLAND 1.2 NW, TX US</td>\n",
       "      <td>27.893114</td>\n",
       "      <td>-97.338318</td>\n",
       "    </tr>\n",
       "    <tr>\n",
       "      <th>1</th>\n",
       "      <td>GHCND:US1TXSP0017</td>\n",
       "      <td>PORTLAND 2.4 NE, TX US</td>\n",
       "      <td>27.902295</td>\n",
       "      <td>-97.298807</td>\n",
       "    </tr>\n",
       "    <tr>\n",
       "      <th>2</th>\n",
       "      <td>GHCND:US1TXSP0018</td>\n",
       "      <td>PORTLAND 1.3 NW, TX US</td>\n",
       "      <td>27.892892</td>\n",
       "      <td>-97.340161</td>\n",
       "    </tr>\n",
       "    <tr>\n",
       "      <th>3</th>\n",
       "      <td>GHCND:USC00417195</td>\n",
       "      <td>PORTLAND, TX US</td>\n",
       "      <td>27.892000</td>\n",
       "      <td>-97.339300</td>\n",
       "    </tr>\n",
       "    <tr>\n",
       "      <th>4</th>\n",
       "      <td>GHCND:US1TXNU0007</td>\n",
       "      <td>CORPUS CHRISTI 9.0 SSE, TX US</td>\n",
       "      <td>27.590507</td>\n",
       "      <td>-97.224739</td>\n",
       "    </tr>\n",
       "  </tbody>\n",
       "</table>\n",
       "</div>"
      ],
      "text/plain": [
       "          Station id                   Station name   Latitude  Longitude\n",
       "0  GHCND:US1TXSP0009         PORTLAND 1.2 NW, TX US  27.893114 -97.338318\n",
       "1  GHCND:US1TXSP0017         PORTLAND 2.4 NE, TX US  27.902295 -97.298807\n",
       "2  GHCND:US1TXSP0018         PORTLAND 1.3 NW, TX US  27.892892 -97.340161\n",
       "3  GHCND:USC00417195                PORTLAND, TX US  27.892000 -97.339300\n",
       "4  GHCND:US1TXNU0007  CORPUS CHRISTI 9.0 SSE, TX US  27.590507 -97.224739"
      ]
     },
     "execution_count": 3,
     "metadata": {},
     "output_type": "execute_result"
    }
   ],
   "source": [
    "# Let's create a DataFrame with the lists\n",
    "df_RckPrtStations = pd.DataFrame({\n",
    "    \"Station id\": station_id,\n",
    "    \"Station name\": station_name,\n",
    "    \"Latitude\": latitude,\n",
    "    \"Longitude\": longitude\n",
    "})\n",
    "print('\\033[1m'+\"The shape of the {} dataframe is: {}\" .format(\"df_RckPrtStations\",df_RckPrtStations.shape)+'\\033[0m')\n",
    "df_RckPrtStations.head() # Display the DataFrame"
   ]
  },
  {
   "cell_type": "code",
   "execution_count": 4,
   "metadata": {},
   "outputs": [],
   "source": [
    "# Let's create a list of stations \n",
    "LRckPrtStations = pd.Series(df_RckPrtStations[\"Station id\"])"
   ]
  },
  {
   "cell_type": "markdown",
   "metadata": {},
   "source": [
    "## Let's collect data from the selected stations close to the day Harvey made landfall"
   ]
  },
  {
   "cell_type": "markdown",
   "metadata": {},
   "source": [
    "### Collect response from the selected zipcodes "
   ]
  },
  {
   "cell_type": "code",
   "execution_count": 5,
   "metadata": {},
   "outputs": [
    {
     "name": "stdout",
     "output_type": "stream",
     "text": [
      "\u001b[1mZipcode :ZIP:78374\u001b[0m\n",
      "Request status code: 200\n",
      "\u001b[1mZipcode :ZIP:78418\u001b[0m\n",
      "Request status code: 200\n",
      "\u001b[1mZipcode :ZIP:78415\u001b[0m\n",
      "Request status code: 200\n",
      "\u001b[1mZipcode :ZIP:78382\u001b[0m\n",
      "Request status code: 200\n",
      "\u001b[1mZipcode :ZIP:78336\u001b[0m\n",
      "Request status code: 200\n",
      "\u001b[1mZipcode :ZIP:78373\u001b[0m\n",
      "Request status code: 200\n"
     ]
    }
   ],
   "source": [
    "import json\n",
    "# Let's get fetch data from all the stations near Rockport, Texas\n",
    "mytoken = noaa_key\n",
    "location_id = \"FIPS:48\"\n",
    "dataset_id = \"GHCND\"\n",
    "zipcodes = [\"ZIP:78374\",\"ZIP:78418\",\"ZIP:78415\",\"ZIP:78382\",\"ZIP:78336\",\"ZIP:78373\"]\n",
    "start_date = \"2017-08-20\"\n",
    "end_date = \"2017-08-31\"\n",
    "# Define base url to get weather summaries\n",
    "base_url = \"https://www.ncdc.noaa.gov/cdo-web/api/v2/data?\"\n",
    "# Let's create a list of dictionaries\n",
    "weather_data = []\n",
    "# Display the start of Data Retrieval\n",
    "#print(f\"****** Beginning Data Retrieval *********\")\n",
    "# Let's fill the dictionaries from the response file\n",
    "for zipcode in zipcodes:\n",
    "    # Create a query_url\n",
    "    query_url = base_url+\"datasetid=\"+str(dataset_id)+\"&\"+\"locationid=\"+str(zipcode)+\"&\"+\"startdate=\"+str(start_date)+\"&\"+\"enddate=\"+str(end_date)+\"&\"+\"limit=600\"+\"&\"+\"units=standard\"\n",
    "    # Create the request query\n",
    "    response = requests.get(query_url, headers = {\"token\":mytoken})\n",
    "    # Print the response url \n",
    "    print('\\033[1m'+\"Zipcode :{}\".format(zipcode)+'\\033[0m')\n",
    "    print(\"Request status code: \"+str(response.status_code))\n",
    "    response_json = response.json()\n",
    "    if len(response_json[\"results\"]) != 0:\n",
    "        for i in range(len(response_json[\"results\"])):\n",
    "            try:\n",
    "                datatype = response_json[\"results\"][i][\"datatype\"]\n",
    "                date = response_json[\"results\"][i][\"date\"]\n",
    "                station = response_json[\"results\"][i][\"station\"]\n",
    "                value = response_json[\"results\"][i][\"value\"]\n",
    "                weather_data.append({\"DataType\":datatype,\n",
    "                                    \"Date\":date,\n",
    "                                    \"Station id\":station,\n",
    "                                    \"Value\":value})\n",
    "            # Handle exceptions for data not found in the response file\n",
    "            except(KeyError, ValueError):\n",
    "            # Print error message\n",
    "                print(\"Index {} : Data Not found ! Skipping..\".format(i))\n",
    "            pass\n",
    "    else:\n",
    "        continue\n",
    "        \n",
    "#print(f\"****** Data Retrieval Complete **********\")"
   ]
  },
  {
   "cell_type": "markdown",
   "metadata": {},
   "source": [
    "### Creating a dataframe from the response"
   ]
  },
  {
   "cell_type": "code",
   "execution_count": 6,
   "metadata": {},
   "outputs": [
    {
     "name": "stdout",
     "output_type": "stream",
     "text": [
      "\u001b[1mThe shape of the df_weather dataframe is: (363, 4)\u001b[0m\n"
     ]
    },
    {
     "data": {
      "text/html": [
       "<div>\n",
       "<style scoped>\n",
       "    .dataframe tbody tr th:only-of-type {\n",
       "        vertical-align: middle;\n",
       "    }\n",
       "\n",
       "    .dataframe tbody tr th {\n",
       "        vertical-align: top;\n",
       "    }\n",
       "\n",
       "    .dataframe thead th {\n",
       "        text-align: right;\n",
       "    }\n",
       "</style>\n",
       "<table border=\"1\" class=\"dataframe\">\n",
       "  <thead>\n",
       "    <tr style=\"text-align: right;\">\n",
       "      <th></th>\n",
       "      <th>DataType</th>\n",
       "      <th>Date</th>\n",
       "      <th>Station id</th>\n",
       "      <th>Value</th>\n",
       "    </tr>\n",
       "  </thead>\n",
       "  <tbody>\n",
       "    <tr>\n",
       "      <th>0</th>\n",
       "      <td>PRCP</td>\n",
       "      <td>2017-08-20T00:00:00</td>\n",
       "      <td>GHCND:US1TXSP0018</td>\n",
       "      <td>0.00</td>\n",
       "    </tr>\n",
       "    <tr>\n",
       "      <th>1</th>\n",
       "      <td>SNOW</td>\n",
       "      <td>2017-08-20T00:00:00</td>\n",
       "      <td>GHCND:US1TXSP0018</td>\n",
       "      <td>0.00</td>\n",
       "    </tr>\n",
       "    <tr>\n",
       "      <th>2</th>\n",
       "      <td>PRCP</td>\n",
       "      <td>2017-08-21T00:00:00</td>\n",
       "      <td>GHCND:US1TXSP0018</td>\n",
       "      <td>0.00</td>\n",
       "    </tr>\n",
       "    <tr>\n",
       "      <th>3</th>\n",
       "      <td>SNOW</td>\n",
       "      <td>2017-08-21T00:00:00</td>\n",
       "      <td>GHCND:US1TXSP0018</td>\n",
       "      <td>0.00</td>\n",
       "    </tr>\n",
       "    <tr>\n",
       "      <th>4</th>\n",
       "      <td>PRCP</td>\n",
       "      <td>2017-08-22T00:00:00</td>\n",
       "      <td>GHCND:US1TXSP0018</td>\n",
       "      <td>0.02</td>\n",
       "    </tr>\n",
       "  </tbody>\n",
       "</table>\n",
       "</div>"
      ],
      "text/plain": [
       "  DataType                 Date         Station id  Value\n",
       "0     PRCP  2017-08-20T00:00:00  GHCND:US1TXSP0018   0.00\n",
       "1     SNOW  2017-08-20T00:00:00  GHCND:US1TXSP0018   0.00\n",
       "2     PRCP  2017-08-21T00:00:00  GHCND:US1TXSP0018   0.00\n",
       "3     SNOW  2017-08-21T00:00:00  GHCND:US1TXSP0018   0.00\n",
       "4     PRCP  2017-08-22T00:00:00  GHCND:US1TXSP0018   0.02"
      ]
     },
     "execution_count": 6,
     "metadata": {},
     "output_type": "execute_result"
    }
   ],
   "source": [
    "# Let's create a DataFrame with the lists\n",
    "df_weather = pd.DataFrame(weather_data)\n",
    "print('\\033[1m'+\"The shape of the {} dataframe is: {}\" .format(\"df_weather\",df_weather.shape)+'\\033[0m')\n",
    "df_weather.head() # Display the DataFrame"
   ]
  },
  {
   "cell_type": "code",
   "execution_count": 7,
   "metadata": {},
   "outputs": [],
   "source": [
    "# Let's create a list of stations \n",
    "LWeatherStations = pd.Series(df_weather[\"Station id\"])"
   ]
  },
  {
   "cell_type": "markdown",
   "metadata": {},
   "source": [
    "![Hurricane Harvey](Images/Harvey_Space_Station.jpg)"
   ]
  },
  {
   "cell_type": "markdown",
   "metadata": {},
   "source": [
    "### Any common stations between the  two lists ?"
   ]
  },
  {
   "cell_type": "code",
   "execution_count": 8,
   "metadata": {},
   "outputs": [
    {
     "name": "stdout",
     "output_type": "stream",
     "text": [
      "\u001b[1mAre there common stations between lists? True\u001b[0m\n"
     ]
    }
   ],
   "source": [
    "def common_member (x,y):\n",
    "    x_set = set(x)\n",
    "    y_set = set(y)\n",
    "    if len(x_set.intersection(y_set))>0:\n",
    "        return(True)\n",
    "    return(False)\n",
    "print('\\033[1m'+\"Are there common stations between lists? {}\" .format(common_member(LWeatherStations,LRckPrtStations))+'\\033[0m')"
   ]
  },
  {
   "cell_type": "code",
   "execution_count": 9,
   "metadata": {},
   "outputs": [
    {
     "name": "stdout",
     "output_type": "stream",
     "text": [
      "\u001b[1mNumber of stations without geo-cordinates: 0\u001b[0m\n",
      "\u001b[1mStations without geo-cordinates: set()\u001b[0m\n"
     ]
    }
   ],
   "source": [
    "x_set = set(LWeatherStations)\n",
    "y_set = set(LRckPrtStations)\n",
    "print('\\033[1m'+\"Number of stations without geo-cordinates: {}\" .format(len(x_set-y_set))+'\\033[0m')\n",
    "print('\\033[1m'+\"Stations without geo-cordinates: {}\" .format((x_set-y_set))+'\\033[0m')"
   ]
  },
  {
   "cell_type": "markdown",
   "metadata": {},
   "source": [
    "## Creating a combined dataframe with geo coordinates"
   ]
  },
  {
   "cell_type": "code",
   "execution_count": 10,
   "metadata": {},
   "outputs": [
    {
     "name": "stdout",
     "output_type": "stream",
     "text": [
      "\u001b[96m\u001b[1mThe shape of the df_RckPrtWeather dataframe is (363, 7):\u001b[0m\n"
     ]
    },
    {
     "data": {
      "text/html": [
       "<div>\n",
       "<style scoped>\n",
       "    .dataframe tbody tr th:only-of-type {\n",
       "        vertical-align: middle;\n",
       "    }\n",
       "\n",
       "    .dataframe tbody tr th {\n",
       "        vertical-align: top;\n",
       "    }\n",
       "\n",
       "    .dataframe thead th {\n",
       "        text-align: right;\n",
       "    }\n",
       "</style>\n",
       "<table border=\"1\" class=\"dataframe\">\n",
       "  <thead>\n",
       "    <tr style=\"text-align: right;\">\n",
       "      <th></th>\n",
       "      <th>DataType</th>\n",
       "      <th>Date</th>\n",
       "      <th>Station id</th>\n",
       "      <th>Value</th>\n",
       "      <th>Station name</th>\n",
       "      <th>Latitude</th>\n",
       "      <th>Longitude</th>\n",
       "    </tr>\n",
       "  </thead>\n",
       "  <tbody>\n",
       "    <tr>\n",
       "      <th>0</th>\n",
       "      <td>PRCP</td>\n",
       "      <td>2017-08-20</td>\n",
       "      <td>GHCND:US1TXSP0018</td>\n",
       "      <td>0.00</td>\n",
       "      <td>PORTLAND 1.3 NW, TX US</td>\n",
       "      <td>27.892892</td>\n",
       "      <td>-97.340161</td>\n",
       "    </tr>\n",
       "    <tr>\n",
       "      <th>1</th>\n",
       "      <td>SNOW</td>\n",
       "      <td>2017-08-20</td>\n",
       "      <td>GHCND:US1TXSP0018</td>\n",
       "      <td>0.00</td>\n",
       "      <td>PORTLAND 1.3 NW, TX US</td>\n",
       "      <td>27.892892</td>\n",
       "      <td>-97.340161</td>\n",
       "    </tr>\n",
       "    <tr>\n",
       "      <th>2</th>\n",
       "      <td>PRCP</td>\n",
       "      <td>2017-08-21</td>\n",
       "      <td>GHCND:US1TXSP0018</td>\n",
       "      <td>0.00</td>\n",
       "      <td>PORTLAND 1.3 NW, TX US</td>\n",
       "      <td>27.892892</td>\n",
       "      <td>-97.340161</td>\n",
       "    </tr>\n",
       "    <tr>\n",
       "      <th>3</th>\n",
       "      <td>SNOW</td>\n",
       "      <td>2017-08-21</td>\n",
       "      <td>GHCND:US1TXSP0018</td>\n",
       "      <td>0.00</td>\n",
       "      <td>PORTLAND 1.3 NW, TX US</td>\n",
       "      <td>27.892892</td>\n",
       "      <td>-97.340161</td>\n",
       "    </tr>\n",
       "    <tr>\n",
       "      <th>4</th>\n",
       "      <td>PRCP</td>\n",
       "      <td>2017-08-22</td>\n",
       "      <td>GHCND:US1TXSP0018</td>\n",
       "      <td>0.02</td>\n",
       "      <td>PORTLAND 1.3 NW, TX US</td>\n",
       "      <td>27.892892</td>\n",
       "      <td>-97.340161</td>\n",
       "    </tr>\n",
       "  </tbody>\n",
       "</table>\n",
       "</div>"
      ],
      "text/plain": [
       "  DataType        Date         Station id  Value            Station name  \\\n",
       "0     PRCP  2017-08-20  GHCND:US1TXSP0018   0.00  PORTLAND 1.3 NW, TX US   \n",
       "1     SNOW  2017-08-20  GHCND:US1TXSP0018   0.00  PORTLAND 1.3 NW, TX US   \n",
       "2     PRCP  2017-08-21  GHCND:US1TXSP0018   0.00  PORTLAND 1.3 NW, TX US   \n",
       "3     SNOW  2017-08-21  GHCND:US1TXSP0018   0.00  PORTLAND 1.3 NW, TX US   \n",
       "4     PRCP  2017-08-22  GHCND:US1TXSP0018   0.02  PORTLAND 1.3 NW, TX US   \n",
       "\n",
       "    Latitude  Longitude  \n",
       "0  27.892892 -97.340161  \n",
       "1  27.892892 -97.340161  \n",
       "2  27.892892 -97.340161  \n",
       "3  27.892892 -97.340161  \n",
       "4  27.892892 -97.340161  "
      ]
     },
     "execution_count": 10,
     "metadata": {},
     "output_type": "execute_result"
    }
   ],
   "source": [
    "# Combine the dataframes into a single dataframe\n",
    "df_RckPrtWeather = pd.merge(df_weather, df_RckPrtStations, how=\"inner\", on=\"Station id\")\n",
    "# Using list comprehensions to remove the time stamp from Date\n",
    "df_RckPrtWeather[\"Date\"] = [v[:-9] for v in df_RckPrtWeather[\"Date\"]]\n",
    "# Display the Dataframe\n",
    "print('\\033[96m'+'\\033[1m'+\"The shape of the {} dataframe is {}:\" .format(\"df_RckPrtWeather\",df_RckPrtWeather.shape)+'\\033[0m')\n",
    "df_RckPrtWeather.head()"
   ]
  },
  {
   "cell_type": "code",
   "execution_count": 11,
   "metadata": {},
   "outputs": [
    {
     "name": "stdout",
     "output_type": "stream",
     "text": [
      "['PRCP', 'SNOW', 'DAPR', 'MDPR', 'AWND', 'PGTM', 'TMAX', 'TMIN', 'WDF2', 'WDF5', 'WSF2', 'WSF5', 'SNWD', 'WT08', 'WT01', 'WT02', 'WT03', 'TOBS', 'WT11']\n"
     ]
    }
   ],
   "source": [
    "# Let's see the unique datatypes in the final DataFrame\n",
    "print(df_RckPrtWeather[\"DataType\"].unique().tolist())"
   ]
  },
  {
   "cell_type": "markdown",
   "metadata": {},
   "source": [
    "## Definition of the data types :\n",
    "* PRCP  : Precipitation (mm or inches)\n",
    "* SNOW  : Snowfall (mm or inches)\n",
    "* SNOWD : Snow depth (mm or inches)\n",
    "* AWND  : Average Daily Wind Speed (meters per sec or miles per hr)\n",
    "* TMAX  : Maximim Temperature (Fahrenheit or Celsius)\n",
    "* TMIN  : Minimum Temperature (Fahrenheit or Celsius)\n",
    "* WDF2  : Direction of fastest 2-min wind (degrees)\n",
    "* WDF5  : Direction of fastest 5-sec wind (degrees)\n",
    "* WSF2  : Fastest 1 min wind speed \n",
    "* WSF5  : Fastest 5 sec wind speed\n",
    "* WT08  : Smoke or Haze\n",
    "* WT01  : Fog, ice-fog or freezing fog\n",
    "* WT02  : Heavy fog or heavy freezing\n",
    "* WT03  : Ice pellets, sleet, snow pellets or small hail\n",
    "* PFTM  : Peak gust time (hours and minutes, HHMM)"
   ]
  },
  {
   "cell_type": "markdown",
   "metadata": {},
   "source": [
    "## Let's see how many data points are available for each weather types"
   ]
  },
  {
   "cell_type": "code",
   "execution_count": 12,
   "metadata": {},
   "outputs": [
    {
     "name": "stdout",
     "output_type": "stream",
     "text": [
      "\u001b[96m\u001b[1mThe shape of weather count dataframe is (19, 2):\u001b[0m\n"
     ]
    },
    {
     "data": {
      "text/html": [
       "<div>\n",
       "<style scoped>\n",
       "    .dataframe tbody tr th:only-of-type {\n",
       "        vertical-align: middle;\n",
       "    }\n",
       "\n",
       "    .dataframe tbody tr th {\n",
       "        vertical-align: top;\n",
       "    }\n",
       "\n",
       "    .dataframe thead th {\n",
       "        text-align: right;\n",
       "    }\n",
       "</style>\n",
       "<table border=\"1\" class=\"dataframe\">\n",
       "  <thead>\n",
       "    <tr style=\"text-align: right;\">\n",
       "      <th></th>\n",
       "      <th>DataType</th>\n",
       "      <th>Count</th>\n",
       "    </tr>\n",
       "  </thead>\n",
       "  <tbody>\n",
       "    <tr>\n",
       "      <th>0</th>\n",
       "      <td>PRCP</td>\n",
       "      <td>98</td>\n",
       "    </tr>\n",
       "    <tr>\n",
       "      <th>1</th>\n",
       "      <td>SNOW</td>\n",
       "      <td>50</td>\n",
       "    </tr>\n",
       "    <tr>\n",
       "      <th>2</th>\n",
       "      <td>TMIN</td>\n",
       "      <td>34</td>\n",
       "    </tr>\n",
       "    <tr>\n",
       "      <th>3</th>\n",
       "      <td>TMAX</td>\n",
       "      <td>33</td>\n",
       "    </tr>\n",
       "    <tr>\n",
       "      <th>4</th>\n",
       "      <td>WSF2</td>\n",
       "      <td>22</td>\n",
       "    </tr>\n",
       "  </tbody>\n",
       "</table>\n",
       "</div>"
      ],
      "text/plain": [
       "  DataType  Count\n",
       "0     PRCP     98\n",
       "1     SNOW     50\n",
       "2     TMIN     34\n",
       "3     TMAX     33\n",
       "4     WSF2     22"
      ]
     },
     "execution_count": 12,
     "metadata": {},
     "output_type": "execute_result"
    }
   ],
   "source": [
    "# Let's groupby data-type column in the dataframe and count the ocurrences\n",
    "grouped_count = df_RckPrtWeather[\"DataType\"].groupby(df_RckPrtWeather[\"DataType\"]) # Create a GroupBy object\n",
    "# Let's create a dataframe with the number of data points for each weather data type\n",
    "weather_count_unsorted = grouped_count.count().to_frame(\"Count\")\n",
    "# Let's sort the dataframe by number of count\n",
    "weather_count = weather_count_unsorted.sort_values(by=\"Count\",ascending=False)\n",
    "# Let's reset index in the new dataframe\n",
    "weather_count.reset_index(inplace=True)\n",
    "# Display the Dataframe\n",
    "print('\\033[96m'+'\\033[1m'+\"The shape of weather count dataframe is {}:\" .format(weather_count.shape)+'\\033[0m')\n",
    "weather_count.head()"
   ]
  },
  {
   "cell_type": "markdown",
   "metadata": {},
   "source": [
    "## Precipitation in Rockport when hurricane Harvey made landfall"
   ]
  },
  {
   "cell_type": "code",
   "execution_count": 13,
   "metadata": {},
   "outputs": [
    {
     "name": "stdout",
     "output_type": "stream",
     "text": [
      "\u001b[94m\u001b[1mThe shape of the precipitation dataframe is:(98, 7)\u001b[0m\n"
     ]
    },
    {
     "data": {
      "text/html": [
       "<div>\n",
       "<style scoped>\n",
       "    .dataframe tbody tr th:only-of-type {\n",
       "        vertical-align: middle;\n",
       "    }\n",
       "\n",
       "    .dataframe tbody tr th {\n",
       "        vertical-align: top;\n",
       "    }\n",
       "\n",
       "    .dataframe thead th {\n",
       "        text-align: right;\n",
       "    }\n",
       "</style>\n",
       "<table border=\"1\" class=\"dataframe\">\n",
       "  <thead>\n",
       "    <tr style=\"text-align: right;\">\n",
       "      <th></th>\n",
       "      <th>DataType</th>\n",
       "      <th>Date</th>\n",
       "      <th>Station id</th>\n",
       "      <th>Value</th>\n",
       "      <th>Station name</th>\n",
       "      <th>Latitude</th>\n",
       "      <th>Longitude</th>\n",
       "    </tr>\n",
       "  </thead>\n",
       "  <tbody>\n",
       "    <tr>\n",
       "      <th>0</th>\n",
       "      <td>PRCP</td>\n",
       "      <td>2017-08-20</td>\n",
       "      <td>GHCND:US1TXSP0018</td>\n",
       "      <td>0.0</td>\n",
       "      <td>PORTLAND 1.3 NW, TX US</td>\n",
       "      <td>27.892892</td>\n",
       "      <td>-97.340161</td>\n",
       "    </tr>\n",
       "    <tr>\n",
       "      <th>1</th>\n",
       "      <td>PRCP</td>\n",
       "      <td>2017-08-20</td>\n",
       "      <td>GHCND:US1TXNU0010</td>\n",
       "      <td>0.0</td>\n",
       "      <td>FLOUR BLUFF 1.6 SW, TX US</td>\n",
       "      <td>27.661316</td>\n",
       "      <td>-97.303112</td>\n",
       "    </tr>\n",
       "    <tr>\n",
       "      <th>2</th>\n",
       "      <td>PRCP</td>\n",
       "      <td>2017-08-20</td>\n",
       "      <td>GHCND:USW00012926</td>\n",
       "      <td>0.0</td>\n",
       "      <td>CORPUS CHRISTI NAS, TX US</td>\n",
       "      <td>27.683330</td>\n",
       "      <td>-97.283330</td>\n",
       "    </tr>\n",
       "    <tr>\n",
       "      <th>3</th>\n",
       "      <td>PRCP</td>\n",
       "      <td>2017-08-20</td>\n",
       "      <td>GHCND:USC00417176</td>\n",
       "      <td>0.0</td>\n",
       "      <td>PORT ARANSAS 11 SSW, TX US</td>\n",
       "      <td>27.699800</td>\n",
       "      <td>-97.158000</td>\n",
       "    </tr>\n",
       "    <tr>\n",
       "      <th>4</th>\n",
       "      <td>PRCP</td>\n",
       "      <td>2017-08-20</td>\n",
       "      <td>GHCND:USW00012972</td>\n",
       "      <td>0.0</td>\n",
       "      <td>ROCKPORT ARANSAS CO AIRPORT, TX US</td>\n",
       "      <td>28.083610</td>\n",
       "      <td>-97.046390</td>\n",
       "    </tr>\n",
       "  </tbody>\n",
       "</table>\n",
       "</div>"
      ],
      "text/plain": [
       "  DataType        Date         Station id  Value  \\\n",
       "0     PRCP  2017-08-20  GHCND:US1TXSP0018    0.0   \n",
       "1     PRCP  2017-08-20  GHCND:US1TXNU0010    0.0   \n",
       "2     PRCP  2017-08-20  GHCND:USW00012926    0.0   \n",
       "3     PRCP  2017-08-20  GHCND:USC00417176    0.0   \n",
       "4     PRCP  2017-08-20  GHCND:USW00012972    0.0   \n",
       "\n",
       "                         Station name   Latitude  Longitude  \n",
       "0              PORTLAND 1.3 NW, TX US  27.892892 -97.340161  \n",
       "1           FLOUR BLUFF 1.6 SW, TX US  27.661316 -97.303112  \n",
       "2           CORPUS CHRISTI NAS, TX US  27.683330 -97.283330  \n",
       "3          PORT ARANSAS 11 SSW, TX US  27.699800 -97.158000  \n",
       "4  ROCKPORT ARANSAS CO AIRPORT, TX US  28.083610 -97.046390  "
      ]
     },
     "execution_count": 13,
     "metadata": {},
     "output_type": "execute_result"
    }
   ],
   "source": [
    "# Let's create a precipitation dataframe\n",
    "df_prcp_unsorted = df_RckPrtWeather.loc[(df_RckPrtWeather[\"DataType\"]==\"PRCP\"),:]\n",
    "# Let's sort the dataframe by Date\n",
    "df_prcp = df_prcp_unsorted.sort_values(by=\"Date\",ascending=True)\n",
    "# Let's reset index in the new dataframe\n",
    "df_prcp.reset_index(drop = True, inplace=True)\n",
    "# Save the dataframe to the output file\n",
    "df_prcp.to_csv(\"Output_Data/Harvey_Prcp.csv\", index=False, encoding=\"utf-8\")\n",
    "# Display the dataframe\n",
    "print('\\033[94m'+'\\033[1m'+\"The shape of the precipitation dataframe is:{}\".format(df_prcp.shape)+'\\033[0m')\n",
    "df_prcp.head()"
   ]
  },
  {
   "cell_type": "markdown",
   "metadata": {},
   "source": [
    "## Let's create maximum precipitation dataframe"
   ]
  },
  {
   "cell_type": "code",
   "execution_count": 14,
   "metadata": {},
   "outputs": [
    {
     "name": "stdout",
     "output_type": "stream",
     "text": [
      "\u001b[94m\u001b[1mThe shape of the max per day precipitation dataframe is:(12, 2)\u001b[0m\n"
     ]
    },
    {
     "data": {
      "text/html": [
       "<div>\n",
       "<style scoped>\n",
       "    .dataframe tbody tr th:only-of-type {\n",
       "        vertical-align: middle;\n",
       "    }\n",
       "\n",
       "    .dataframe tbody tr th {\n",
       "        vertical-align: top;\n",
       "    }\n",
       "\n",
       "    .dataframe thead th {\n",
       "        text-align: right;\n",
       "    }\n",
       "</style>\n",
       "<table border=\"1\" class=\"dataframe\">\n",
       "  <thead>\n",
       "    <tr style=\"text-align: right;\">\n",
       "      <th></th>\n",
       "      <th>Date</th>\n",
       "      <th>Value</th>\n",
       "    </tr>\n",
       "  </thead>\n",
       "  <tbody>\n",
       "    <tr>\n",
       "      <th>0</th>\n",
       "      <td>2017-08-20</td>\n",
       "      <td>0.00</td>\n",
       "    </tr>\n",
       "    <tr>\n",
       "      <th>1</th>\n",
       "      <td>2017-08-21</td>\n",
       "      <td>0.00</td>\n",
       "    </tr>\n",
       "    <tr>\n",
       "      <th>2</th>\n",
       "      <td>2017-08-22</td>\n",
       "      <td>0.02</td>\n",
       "    </tr>\n",
       "    <tr>\n",
       "      <th>3</th>\n",
       "      <td>2017-08-23</td>\n",
       "      <td>0.00</td>\n",
       "    </tr>\n",
       "    <tr>\n",
       "      <th>4</th>\n",
       "      <td>2017-08-24</td>\n",
       "      <td>0.20</td>\n",
       "    </tr>\n",
       "  </tbody>\n",
       "</table>\n",
       "</div>"
      ],
      "text/plain": [
       "         Date  Value\n",
       "0  2017-08-20   0.00\n",
       "1  2017-08-21   0.00\n",
       "2  2017-08-22   0.02\n",
       "3  2017-08-23   0.00\n",
       "4  2017-08-24   0.20"
      ]
     },
     "execution_count": 14,
     "metadata": {},
     "output_type": "execute_result"
    }
   ],
   "source": [
    "# Let's groupby value column by date and count the maximum ocurrences\n",
    "grouped_count = df_prcp[\"Value\"].groupby(df_prcp[\"Date\"]) # Create a GroupBy object\n",
    "# Let's create a dataframe with maximum precipitation per day\n",
    "df_prcp_max_unsorted = grouped_count.max().to_frame(\"Value\")\n",
    "# Let's sort the dataframe by date\n",
    "df_prcp_max = df_prcp_max_unsorted.sort_values(by=\"Date\",ascending=True)\n",
    "# Let's reset index in the new dataframe\n",
    "df_prcp_max.reset_index(inplace=True)\n",
    "# Save the dataframe to the output file\n",
    "df_prcp_max.to_csv(\"Output_Data/Harvey_Prcp_max.csv\", index=False, encoding=\"utf-8\")\n",
    "# Display the dataframe\n",
    "print('\\033[94m'+'\\033[1m'+\"The shape of the max per day precipitation dataframe is:{}\".format(df_prcp_max.shape)+'\\033[0m')\n",
    "df_prcp_max.head()"
   ]
  },
  {
   "cell_type": "markdown",
   "metadata": {},
   "source": [
    "## Maximum Temperature in Rockport when hurricane Harvey made landfall"
   ]
  },
  {
   "cell_type": "code",
   "execution_count": 15,
   "metadata": {},
   "outputs": [
    {
     "name": "stdout",
     "output_type": "stream",
     "text": [
      "\u001b[94m\u001b[1mThe shape of the maximum temperature dataframe is:(33, 7)\u001b[0m\n"
     ]
    },
    {
     "data": {
      "text/html": [
       "<div>\n",
       "<style scoped>\n",
       "    .dataframe tbody tr th:only-of-type {\n",
       "        vertical-align: middle;\n",
       "    }\n",
       "\n",
       "    .dataframe tbody tr th {\n",
       "        vertical-align: top;\n",
       "    }\n",
       "\n",
       "    .dataframe thead th {\n",
       "        text-align: right;\n",
       "    }\n",
       "</style>\n",
       "<table border=\"1\" class=\"dataframe\">\n",
       "  <thead>\n",
       "    <tr style=\"text-align: right;\">\n",
       "      <th></th>\n",
       "      <th>DataType</th>\n",
       "      <th>Date</th>\n",
       "      <th>Station id</th>\n",
       "      <th>Value</th>\n",
       "      <th>Station name</th>\n",
       "      <th>Latitude</th>\n",
       "      <th>Longitude</th>\n",
       "    </tr>\n",
       "  </thead>\n",
       "  <tbody>\n",
       "    <tr>\n",
       "      <th>0</th>\n",
       "      <td>TMAX</td>\n",
       "      <td>2017-08-20</td>\n",
       "      <td>GHCND:USW00012926</td>\n",
       "      <td>94.0</td>\n",
       "      <td>CORPUS CHRISTI NAS, TX US</td>\n",
       "      <td>27.68333</td>\n",
       "      <td>-97.28333</td>\n",
       "    </tr>\n",
       "    <tr>\n",
       "      <th>1</th>\n",
       "      <td>TMAX</td>\n",
       "      <td>2017-08-20</td>\n",
       "      <td>GHCND:USC00417176</td>\n",
       "      <td>89.0</td>\n",
       "      <td>PORT ARANSAS 11 SSW, TX US</td>\n",
       "      <td>27.69980</td>\n",
       "      <td>-97.15800</td>\n",
       "    </tr>\n",
       "    <tr>\n",
       "      <th>2</th>\n",
       "      <td>TMAX</td>\n",
       "      <td>2017-08-20</td>\n",
       "      <td>GHCND:USW00023906</td>\n",
       "      <td>92.0</td>\n",
       "      <td>PORT ARANSAS 32 NNE, TX US</td>\n",
       "      <td>28.30450</td>\n",
       "      <td>-96.82300</td>\n",
       "    </tr>\n",
       "    <tr>\n",
       "      <th>3</th>\n",
       "      <td>TMAX</td>\n",
       "      <td>2017-08-20</td>\n",
       "      <td>GHCND:USW00012972</td>\n",
       "      <td>94.0</td>\n",
       "      <td>ROCKPORT ARANSAS CO AIRPORT, TX US</td>\n",
       "      <td>28.08361</td>\n",
       "      <td>-97.04639</td>\n",
       "    </tr>\n",
       "    <tr>\n",
       "      <th>4</th>\n",
       "      <td>TMAX</td>\n",
       "      <td>2017-08-20</td>\n",
       "      <td>GHCND:USW00012946</td>\n",
       "      <td>95.0</td>\n",
       "      <td>CORPUS CHRISTI CABANISS FIELD NAVAL OUTLYING F...</td>\n",
       "      <td>27.70000</td>\n",
       "      <td>-97.43333</td>\n",
       "    </tr>\n",
       "  </tbody>\n",
       "</table>\n",
       "</div>"
      ],
      "text/plain": [
       "  DataType        Date         Station id  Value  \\\n",
       "0     TMAX  2017-08-20  GHCND:USW00012926   94.0   \n",
       "1     TMAX  2017-08-20  GHCND:USC00417176   89.0   \n",
       "2     TMAX  2017-08-20  GHCND:USW00023906   92.0   \n",
       "3     TMAX  2017-08-20  GHCND:USW00012972   94.0   \n",
       "4     TMAX  2017-08-20  GHCND:USW00012946   95.0   \n",
       "\n",
       "                                        Station name  Latitude  Longitude  \n",
       "0                          CORPUS CHRISTI NAS, TX US  27.68333  -97.28333  \n",
       "1                         PORT ARANSAS 11 SSW, TX US  27.69980  -97.15800  \n",
       "2                         PORT ARANSAS 32 NNE, TX US  28.30450  -96.82300  \n",
       "3                 ROCKPORT ARANSAS CO AIRPORT, TX US  28.08361  -97.04639  \n",
       "4  CORPUS CHRISTI CABANISS FIELD NAVAL OUTLYING F...  27.70000  -97.43333  "
      ]
     },
     "execution_count": 15,
     "metadata": {},
     "output_type": "execute_result"
    }
   ],
   "source": [
    "# Let's create maximum temperature dataframe\n",
    "df_MaxTemp_unsorted = df_RckPrtWeather.loc[(df_RckPrtWeather[\"DataType\"]==\"TMAX\"),:]\n",
    "# Let's sort the dataframe by Date\n",
    "df_MaxTemp = df_MaxTemp_unsorted.sort_values(by=\"Date\",ascending=True)\n",
    "# Let's reset index in the new dataframe\n",
    "df_MaxTemp.reset_index(drop = True, inplace=True)\n",
    "# Save the dataframe to the output file\n",
    "df_MaxTemp.to_csv(\"Output_Data/Harvey_MaxTemp.csv\", index=False, encoding=\"utf-8\")\n",
    "# Display the dataframe\n",
    "print('\\033[94m'+'\\033[1m'+\"The shape of the maximum temperature dataframe is:{}\".format(df_MaxTemp.shape)+'\\033[0m')\n",
    "df_MaxTemp.head()"
   ]
  },
  {
   "cell_type": "markdown",
   "metadata": {},
   "source": [
    "## Minimum Temperature in Rockport when hurricane Harvey made landfall"
   ]
  },
  {
   "cell_type": "code",
   "execution_count": 16,
   "metadata": {},
   "outputs": [
    {
     "name": "stdout",
     "output_type": "stream",
     "text": [
      "\u001b[94m\u001b[1mThe shape of the minimum temperature dataframe is:(34, 7)\u001b[0m\n"
     ]
    },
    {
     "data": {
      "text/html": [
       "<div>\n",
       "<style scoped>\n",
       "    .dataframe tbody tr th:only-of-type {\n",
       "        vertical-align: middle;\n",
       "    }\n",
       "\n",
       "    .dataframe tbody tr th {\n",
       "        vertical-align: top;\n",
       "    }\n",
       "\n",
       "    .dataframe thead th {\n",
       "        text-align: right;\n",
       "    }\n",
       "</style>\n",
       "<table border=\"1\" class=\"dataframe\">\n",
       "  <thead>\n",
       "    <tr style=\"text-align: right;\">\n",
       "      <th></th>\n",
       "      <th>DataType</th>\n",
       "      <th>Date</th>\n",
       "      <th>Station id</th>\n",
       "      <th>Value</th>\n",
       "      <th>Station name</th>\n",
       "      <th>Latitude</th>\n",
       "      <th>Longitude</th>\n",
       "    </tr>\n",
       "  </thead>\n",
       "  <tbody>\n",
       "    <tr>\n",
       "      <th>0</th>\n",
       "      <td>TMIN</td>\n",
       "      <td>2017-08-20</td>\n",
       "      <td>GHCND:USW00012926</td>\n",
       "      <td>80.0</td>\n",
       "      <td>CORPUS CHRISTI NAS, TX US</td>\n",
       "      <td>27.68333</td>\n",
       "      <td>-97.28333</td>\n",
       "    </tr>\n",
       "    <tr>\n",
       "      <th>1</th>\n",
       "      <td>TMIN</td>\n",
       "      <td>2017-08-20</td>\n",
       "      <td>GHCND:USC00417176</td>\n",
       "      <td>78.0</td>\n",
       "      <td>PORT ARANSAS 11 SSW, TX US</td>\n",
       "      <td>27.69980</td>\n",
       "      <td>-97.15800</td>\n",
       "    </tr>\n",
       "    <tr>\n",
       "      <th>2</th>\n",
       "      <td>TMIN</td>\n",
       "      <td>2017-08-20</td>\n",
       "      <td>GHCND:USW00012972</td>\n",
       "      <td>79.0</td>\n",
       "      <td>ROCKPORT ARANSAS CO AIRPORT, TX US</td>\n",
       "      <td>28.08361</td>\n",
       "      <td>-97.04639</td>\n",
       "    </tr>\n",
       "    <tr>\n",
       "      <th>3</th>\n",
       "      <td>TMIN</td>\n",
       "      <td>2017-08-20</td>\n",
       "      <td>GHCND:USW00012946</td>\n",
       "      <td>77.0</td>\n",
       "      <td>CORPUS CHRISTI CABANISS FIELD NAVAL OUTLYING F...</td>\n",
       "      <td>27.70000</td>\n",
       "      <td>-97.43333</td>\n",
       "    </tr>\n",
       "    <tr>\n",
       "      <th>4</th>\n",
       "      <td>TMIN</td>\n",
       "      <td>2017-08-20</td>\n",
       "      <td>GHCND:USW00023906</td>\n",
       "      <td>71.0</td>\n",
       "      <td>PORT ARANSAS 32 NNE, TX US</td>\n",
       "      <td>28.30450</td>\n",
       "      <td>-96.82300</td>\n",
       "    </tr>\n",
       "  </tbody>\n",
       "</table>\n",
       "</div>"
      ],
      "text/plain": [
       "  DataType        Date         Station id  Value  \\\n",
       "0     TMIN  2017-08-20  GHCND:USW00012926   80.0   \n",
       "1     TMIN  2017-08-20  GHCND:USC00417176   78.0   \n",
       "2     TMIN  2017-08-20  GHCND:USW00012972   79.0   \n",
       "3     TMIN  2017-08-20  GHCND:USW00012946   77.0   \n",
       "4     TMIN  2017-08-20  GHCND:USW00023906   71.0   \n",
       "\n",
       "                                        Station name  Latitude  Longitude  \n",
       "0                          CORPUS CHRISTI NAS, TX US  27.68333  -97.28333  \n",
       "1                         PORT ARANSAS 11 SSW, TX US  27.69980  -97.15800  \n",
       "2                 ROCKPORT ARANSAS CO AIRPORT, TX US  28.08361  -97.04639  \n",
       "3  CORPUS CHRISTI CABANISS FIELD NAVAL OUTLYING F...  27.70000  -97.43333  \n",
       "4                         PORT ARANSAS 32 NNE, TX US  28.30450  -96.82300  "
      ]
     },
     "execution_count": 16,
     "metadata": {},
     "output_type": "execute_result"
    }
   ],
   "source": [
    "# Let's create minimum temperature dataframe\n",
    "df_MinTemp_unsorted = df_RckPrtWeather.loc[(df_RckPrtWeather[\"DataType\"]==\"TMIN\"),:]\n",
    "# Let's sort the dataframe by Date\n",
    "df_MinTemp = df_MinTemp_unsorted.sort_values(by=\"Date\",ascending=True)\n",
    "# Let's reset index in the new dataframe\n",
    "df_MinTemp.reset_index(drop = True, inplace=True)\n",
    "# Save the dataframe to the output file\n",
    "df_MinTemp.to_csv(\"Output_Data/Harvey_MinTemp.csv\", index=False, encoding=\"utf-8\")\n",
    "# Display the dataframe\n",
    "print('\\033[94m'+'\\033[1m'+\"The shape of the minimum temperature dataframe is:{}\".format(df_MinTemp.shape)+'\\033[0m')\n",
    "df_MinTemp.head()"
   ]
  },
  {
   "cell_type": "markdown",
   "metadata": {},
   "source": [
    "## Average daily wind speed in Rockport when hurricane Harvey made landfall"
   ]
  },
  {
   "cell_type": "code",
   "execution_count": 17,
   "metadata": {},
   "outputs": [
    {
     "name": "stdout",
     "output_type": "stream",
     "text": [
      "\u001b[94m\u001b[1mThe shape of the daily wind speed dataframe is:(18, 7)\u001b[0m\n"
     ]
    },
    {
     "data": {
      "text/html": [
       "<div>\n",
       "<style scoped>\n",
       "    .dataframe tbody tr th:only-of-type {\n",
       "        vertical-align: middle;\n",
       "    }\n",
       "\n",
       "    .dataframe tbody tr th {\n",
       "        vertical-align: top;\n",
       "    }\n",
       "\n",
       "    .dataframe thead th {\n",
       "        text-align: right;\n",
       "    }\n",
       "</style>\n",
       "<table border=\"1\" class=\"dataframe\">\n",
       "  <thead>\n",
       "    <tr style=\"text-align: right;\">\n",
       "      <th></th>\n",
       "      <th>DataType</th>\n",
       "      <th>Date</th>\n",
       "      <th>Station id</th>\n",
       "      <th>Value</th>\n",
       "      <th>Station name</th>\n",
       "      <th>Latitude</th>\n",
       "      <th>Longitude</th>\n",
       "    </tr>\n",
       "  </thead>\n",
       "  <tbody>\n",
       "    <tr>\n",
       "      <th>0</th>\n",
       "      <td>AWND</td>\n",
       "      <td>2017-08-20</td>\n",
       "      <td>GHCND:USW00012926</td>\n",
       "      <td>11.6</td>\n",
       "      <td>CORPUS CHRISTI NAS, TX US</td>\n",
       "      <td>27.68333</td>\n",
       "      <td>-97.28333</td>\n",
       "    </tr>\n",
       "    <tr>\n",
       "      <th>1</th>\n",
       "      <td>AWND</td>\n",
       "      <td>2017-08-20</td>\n",
       "      <td>GHCND:USW00012972</td>\n",
       "      <td>10.1</td>\n",
       "      <td>ROCKPORT ARANSAS CO AIRPORT, TX US</td>\n",
       "      <td>28.08361</td>\n",
       "      <td>-97.04639</td>\n",
       "    </tr>\n",
       "    <tr>\n",
       "      <th>2</th>\n",
       "      <td>AWND</td>\n",
       "      <td>2017-08-20</td>\n",
       "      <td>GHCND:USW00012946</td>\n",
       "      <td>8.9</td>\n",
       "      <td>CORPUS CHRISTI CABANISS FIELD NAVAL OUTLYING F...</td>\n",
       "      <td>27.70000</td>\n",
       "      <td>-97.43333</td>\n",
       "    </tr>\n",
       "    <tr>\n",
       "      <th>3</th>\n",
       "      <td>AWND</td>\n",
       "      <td>2017-08-21</td>\n",
       "      <td>GHCND:USW00012946</td>\n",
       "      <td>8.9</td>\n",
       "      <td>CORPUS CHRISTI CABANISS FIELD NAVAL OUTLYING F...</td>\n",
       "      <td>27.70000</td>\n",
       "      <td>-97.43333</td>\n",
       "    </tr>\n",
       "    <tr>\n",
       "      <th>4</th>\n",
       "      <td>AWND</td>\n",
       "      <td>2017-08-21</td>\n",
       "      <td>GHCND:USW00012926</td>\n",
       "      <td>11.6</td>\n",
       "      <td>CORPUS CHRISTI NAS, TX US</td>\n",
       "      <td>27.68333</td>\n",
       "      <td>-97.28333</td>\n",
       "    </tr>\n",
       "  </tbody>\n",
       "</table>\n",
       "</div>"
      ],
      "text/plain": [
       "  DataType        Date         Station id  Value  \\\n",
       "0     AWND  2017-08-20  GHCND:USW00012926   11.6   \n",
       "1     AWND  2017-08-20  GHCND:USW00012972   10.1   \n",
       "2     AWND  2017-08-20  GHCND:USW00012946    8.9   \n",
       "3     AWND  2017-08-21  GHCND:USW00012946    8.9   \n",
       "4     AWND  2017-08-21  GHCND:USW00012926   11.6   \n",
       "\n",
       "                                        Station name  Latitude  Longitude  \n",
       "0                          CORPUS CHRISTI NAS, TX US  27.68333  -97.28333  \n",
       "1                 ROCKPORT ARANSAS CO AIRPORT, TX US  28.08361  -97.04639  \n",
       "2  CORPUS CHRISTI CABANISS FIELD NAVAL OUTLYING F...  27.70000  -97.43333  \n",
       "3  CORPUS CHRISTI CABANISS FIELD NAVAL OUTLYING F...  27.70000  -97.43333  \n",
       "4                          CORPUS CHRISTI NAS, TX US  27.68333  -97.28333  "
      ]
     },
     "execution_count": 17,
     "metadata": {},
     "output_type": "execute_result"
    }
   ],
   "source": [
    "# Let's create average daily windspeed dataframe\n",
    "df_WndSpd_unsorted = df_RckPrtWeather.loc[(df_RckPrtWeather[\"DataType\"]==\"AWND\"),:]\n",
    "# Let's sort the dataframe by Date\n",
    "df_WndSpd = df_WndSpd_unsorted.sort_values(by=\"Date\",ascending=True)\n",
    "# Let's reset index in the new dataframe\n",
    "df_WndSpd.reset_index(drop = True, inplace=True)\n",
    "# Save the dataframe to the output file\n",
    "df_WndSpd.to_csv(\"Output_Data/Harvey_AvgWindSpeed.csv\", index=False, encoding=\"utf-8\")\n",
    "print('\\033[94m'+'\\033[1m'+\"The shape of the daily wind speed dataframe is:{}\".format(df_WndSpd.shape)+'\\033[0m')\n",
    "df_WndSpd.head()"
   ]
  },
  {
   "cell_type": "markdown",
   "metadata": {},
   "source": [
    "## Fastest 5 second windspeed in Rockport when hurricane Harvey made landfall"
   ]
  },
  {
   "cell_type": "code",
   "execution_count": 18,
   "metadata": {},
   "outputs": [
    {
     "name": "stdout",
     "output_type": "stream",
     "text": [
      "\u001b[94m\u001b[1mThe shape of the daily wind speed dataframe is:(21, 7)\u001b[0m\n"
     ]
    },
    {
     "data": {
      "text/html": [
       "<div>\n",
       "<style scoped>\n",
       "    .dataframe tbody tr th:only-of-type {\n",
       "        vertical-align: middle;\n",
       "    }\n",
       "\n",
       "    .dataframe tbody tr th {\n",
       "        vertical-align: top;\n",
       "    }\n",
       "\n",
       "    .dataframe thead th {\n",
       "        text-align: right;\n",
       "    }\n",
       "</style>\n",
       "<table border=\"1\" class=\"dataframe\">\n",
       "  <thead>\n",
       "    <tr style=\"text-align: right;\">\n",
       "      <th></th>\n",
       "      <th>DataType</th>\n",
       "      <th>Date</th>\n",
       "      <th>Station id</th>\n",
       "      <th>Value</th>\n",
       "      <th>Station name</th>\n",
       "      <th>Latitude</th>\n",
       "      <th>Longitude</th>\n",
       "    </tr>\n",
       "  </thead>\n",
       "  <tbody>\n",
       "    <tr>\n",
       "      <th>0</th>\n",
       "      <td>WSF5</td>\n",
       "      <td>2017-08-20</td>\n",
       "      <td>GHCND:USW00012926</td>\n",
       "      <td>23.9</td>\n",
       "      <td>CORPUS CHRISTI NAS, TX US</td>\n",
       "      <td>27.68333</td>\n",
       "      <td>-97.28333</td>\n",
       "    </tr>\n",
       "    <tr>\n",
       "      <th>1</th>\n",
       "      <td>WSF5</td>\n",
       "      <td>2017-08-20</td>\n",
       "      <td>GHCND:USW00012972</td>\n",
       "      <td>19.9</td>\n",
       "      <td>ROCKPORT ARANSAS CO AIRPORT, TX US</td>\n",
       "      <td>28.08361</td>\n",
       "      <td>-97.04639</td>\n",
       "    </tr>\n",
       "    <tr>\n",
       "      <th>2</th>\n",
       "      <td>WSF5</td>\n",
       "      <td>2017-08-20</td>\n",
       "      <td>GHCND:USW00012946</td>\n",
       "      <td>25.9</td>\n",
       "      <td>CORPUS CHRISTI CABANISS FIELD NAVAL OUTLYING F...</td>\n",
       "      <td>27.70000</td>\n",
       "      <td>-97.43333</td>\n",
       "    </tr>\n",
       "    <tr>\n",
       "      <th>3</th>\n",
       "      <td>WSF5</td>\n",
       "      <td>2017-08-21</td>\n",
       "      <td>GHCND:USW00012926</td>\n",
       "      <td>23.9</td>\n",
       "      <td>CORPUS CHRISTI NAS, TX US</td>\n",
       "      <td>27.68333</td>\n",
       "      <td>-97.28333</td>\n",
       "    </tr>\n",
       "    <tr>\n",
       "      <th>4</th>\n",
       "      <td>WSF5</td>\n",
       "      <td>2017-08-21</td>\n",
       "      <td>GHCND:USW00012946</td>\n",
       "      <td>23.9</td>\n",
       "      <td>CORPUS CHRISTI CABANISS FIELD NAVAL OUTLYING F...</td>\n",
       "      <td>27.70000</td>\n",
       "      <td>-97.43333</td>\n",
       "    </tr>\n",
       "  </tbody>\n",
       "</table>\n",
       "</div>"
      ],
      "text/plain": [
       "  DataType        Date         Station id  Value  \\\n",
       "0     WSF5  2017-08-20  GHCND:USW00012926   23.9   \n",
       "1     WSF5  2017-08-20  GHCND:USW00012972   19.9   \n",
       "2     WSF5  2017-08-20  GHCND:USW00012946   25.9   \n",
       "3     WSF5  2017-08-21  GHCND:USW00012926   23.9   \n",
       "4     WSF5  2017-08-21  GHCND:USW00012946   23.9   \n",
       "\n",
       "                                        Station name  Latitude  Longitude  \n",
       "0                          CORPUS CHRISTI NAS, TX US  27.68333  -97.28333  \n",
       "1                 ROCKPORT ARANSAS CO AIRPORT, TX US  28.08361  -97.04639  \n",
       "2  CORPUS CHRISTI CABANISS FIELD NAVAL OUTLYING F...  27.70000  -97.43333  \n",
       "3                          CORPUS CHRISTI NAS, TX US  27.68333  -97.28333  \n",
       "4  CORPUS CHRISTI CABANISS FIELD NAVAL OUTLYING F...  27.70000  -97.43333  "
      ]
     },
     "execution_count": 18,
     "metadata": {},
     "output_type": "execute_result"
    }
   ],
   "source": [
    "# Let's create fastest 5 second windspeed dataframe\n",
    "df_WSF5_unsorted = df_RckPrtWeather.loc[(df_RckPrtWeather[\"DataType\"]==\"WSF5\"),:]\n",
    "# Let's sort the dataframe by Date\n",
    "df_WSF5 = df_WSF5_unsorted.sort_values(by=\"Date\",ascending=True)\n",
    "# Let's reset index in the new dataframe\n",
    "df_WSF5.reset_index(drop = True, inplace=True)\n",
    "# Save the dataframe to the output file\n",
    "df_WSF5.to_csv(\"Output_Data/Harvey_5secWindSpeed.csv\", index=False, encoding=\"utf-8\")\n",
    "print('\\033[94m'+'\\033[1m'+\"The shape of the daily wind speed dataframe is:{}\".format(df_WSF5.shape)+'\\033[0m')\n",
    "df_WSF5.head()"
   ]
  },
  {
   "cell_type": "markdown",
   "metadata": {},
   "source": [
    "## Fastest 1 minute windspeed in Rockport when hurricane Harvey made landfall"
   ]
  },
  {
   "cell_type": "code",
   "execution_count": 19,
   "metadata": {},
   "outputs": [
    {
     "name": "stdout",
     "output_type": "stream",
     "text": [
      "\u001b[94m\u001b[1mThe shape of the daily wind speed dataframe is:(22, 7)\u001b[0m\n"
     ]
    },
    {
     "data": {
      "text/html": [
       "<div>\n",
       "<style scoped>\n",
       "    .dataframe tbody tr th:only-of-type {\n",
       "        vertical-align: middle;\n",
       "    }\n",
       "\n",
       "    .dataframe tbody tr th {\n",
       "        vertical-align: top;\n",
       "    }\n",
       "\n",
       "    .dataframe thead th {\n",
       "        text-align: right;\n",
       "    }\n",
       "</style>\n",
       "<table border=\"1\" class=\"dataframe\">\n",
       "  <thead>\n",
       "    <tr style=\"text-align: right;\">\n",
       "      <th></th>\n",
       "      <th>DataType</th>\n",
       "      <th>Date</th>\n",
       "      <th>Station id</th>\n",
       "      <th>Value</th>\n",
       "      <th>Station name</th>\n",
       "      <th>Latitude</th>\n",
       "      <th>Longitude</th>\n",
       "    </tr>\n",
       "  </thead>\n",
       "  <tbody>\n",
       "    <tr>\n",
       "      <th>0</th>\n",
       "      <td>WSF2</td>\n",
       "      <td>2017-08-20</td>\n",
       "      <td>GHCND:USW00012926</td>\n",
       "      <td>19.9</td>\n",
       "      <td>CORPUS CHRISTI NAS, TX US</td>\n",
       "      <td>27.68333</td>\n",
       "      <td>-97.28333</td>\n",
       "    </tr>\n",
       "    <tr>\n",
       "      <th>1</th>\n",
       "      <td>WSF2</td>\n",
       "      <td>2017-08-20</td>\n",
       "      <td>GHCND:USW00012972</td>\n",
       "      <td>17.0</td>\n",
       "      <td>ROCKPORT ARANSAS CO AIRPORT, TX US</td>\n",
       "      <td>28.08361</td>\n",
       "      <td>-97.04639</td>\n",
       "    </tr>\n",
       "    <tr>\n",
       "      <th>2</th>\n",
       "      <td>WSF2</td>\n",
       "      <td>2017-08-20</td>\n",
       "      <td>GHCND:USW00012946</td>\n",
       "      <td>21.0</td>\n",
       "      <td>CORPUS CHRISTI CABANISS FIELD NAVAL OUTLYING F...</td>\n",
       "      <td>27.70000</td>\n",
       "      <td>-97.43333</td>\n",
       "    </tr>\n",
       "    <tr>\n",
       "      <th>3</th>\n",
       "      <td>WSF2</td>\n",
       "      <td>2017-08-21</td>\n",
       "      <td>GHCND:USW00012926</td>\n",
       "      <td>19.9</td>\n",
       "      <td>CORPUS CHRISTI NAS, TX US</td>\n",
       "      <td>27.68333</td>\n",
       "      <td>-97.28333</td>\n",
       "    </tr>\n",
       "    <tr>\n",
       "      <th>4</th>\n",
       "      <td>WSF2</td>\n",
       "      <td>2017-08-21</td>\n",
       "      <td>GHCND:USW00012972</td>\n",
       "      <td>18.1</td>\n",
       "      <td>ROCKPORT ARANSAS CO AIRPORT, TX US</td>\n",
       "      <td>28.08361</td>\n",
       "      <td>-97.04639</td>\n",
       "    </tr>\n",
       "  </tbody>\n",
       "</table>\n",
       "</div>"
      ],
      "text/plain": [
       "  DataType        Date         Station id  Value  \\\n",
       "0     WSF2  2017-08-20  GHCND:USW00012926   19.9   \n",
       "1     WSF2  2017-08-20  GHCND:USW00012972   17.0   \n",
       "2     WSF2  2017-08-20  GHCND:USW00012946   21.0   \n",
       "3     WSF2  2017-08-21  GHCND:USW00012926   19.9   \n",
       "4     WSF2  2017-08-21  GHCND:USW00012972   18.1   \n",
       "\n",
       "                                        Station name  Latitude  Longitude  \n",
       "0                          CORPUS CHRISTI NAS, TX US  27.68333  -97.28333  \n",
       "1                 ROCKPORT ARANSAS CO AIRPORT, TX US  28.08361  -97.04639  \n",
       "2  CORPUS CHRISTI CABANISS FIELD NAVAL OUTLYING F...  27.70000  -97.43333  \n",
       "3                          CORPUS CHRISTI NAS, TX US  27.68333  -97.28333  \n",
       "4                 ROCKPORT ARANSAS CO AIRPORT, TX US  28.08361  -97.04639  "
      ]
     },
     "execution_count": 19,
     "metadata": {},
     "output_type": "execute_result"
    }
   ],
   "source": [
    "# Let's create fastest 1 minute windspeed dataframe\n",
    "df_WSF2_unsorted = df_RckPrtWeather.loc[(df_RckPrtWeather[\"DataType\"]==\"WSF2\"),:]\n",
    "# Let's sort the dataframe by Date\n",
    "df_WSF2 = df_WSF2_unsorted.sort_values(by=\"Date\",ascending=True)\n",
    "# Let's reset index in the new dataframe\n",
    "df_WSF2.reset_index(drop = True, inplace=True)\n",
    "# Save the dataframe to the output file\n",
    "df_WSF2.to_csv(\"Output_Data/Harvey_1minWindSpeed.csv\", index=False, encoding=\"utf-8\")\n",
    "print('\\033[94m'+'\\033[1m'+\"The shape of the daily wind speed dataframe is:{}\".format(df_WSF2.shape)+'\\033[0m')\n",
    "df_WSF2.head()"
   ]
  },
  {
   "cell_type": "code",
   "execution_count": 30,
   "metadata": {},
   "outputs": [
    {
     "data": {
      "image/png": "[encoded data removed]",
      "text/plain": [
       "<Figure size 864x576 with 1 Axes>"
      ]
     },
     "metadata": {},
     "output_type": "display_data"
    }
   ],
   "source": [
    "import matplotlib.pyplot as plt\n",
    "import numpy as np\n",
    "import seaborn as sns\n",
    "# Set the style for seaborn plot\n",
    "sns.set_style(\"darkgrid\")\n",
    "# Create a font library\n",
    "titlefont = {\"fontname\":\"Times New Roman\"}\n",
    "labelfont = {\"fontname\":\"Arial\"}\n",
    "# Set font scale and reduce grid line width\n",
    "sns.set_context(\"poster\",font_scale=1.4,rc={\"grid.linewidth\":2})\n",
    "# Define the figure size\n",
    "fig = plt.figure(figsize=(12,8))\n",
    "# Define x_data & y_data\n",
    "x_data = df_prcp_max[\"Date\"]\n",
    "y_data = df_prcp_max[\"Value\"]\n",
    "# Make a color map\n",
    "t = np.arange(len(y_data))\n",
    "# Define x_axis for the plot\n",
    "x_axis = np.arange(12)\n",
    "# Define tick locations and place the x_ticks\n",
    "tick_locations = [value for value in x_axis]\n",
    "# Create the tick labels (unique days)\n",
    "x_labels = df_prcp[\"Date\"].unique().tolist()\n",
    "plt.xticks(tick_locations,x_labels,rotation=90,fontsize=14,color=\"black\",**labelfont)\n",
    "# Set the x limits of the current chart\n",
    "plt.xlim(0, len(x_axis)-1)\n",
    "# Set y ticks and y limits of the current chart\n",
    "plt.yticks(fontsize=14, color = \"black\", **labelfont)\n",
    "# Creating padding around the y limits\n",
    "y_pad = abs(0.2*y_data.mean()) # 20% of mean y value\n",
    "# Sets the y limits of the current chart\n",
    "plt.ylim(-0.1,y_data.max()+y_pad )\n",
    "# Plotting the data\n",
    "plt.plot(x_data,y_data,color=\"black\",linewidth = 2)\n",
    "plt.fill_between(x_data,y_data,color = \"blue\", alpha = 0.4)\n",
    "# Creating a vertical line denoting the landfall date\n",
    "plt.vlines(\"2017-08-25\",(y_data.min()-y_pad),(y_data.max()+y_pad),color=\"red\",alpha=0.7,linewidth=4,linestyle=\"dashed\")\n",
    "plt.vlines(\"2017-08-26\",(y_data.min()-y_pad),(y_data.max()+y_pad),color=\"lightblue\",alpha=0.9,linestyle=\"dashed\")\n",
    "# Display x & y-axis labels and a title for the lineplot\n",
    "plt.title(\"Max. Precipitation during Harvey landfall (Rockport, TX)\",fontsize=28,color=\"black\",**titlefont)\n",
    "plt.xlabel(\"Date\",fontsize = 18,color=\"black\",**labelfont)\n",
    "plt.ylabel(\"Maximum Precipitation (inches)\",fontsize = 18,color=\"black\",**labelfont)\n",
    "plt.tight_layout()\n",
    "# Save the figure\n",
    "plt.savefig(\"Output_Data/Max_Harvey_Precipitation.png\")\n",
    "# Display the plot\n",
    "plt.show()"
   ]
  },
  {
   "cell_type": "markdown",
   "metadata": {},
   "source": [
    "## Let's create total precipitation dataframe"
   ]
  },
  {
   "cell_type": "code",
   "execution_count": 21,
   "metadata": {},
   "outputs": [
    {
     "name": "stdout",
     "output_type": "stream",
     "text": [
      "\u001b[94m\u001b[1mThe shape of total precipitation dataframe is:(12, 2)\u001b[0m\n"
     ]
    },
    {
     "data": {
      "text/html": [
       "<div>\n",
       "<style scoped>\n",
       "    .dataframe tbody tr th:only-of-type {\n",
       "        vertical-align: middle;\n",
       "    }\n",
       "\n",
       "    .dataframe tbody tr th {\n",
       "        vertical-align: top;\n",
       "    }\n",
       "\n",
       "    .dataframe thead th {\n",
       "        text-align: right;\n",
       "    }\n",
       "</style>\n",
       "<table border=\"1\" class=\"dataframe\">\n",
       "  <thead>\n",
       "    <tr style=\"text-align: right;\">\n",
       "      <th></th>\n",
       "      <th>Date</th>\n",
       "      <th>Value</th>\n",
       "    </tr>\n",
       "  </thead>\n",
       "  <tbody>\n",
       "    <tr>\n",
       "      <th>0</th>\n",
       "      <td>2017-08-20</td>\n",
       "      <td>0.00</td>\n",
       "    </tr>\n",
       "    <tr>\n",
       "      <th>1</th>\n",
       "      <td>2017-08-21</td>\n",
       "      <td>0.00</td>\n",
       "    </tr>\n",
       "    <tr>\n",
       "      <th>2</th>\n",
       "      <td>2017-08-22</td>\n",
       "      <td>0.02</td>\n",
       "    </tr>\n",
       "    <tr>\n",
       "      <th>3</th>\n",
       "      <td>2017-08-23</td>\n",
       "      <td>0.00</td>\n",
       "    </tr>\n",
       "    <tr>\n",
       "      <th>4</th>\n",
       "      <td>2017-08-24</td>\n",
       "      <td>0.31</td>\n",
       "    </tr>\n",
       "  </tbody>\n",
       "</table>\n",
       "</div>"
      ],
      "text/plain": [
       "         Date  Value\n",
       "0  2017-08-20   0.00\n",
       "1  2017-08-21   0.00\n",
       "2  2017-08-22   0.02\n",
       "3  2017-08-23   0.00\n",
       "4  2017-08-24   0.31"
      ]
     },
     "execution_count": 21,
     "metadata": {},
     "output_type": "execute_result"
    }
   ],
   "source": [
    "# Let's groupby value column by date and count the maximum ocurrences\n",
    "grouped_count = df_prcp[\"Value\"].groupby(df_prcp[\"Date\"]) # Create a GroupBy object\n",
    "# Let's create a dataframe with maximum precipitation per day\n",
    "df_prcp_sum_unsorted = grouped_count.sum().to_frame(\"Value\")\n",
    "# Let's sort the dataframe by date\n",
    "df_prcp_sum = df_prcp_sum_unsorted.sort_values(by=\"Date\",ascending=True)\n",
    "# Let's reset index in the new dataframe\n",
    "df_prcp_sum.reset_index(inplace=True)\n",
    "# Save the dataframe to the output file\n",
    "df_prcp_sum.to_csv(\"Output_Data/Harvey_Prcp_total.csv\", index=False, encoding=\"utf-8\")\n",
    "# Display the dataframe\n",
    "print('\\033[94m'+'\\033[1m'+\"The shape of total precipitation dataframe is:{}\".format(df_prcp_sum.shape)+'\\033[0m')\n",
    "df_prcp_sum.head()"
   ]
  },
  {
   "cell_type": "code",
   "execution_count": 22,
   "metadata": {},
   "outputs": [
    {
     "data": {
      "image/png": "[encoded data removed]",
      "text/plain": [
       "<Figure size 864x576 with 1 Axes>"
      ]
     },
     "metadata": {},
     "output_type": "display_data"
    }
   ],
   "source": [
    "import matplotlib.pyplot as plt\n",
    "import numpy as np\n",
    "import seaborn as sns\n",
    "# Set the style for seaborn plot\n",
    "sns.set_style(\"darkgrid\")\n",
    "# Create a font library\n",
    "titlefont = {\"fontname\":\"Times New Roman\"}\n",
    "labelfont = {\"fontname\":\"Arial\"}\n",
    "# Set font scale and reduce grid line width\n",
    "sns.set_context(\"poster\",font_scale=1.4,rc={\"grid.linewidth\":2})\n",
    "# Define the figure size\n",
    "fig = plt.figure(figsize=(12,8))\n",
    "# Define x_data & y_data\n",
    "x_data = df_prcp_sum[\"Date\"]\n",
    "y_data = df_prcp_sum[\"Value\"]\n",
    "# Make a color map\n",
    "t = np.arange(len(y_data))\n",
    "# Define x_axis for the plot\n",
    "x_axis = np.arange(12)\n",
    "# Define tick locations and place the x_ticks\n",
    "tick_locations = [value for value in x_axis]\n",
    "# Create the tick labels (unique days)\n",
    "x_labels = df_prcp[\"Date\"].unique().tolist()\n",
    "plt.xticks(tick_locations,x_labels,rotation=90,fontsize=14,color=\"black\",**labelfont)\n",
    "# Set the x limits of the current chart\n",
    "plt.xlim(0, len(x_axis)-1)\n",
    "# Set y ticks and y limits of the current chart\n",
    "plt.yticks(fontsize=14, color = \"black\", **labelfont)\n",
    "# Creating padding around the y limits\n",
    "y_pad = abs(0.2*y_data.mean()) # 20% of mean y value\n",
    "# Sets the y limits of the current chart\n",
    "plt.ylim(-0.1,y_data.max()+y_pad )\n",
    "# Plotting the data\n",
    "plt.plot(x_data,y_data,color=\"black\",linewidth = 2)\n",
    "plt.fill_between(x_data,y_data,color = \"blue\", alpha = 0.4)\n",
    "# Creating a vertical line denoting the landfall date\n",
    "plt.vlines(\"2017-08-25\",(y_data.min()-y_pad),(y_data.max()+y_pad),color=\"red\",alpha=0.7,linewidth=4,linestyle=\"dashed\")\n",
    "plt.vlines(\"2017-08-26\",(y_data.min()-y_pad),(y_data.max()+y_pad),color=\"lightblue\",alpha=0.9,linestyle=\"dashed\")\n",
    "# Display x & y-axis labels and a title for the lineplot\n",
    "plt.title(\"Total Precipitation during Harvey landfall (Rockport, TX)\",fontsize=28,color=\"black\",**titlefont)\n",
    "plt.xlabel(\"Date\",fontsize = 18,color=\"black\",**labelfont)\n",
    "plt.ylabel(\"Total Precipitation (inches)\",fontsize = 18,color=\"black\",**labelfont)\n",
    "plt.tight_layout()\n",
    "# Save the figure\n",
    "plt.savefig(\"Output_Data/Total_Harvey_Precipitation.png\")\n",
    "# Display the plot\n",
    "plt.show()"
   ]
  },
  {
   "cell_type": "markdown",
   "metadata": {},
   "source": [
    "## Let's create merged dataframe with minimum and maximum temperatures"
   ]
  },
  {
   "cell_type": "code",
   "execution_count": 23,
   "metadata": {},
   "outputs": [
    {
     "name": "stdout",
     "output_type": "stream",
     "text": [
      "\u001b[94m\u001b[1mThe shape of the min-max temperature dataframe is:(12, 3)\u001b[0m\n"
     ]
    },
    {
     "data": {
      "text/html": [
       "<div>\n",
       "<style scoped>\n",
       "    .dataframe tbody tr th:only-of-type {\n",
       "        vertical-align: middle;\n",
       "    }\n",
       "\n",
       "    .dataframe tbody tr th {\n",
       "        vertical-align: top;\n",
       "    }\n",
       "\n",
       "    .dataframe thead th {\n",
       "        text-align: right;\n",
       "    }\n",
       "</style>\n",
       "<table border=\"1\" class=\"dataframe\">\n",
       "  <thead>\n",
       "    <tr style=\"text-align: right;\">\n",
       "      <th></th>\n",
       "      <th>Date</th>\n",
       "      <th>MaxTemp</th>\n",
       "      <th>MinTemp</th>\n",
       "    </tr>\n",
       "  </thead>\n",
       "  <tbody>\n",
       "    <tr>\n",
       "      <th>0</th>\n",
       "      <td>2017-08-20</td>\n",
       "      <td>95.0</td>\n",
       "      <td>71.0</td>\n",
       "    </tr>\n",
       "    <tr>\n",
       "      <th>1</th>\n",
       "      <td>2017-08-21</td>\n",
       "      <td>94.0</td>\n",
       "      <td>77.0</td>\n",
       "    </tr>\n",
       "    <tr>\n",
       "      <th>2</th>\n",
       "      <td>2017-08-22</td>\n",
       "      <td>94.0</td>\n",
       "      <td>70.0</td>\n",
       "    </tr>\n",
       "    <tr>\n",
       "      <th>3</th>\n",
       "      <td>2017-08-23</td>\n",
       "      <td>95.0</td>\n",
       "      <td>69.0</td>\n",
       "    </tr>\n",
       "    <tr>\n",
       "      <th>4</th>\n",
       "      <td>2017-08-24</td>\n",
       "      <td>94.0</td>\n",
       "      <td>75.0</td>\n",
       "    </tr>\n",
       "  </tbody>\n",
       "</table>\n",
       "</div>"
      ],
      "text/plain": [
       "         Date  MaxTemp  MinTemp\n",
       "0  2017-08-20     95.0     71.0\n",
       "1  2017-08-21     94.0     77.0\n",
       "2  2017-08-22     94.0     70.0\n",
       "3  2017-08-23     95.0     69.0\n",
       "4  2017-08-24     94.0     75.0"
      ]
     },
     "execution_count": 23,
     "metadata": {},
     "output_type": "execute_result"
    }
   ],
   "source": [
    "# A copy of the minimum temperature dataframe with relevant colummns\n",
    "df_min = df_MinTemp[[\"Date\",\"Value\"]]\n",
    "# Let's groupby value column by date and count the minimum ocurrences\n",
    "grouped_count = df_min[\"Value\"].groupby(df_min[\"Date\"]) # Create a GroupBy object\n",
    "# Let's create a dataframe with minimum temperature per day\n",
    "df_min_unsorted = grouped_count.min().to_frame(\"MinTemp\")\n",
    "# Let's sort the dataframe by date\n",
    "df_min = df_min_unsorted.sort_values(by=\"Date\",ascending=True)\n",
    "# Let's reset index in the new dataframe\n",
    "df_min.reset_index(inplace=True)\n",
    "# A copy of the maximum temperature dataframe with relevant colummns\n",
    "df_max = df_MaxTemp[[\"Date\",\"Value\"]]\n",
    "# Let's groupby value column by date and count the maximum ocurrences\n",
    "grouped_count = df_max[\"Value\"].groupby(df_max[\"Date\"]) # Create a GroupBy object\n",
    "# Let's create a dataframe with minimum temperature per day\n",
    "df_max_unsorted = grouped_count.max().to_frame(\"MaxTemp\")\n",
    "# Let's sort the dataframe by date\n",
    "df_max = df_max_unsorted.sort_values(by=\"Date\",ascending=True)\n",
    "# Let's reset index in the new dataframe\n",
    "df_max.reset_index(inplace=True)\n",
    "# Combine the dataframes into a single dataframe\n",
    "df_MinMax = pd.merge(df_max, df_min, how=\"outer\", on=\"Date\")\n",
    "# Save the dataframe to the output file\n",
    "df_MinMax.to_csv(\"Output_Data/Harvey_MinMax_Temp.csv\", index=False, encoding=\"utf-8\")\n",
    "# Display the dataframe\n",
    "print('\\033[94m'+'\\033[1m'+\"The shape of the min-max temperature dataframe is:{}\".format(df_MinMax.shape)+'\\033[0m')\n",
    "df_MinMax.head() # Display the dataframe"
   ]
  },
  {
   "cell_type": "code",
   "execution_count": 29,
   "metadata": {},
   "outputs": [
    {
     "data": {
      "image/png": "[encoded data removed]",
      "text/plain": [
       "<Figure size 864x576 with 1 Axes>"
      ]
     },
     "metadata": {},
     "output_type": "display_data"
    }
   ],
   "source": [
    "import matplotlib.pyplot as plt\n",
    "import numpy as np\n",
    "import seaborn as sns\n",
    "# Set the style for seaborn plot\n",
    "sns.set_style(\"darkgrid\")\n",
    "# Create a font library\n",
    "titlefont = {\"fontname\":\"Times New Roman\"}\n",
    "labelfont = {\"fontname\":\"Arial\"}\n",
    "# Set font scale and reduce grid line width\n",
    "sns.set_context(\"poster\",font_scale=1.4,rc={\"grid.linewidth\":2})\n",
    "# Define the figure size\n",
    "fig = plt.figure(figsize=(12,8))\n",
    "# Define x_data & y_data\n",
    "x_data = df_MinMax[\"Date\"]\n",
    "y_max = df_MinMax[\"MaxTemp\"]\n",
    "y_min = df_MinMax[\"MinTemp\"]\n",
    "# Make a color map\n",
    "t = np.arange(12)\n",
    "# Define x_axis for the plot\n",
    "x_axis = np.arange(12)\n",
    "# Define tick locations and place the x_ticks\n",
    "tick_locations = [value for value in x_axis]\n",
    "# Create the tick labels (unique days)\n",
    "x_labels = df_prcp[\"Date\"].unique().tolist()\n",
    "plt.xticks(tick_locations,x_labels,rotation=90,fontsize=14,color=\"black\",**labelfont)\n",
    "# Set the x limits of the current chart\n",
    "plt.xlim(0, len(x_axis)-1)\n",
    "# Creating padding around the x and y limits\n",
    "y_pad = abs(0.05*y_min.mean()) # 12% of mean y value\n",
    "# Sets the y limits of the current chart\n",
    "plt.ylim(y_min.min()-y_pad,y_max.max()+y_pad )\n",
    "# Set y ticks and y limits of the current chart\n",
    "plt.yticks(fontsize=14, color = \"black\", **labelfont)\n",
    "# Plot Maximum Temperature data\n",
    "plt.plot(x_data,y_max,color=\"red\",linewidth = 2)\n",
    "# Plot Minimum Temperature data\n",
    "plt.plot(x_data,y_min,color=\"orange\",linewidth = 2)\n",
    "# Filling the area below the line plots\n",
    "plt.fill_between(x_data,y_max,color = \"red\", alpha = 0.5)\n",
    "plt.fill_between(x_data,y_min,color = \"yellow\", alpha = 0.5)\n",
    "# Creating a vertical line denoting the landfall date\n",
    "plt.vlines(\"2017-08-25\",(y_min.min()-y_pad),(y_max.max()+y_pad),color=\"blue\",alpha=0.7,linestyle=\"dashed\")\n",
    "plt.vlines(\"2017-08-28\",(y_min.min()-y_pad),(y_max.max()+y_pad),color=\"lightblue\",alpha=0.9,linestyle=\"dashed\")\n",
    "# Display x & y-axis labels and a title for the lineplot\n",
    "plt.title(\"Min. T_min & Max. T_max during Harvey landfall (Rockport, TX)\",fontsize=26,color=\"black\",**titlefont)\n",
    "plt.xlabel(\"Date\",fontsize = 18,color=\"black\",**labelfont)\n",
    "plt.ylabel(\"Min T_min and Max T_max (F)\",fontsize = 18,color=\"black\",**labelfont)\n",
    "plt.tight_layout()\n",
    "# Save the figure\n",
    "plt.savefig(\"Output_Data/Harvey_MinMaxTemp.png\")\n",
    "# Display the plot\n",
    "plt.show()"
   ]
  },
  {
   "cell_type": "markdown",
   "metadata": {},
   "source": [
    "## Let's create merged dataframe with average minimum and maximum temperatures"
   ]
  },
  {
   "cell_type": "code",
   "execution_count": 25,
   "metadata": {},
   "outputs": [
    {
     "name": "stdout",
     "output_type": "stream",
     "text": [
      "\u001b[94m\u001b[1mThe shape of the average min-max temperature dataframe is:(12, 3)\u001b[0m\n"
     ]
    },
    {
     "data": {
      "text/html": [
       "<div>\n",
       "<style scoped>\n",
       "    .dataframe tbody tr th:only-of-type {\n",
       "        vertical-align: middle;\n",
       "    }\n",
       "\n",
       "    .dataframe tbody tr th {\n",
       "        vertical-align: top;\n",
       "    }\n",
       "\n",
       "    .dataframe thead th {\n",
       "        text-align: right;\n",
       "    }\n",
       "</style>\n",
       "<table border=\"1\" class=\"dataframe\">\n",
       "  <thead>\n",
       "    <tr style=\"text-align: right;\">\n",
       "      <th></th>\n",
       "      <th>Date</th>\n",
       "      <th>Max_Avg_Temp</th>\n",
       "      <th>Min_Avg_Temp</th>\n",
       "    </tr>\n",
       "  </thead>\n",
       "  <tbody>\n",
       "    <tr>\n",
       "      <th>0</th>\n",
       "      <td>2017-08-20</td>\n",
       "      <td>92.8</td>\n",
       "      <td>77.0</td>\n",
       "    </tr>\n",
       "    <tr>\n",
       "      <th>1</th>\n",
       "      <td>2017-08-21</td>\n",
       "      <td>92.0</td>\n",
       "      <td>80.0</td>\n",
       "    </tr>\n",
       "    <tr>\n",
       "      <th>2</th>\n",
       "      <td>2017-08-22</td>\n",
       "      <td>92.4</td>\n",
       "      <td>76.4</td>\n",
       "    </tr>\n",
       "    <tr>\n",
       "      <th>3</th>\n",
       "      <td>2017-08-23</td>\n",
       "      <td>92.0</td>\n",
       "      <td>75.5</td>\n",
       "    </tr>\n",
       "    <tr>\n",
       "      <th>4</th>\n",
       "      <td>2017-08-24</td>\n",
       "      <td>92.0</td>\n",
       "      <td>78.0</td>\n",
       "    </tr>\n",
       "  </tbody>\n",
       "</table>\n",
       "</div>"
      ],
      "text/plain": [
       "         Date  Max_Avg_Temp  Min_Avg_Temp\n",
       "0  2017-08-20          92.8          77.0\n",
       "1  2017-08-21          92.0          80.0\n",
       "2  2017-08-22          92.4          76.4\n",
       "3  2017-08-23          92.0          75.5\n",
       "4  2017-08-24          92.0          78.0"
      ]
     },
     "execution_count": 25,
     "metadata": {},
     "output_type": "execute_result"
    }
   ],
   "source": [
    "# A copy of the minimum temperature dataframe with relevant colummns\n",
    "df_min_avg = df_MinTemp[[\"Date\",\"Value\"]]\n",
    "# Let's groupby value column by date and count the minimum ocurrences\n",
    "grouped_count = df_min_avg[\"Value\"].groupby(df_min_avg[\"Date\"]) # Create a GroupBy object\n",
    "# Let's create a dataframe with minimum temperature per day\n",
    "df_min_unsorted = grouped_count.mean().to_frame(\"Min_Avg_Temp\")\n",
    "# Let's sort the dataframe by date\n",
    "df_min_avg = df_min_unsorted.sort_values(by=\"Date\",ascending=True)\n",
    "# Let's reset index in the new dataframe\n",
    "df_min_avg.reset_index(inplace=True)\n",
    "# A copy of the maximum temperature dataframe with relevant colummns\n",
    "df_max_avg = df_MaxTemp[[\"Date\",\"Value\"]]\n",
    "# Let's groupby value column by date and count the maximum ocurrences\n",
    "grouped_count = df_max_avg[\"Value\"].groupby(df_max_avg[\"Date\"]) # Create a GroupBy object\n",
    "# Let's create a dataframe with minimum temperature per day\n",
    "df_max_unsorted = grouped_count.mean().to_frame(\"Max_Avg_Temp\")\n",
    "# Let's sort the dataframe by date\n",
    "df_max_avg = df_max_unsorted.sort_values(by=\"Date\",ascending=True)\n",
    "# Let's reset index in the new dataframe\n",
    "df_max_avg.reset_index(inplace=True)\n",
    "# Combine the dataframes into a single dataframe\n",
    "df_MinMax_avg = pd.merge(df_max_avg, df_min_avg, how=\"outer\", on=\"Date\")\n",
    "# Save the dataframe to the output file\n",
    "df_MinMax_avg.to_csv(\"Output_Data/Harvey_AvgMinMax_Temp.csv\", index=False, encoding=\"utf-8\")\n",
    "# Display the dataframe\n",
    "print('\\033[94m'+'\\033[1m'+\"The shape of the average min-max temperature dataframe is:{}\".format(df_MinMax_avg.shape)+'\\033[0m')\n",
    "df_MinMax_avg.head() # Display the dataframe"
   ]
  },
  {
   "cell_type": "code",
   "execution_count": 28,
   "metadata": {},
   "outputs": [
    {
     "data": {
      "image/png": "[encoded data removed]",
      "text/plain": [
       "<Figure size 864x576 with 1 Axes>"
      ]
     },
     "metadata": {},
     "output_type": "display_data"
    }
   ],
   "source": [
    "import matplotlib.pyplot as plt\n",
    "import numpy as np\n",
    "import seaborn as sns\n",
    "# Set the style for seaborn plot\n",
    "sns.set_style(\"darkgrid\")\n",
    "# Create a font library\n",
    "titlefont = {\"fontname\":\"Times New Roman\"}\n",
    "labelfont = {\"fontname\":\"Arial\"}\n",
    "# Set font scale and reduce grid line width\n",
    "sns.set_context(\"poster\",font_scale=1.4,rc={\"grid.linewidth\":2})\n",
    "# Define the figure size\n",
    "fig = plt.figure(figsize=(12,8))\n",
    "# Define x_data & y_data\n",
    "x_data = df_MinMax_avg[\"Date\"]\n",
    "y_max = df_MinMax_avg[\"Max_Avg_Temp\"]\n",
    "y_min = df_MinMax_avg[\"Min_Avg_Temp\"]\n",
    "# Make a color map\n",
    "t = np.arange(12)\n",
    "# Define x_axis for the plot\n",
    "x_axis = np.arange(12)\n",
    "# Define tick locations and place the x_ticks\n",
    "tick_locations = [value for value in x_axis]\n",
    "# Create the tick labels (unique days)\n",
    "x_labels = df_prcp[\"Date\"].unique().tolist()\n",
    "plt.xticks(tick_locations,x_labels,rotation=90,fontsize=14,color=\"black\",**labelfont)\n",
    "# Set the x limits of the current chart\n",
    "plt.xlim(0, len(x_axis)-1)\n",
    "# Creating padding around the x and y limits\n",
    "y_pad = abs(0.05*y_min.mean()) # 12% of mean y value\n",
    "# Sets the y limits of the current chart\n",
    "plt.ylim(y_min.min()-y_pad,y_max.max()+y_pad )\n",
    "# Set y ticks and y limits of the current chart\n",
    "plt.yticks(fontsize=14, color = \"black\", **labelfont)\n",
    "# Plot Maximum Temperature data\n",
    "plt.plot(x_data,y_max,color=\"red\",linewidth = 2)\n",
    "# Plot Minimum Temperature data\n",
    "plt.plot(x_data,y_min,color=\"orange\",linewidth = 2)\n",
    "# Filling the area below the line plots\n",
    "plt.fill_between(x_data,y_max,color = \"red\", alpha = 0.5)\n",
    "plt.fill_between(x_data,y_min,color = \"yellow\", alpha = 0.5)\n",
    "# Creating a vertical line denoting the landfall date\n",
    "plt.vlines(\"2017-08-25\",(y_min.min()-y_pad),(y_max.max()+y_pad),color=\"blue\",alpha=0.7,linestyle=\"dashed\")\n",
    "plt.vlines(\"2017-08-28\",(y_min.min()-y_pad),(y_max.max()+y_pad),color=\"lightblue\",alpha=0.9,linestyle=\"dashed\")\n",
    "# Display x & y-axis labels and a title for the lineplot\n",
    "plt.title(\"Average T_max & T_min during Harvey (Rockport, TX)\",fontsize=26,color=\"black\",**titlefont)\n",
    "plt.xlabel(\"Date\",fontsize = 18,color=\"black\",**labelfont)\n",
    "plt.ylabel(\"Average T_max & T_min temperatures (F)\",fontsize = 18,color=\"black\",**labelfont)\n",
    "plt.tight_layout()\n",
    "# Save the figure\n",
    "plt.savefig(\"Output_Data/Harvey_MinMaxAvgTemp.png\")\n",
    "# Display the plot\n",
    "plt.show()"
   ]
  },
  {
   "cell_type": "code",
   "execution_count": null,
   "metadata": {},
   "outputs": [],
   "source": []
  }
 ],
 "metadata": {
  "anaconda-cloud": {},
  "kernel_info": {
   "name": "python3"
  },
  "kernelspec": {
   "display_name": "Python 3",
   "language": "python",
   "name": "python3"
  },
  "language_info": {
   "codemirror_mode": {
    "name": "ipython",
    "version": 3
   },
   "file_extension": ".py",
   "mimetype": "text/x-python",
   "name": "python",
   "nbconvert_exporter": "python",
   "pygments_lexer": "ipython3",
   "version": "3.7.6"
  },
  "latex_envs": {
   "LaTeX_envs_menu_present": true,
   "autoclose": false,
   "autocomplete": true,
   "bibliofile": "biblio.bib",
   "cite_by": "apalike",
   "current_citInitial": 1,
   "eqLabelWithNumbers": true,
   "eqNumInitial": 1,
   "hotkeys": {
    "equation": "Ctrl-E",
    "itemize": "Ctrl-I"
   },
   "labels_anchors": false,
   "latex_user_defs": false,
   "report_style_numbering": false,
   "user_envs_cfg": false
  },
  "nteract": {
   "version": "0.12.3"
  }
 },
 "nbformat": 4,
 "nbformat_minor": 2
}
